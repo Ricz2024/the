{
 "cells": [
  {
   "cell_type": "code",
   "execution_count": 1,
   "id": "f18d7c63",
   "metadata": {},
   "outputs": [],
   "source": [
    "# pip install SpeechRecognition"
   ]
  },
  {
   "cell_type": "code",
   "execution_count": 2,
   "id": "d769cad2",
   "metadata": {},
   "outputs": [],
   "source": [
    "# pip install wave"
   ]
  },
  {
   "cell_type": "code",
   "execution_count": 3,
   "id": "e67d51b5",
   "metadata": {},
   "outputs": [
    {
     "data": {
      "text/plain": [
       "'0.10.1'"
      ]
     },
     "execution_count": 3,
     "metadata": {},
     "output_type": "execute_result"
    }
   ],
   "source": [
    "import librosa\n",
    "librosa.__version__"
   ]
  },
  {
   "cell_type": "code",
   "execution_count": 4,
   "id": "53b48ffd",
   "metadata": {},
   "outputs": [
    {
     "name": "stdout",
     "output_type": "stream",
     "text": [
      "WARNING:tensorflow:From C:\\Users\\mstbl\\anaconda3\\Lib\\site-packages\\keras\\src\\losses.py:2976: The name tf.losses.sparse_softmax_cross_entropy is deprecated. Please use tf.compat.v1.losses.sparse_softmax_cross_entropy instead.\n",
      "\n"
     ]
    }
   ],
   "source": [
    "import wave\n",
    "import os\n",
    "import librosa\n",
    "import numpy as np\n",
    "import pandas as pd\n",
    "import matplotlib.pyplot as plt\n",
    "import seaborn as sns\n",
    "from sklearn.model_selection import train_test_split\n",
    "from sklearn.metrics import confusion_matrix, classification_report, accuracy_score\n",
    "from keras.callbacks import ModelCheckpoint, ReduceLROnPlateau, EarlyStopping\n",
    "from tqdm import tqdm\n",
    "from sklearn.preprocessing import LabelEncoder\n",
    "from keras.utils import to_categorical\n",
    "from keras.models import Sequential, load_model\n",
    "from keras.layers import Dense, Dropout, Flatten, LSTM, Conv2D, MaxPooling2D, Conv1D, MaxPooling1D\n",
    "from keras import optimizers\n",
    "from keras import losses"
   ]
  },
  {
   "cell_type": "code",
   "execution_count": 5,
   "id": "f62c9eb5",
   "metadata": {},
   "outputs": [
    {
     "name": "stdout",
     "output_type": "stream",
     "text": [
      "Dosya İsimleri sayısı: 9113\n",
      "Etiketler sayısı: 9113\n"
     ]
    }
   ],
   "source": [
    "# Ana dizin yolu\n",
    "ana_dizin = 'Bisaya words'  # Gerçek dizin yolunuzu buraya yazın\n",
    "\n",
    "# Dosya isimlerini ve etiketleri saklamak için boş listeler oluştur\n",
    "dosya_isimleri = []\n",
    "etiketler = []\n",
    "\n",
    "# Ana dizindeki tüm alt klasörleri tarayın\n",
    "for klasor in os.listdir(ana_dizin):\n",
    "    klasor_yolu = os.path.join(ana_dizin, klasor)\n",
    "    \n",
    "    # Her klasördeki .wav dosyalarını bulun\n",
    "    for dosya in os.listdir(klasor_yolu):\n",
    "        if dosya.endswith('.wav'):\n",
    "            # Dosya ismini ve etiketi (klasör ismi) listelere ekleyin\n",
    "            dosya_isimleri.append(os.path.join(klasor_yolu, dosya))\n",
    "            etiketler.append(klasor)\n",
    "\n",
    "print('Dosya İsimleri sayısı:', len(dosya_isimleri))\n",
    "print('Etiketler sayısı:', len(etiketler))\n"
   ]
  },
  {
   "cell_type": "code",
   "execution_count": 6,
   "id": "a783a895",
   "metadata": {},
   "outputs": [],
   "source": [
    "def sesi_doldur_kirp(ses, uzunluk=22201): # bir saniye = 22050\n",
    "    if len(ses) >= uzunluk:\n",
    "        # Ses dosyası çok uzun, kırp\n",
    "        return ses[:uzunluk]\n",
    "    else:\n",
    "        # Ses dosyası çok kısa, doldur\n",
    "        return np.pad(ses, (0, uzunluk - len(ses)), \"constant\")"
   ]
  },
  {
   "cell_type": "code",
   "execution_count": null,
   "id": "11879400",
   "metadata": {},
   "outputs": [],
   "source": []
  },
  {
   "cell_type": "code",
   "execution_count": null,
   "id": "e1b7313d",
   "metadata": {},
   "outputs": [],
   "source": []
  },
  {
   "cell_type": "code",
   "execution_count": 7,
   "id": "0e95c5e9",
   "metadata": {},
   "outputs": [
    {
     "name": "stderr",
     "output_type": "stream",
     "text": [
      "İşleniyor:   0%|                                                                 | 1/9113 [00:03<8:26:34,  3.34s/dosya]C:\\Users\\mstbl\\AppData\\Local\\Temp\\ipykernel_17744\\2911718349.py:8: UserWarning: PySoundFile failed. Trying audioread instead.\n",
      "  ses, ornekleme_orani = librosa.load(dosya)\n",
      "C:\\Users\\mstbl\\anaconda3\\Lib\\site-packages\\librosa\\core\\audio.py:183: FutureWarning: librosa.core.audio.__audioread_load\n",
      "\tDeprecated as of librosa version 0.10.0.\n",
      "\tIt will be removed in librosa version 1.0.\n",
      "  y, sr_native = __audioread_load(path, offset, duration, dtype)\n",
      "İşleniyor:   0%|                                                                  | 16/9113 [00:03<21:07,  7.18dosya/s]"
     ]
    },
    {
     "name": "stdout",
     "output_type": "stream",
     "text": [
      "\n"
     ]
    },
    {
     "name": "stderr",
     "output_type": "stream",
     "text": [
      "\r",
      "İşleniyor:   0%|▏                                                                 | 28/9113 [00:03<09:55, 15.26dosya/s]"
     ]
    },
    {
     "name": "stdout",
     "output_type": "stream",
     "text": [
      "\n",
      "\n",
      "\n",
      "\n",
      "\n"
     ]
    },
    {
     "name": "stderr",
     "output_type": "stream",
     "text": [
      "İşleniyor:   0%|▎                                                                 | 45/9113 [00:03<05:19, 28.40dosya/s]"
     ]
    },
    {
     "name": "stdout",
     "output_type": "stream",
     "text": [
      "\n",
      "\n",
      "\n",
      "\n",
      "\n"
     ]
    },
    {
     "name": "stderr",
     "output_type": "stream",
     "text": [
      "İşleniyor:   1%|▍                                                                 | 68/9113 [00:04<03:24, 44.26dosya/s]"
     ]
    },
    {
     "name": "stdout",
     "output_type": "stream",
     "text": [
      "\n",
      "\n",
      "\n",
      "\n"
     ]
    },
    {
     "name": "stderr",
     "output_type": "stream",
     "text": [
      "İşleniyor:   1%|▋                                                                 | 92/9113 [00:04<02:35, 57.92dosya/s]"
     ]
    },
    {
     "name": "stdout",
     "output_type": "stream",
     "text": [
      "\n"
     ]
    },
    {
     "name": "stderr",
     "output_type": "stream",
     "text": [
      "İşleniyor:   1%|▊                                                                | 110/9113 [00:04<02:09, 69.67dosya/s]"
     ]
    },
    {
     "name": "stdout",
     "output_type": "stream",
     "text": [
      "\n",
      "\n",
      "\n",
      "\n"
     ]
    },
    {
     "name": "stderr",
     "output_type": "stream",
     "text": [
      "İşleniyor:   1%|▉                                                                | 134/9113 [00:05<02:13, 67.49dosya/s]"
     ]
    },
    {
     "name": "stdout",
     "output_type": "stream",
     "text": [
      "\n",
      "\n",
      "\n",
      "\n"
     ]
    },
    {
     "name": "stderr",
     "output_type": "stream",
     "text": [
      "İşleniyor:   2%|█                                                                | 153/9113 [00:05<02:12, 67.65dosya/s]"
     ]
    },
    {
     "name": "stdout",
     "output_type": "stream",
     "text": [
      "\n",
      "\n"
     ]
    },
    {
     "name": "stderr",
     "output_type": "stream",
     "text": [
      "İşleniyor:   2%|█▏                                                               | 173/9113 [00:05<01:55, 77.52dosya/s]"
     ]
    },
    {
     "name": "stdout",
     "output_type": "stream",
     "text": [
      "\n",
      "\n",
      "\n",
      "\n"
     ]
    },
    {
     "name": "stderr",
     "output_type": "stream",
     "text": [
      "İşleniyor:   3%|█▋                                                               | 238/9113 [00:06<02:10, 68.22dosya/s]"
     ]
    },
    {
     "name": "stdout",
     "output_type": "stream",
     "text": [
      "\n"
     ]
    },
    {
     "name": "stderr",
     "output_type": "stream",
     "text": [
      "İşleniyor:   3%|█▊                                                               | 257/9113 [00:06<01:50, 80.15dosya/s]"
     ]
    },
    {
     "name": "stdout",
     "output_type": "stream",
     "text": [
      "\n",
      "\n",
      "\n",
      "\n",
      "\n"
     ]
    },
    {
     "name": "stderr",
     "output_type": "stream",
     "text": [
      "İşleniyor:   3%|█▉                                                               | 279/9113 [00:07<01:40, 87.76dosya/s]"
     ]
    },
    {
     "name": "stdout",
     "output_type": "stream",
     "text": [
      "\n",
      "\n",
      "\n",
      "\n",
      "\n"
     ]
    },
    {
     "name": "stderr",
     "output_type": "stream",
     "text": [
      "İşleniyor:   3%|██▏                                                              | 298/9113 [00:07<01:50, 79.94dosya/s]"
     ]
    },
    {
     "name": "stdout",
     "output_type": "stream",
     "text": [
      "\n",
      "\n",
      "\n",
      "\n",
      "\n"
     ]
    },
    {
     "name": "stderr",
     "output_type": "stream",
     "text": [
      "İşleniyor:   4%|██▎                                                              | 326/9113 [00:07<02:01, 72.03dosya/s]"
     ]
    },
    {
     "name": "stdout",
     "output_type": "stream",
     "text": [
      "\n",
      "\n",
      "\n",
      "\n",
      "\n"
     ]
    },
    {
     "name": "stderr",
     "output_type": "stream",
     "text": [
      "İşleniyor:   4%|██▌                                                              | 353/9113 [00:08<01:54, 76.32dosya/s]"
     ]
    },
    {
     "name": "stdout",
     "output_type": "stream",
     "text": [
      "\n",
      "\n",
      "\n",
      "\n"
     ]
    },
    {
     "name": "stderr",
     "output_type": "stream",
     "text": [
      "İşleniyor:   4%|██▋                                                              | 377/9113 [00:08<02:03, 70.93dosya/s]"
     ]
    },
    {
     "name": "stdout",
     "output_type": "stream",
     "text": [
      "\n",
      "\n",
      "\n",
      "\n",
      "\n"
     ]
    },
    {
     "name": "stderr",
     "output_type": "stream",
     "text": [
      "İşleniyor:   4%|██▊                                                              | 395/9113 [00:08<01:58, 73.43dosya/s]"
     ]
    },
    {
     "name": "stdout",
     "output_type": "stream",
     "text": [
      "\n"
     ]
    },
    {
     "name": "stderr",
     "output_type": "stream",
     "text": [
      "İşleniyor:   5%|██▉                                                              | 416/9113 [00:09<01:41, 86.09dosya/s]"
     ]
    },
    {
     "name": "stdout",
     "output_type": "stream",
     "text": [
      "\n",
      "\n",
      "\n",
      "\n",
      "\n",
      "\n"
     ]
    },
    {
     "name": "stderr",
     "output_type": "stream",
     "text": [
      "İşleniyor:   5%|███▏                                                             | 442/9113 [00:09<01:29, 97.30dosya/s]"
     ]
    },
    {
     "name": "stdout",
     "output_type": "stream",
     "text": [
      "\n",
      "\n",
      "\n",
      "\n",
      "\n",
      "\n",
      "\n",
      "\n"
     ]
    },
    {
     "name": "stderr",
     "output_type": "stream",
     "text": [
      "İşleniyor:   5%|███▍                                                             | 475/9113 [00:09<01:45, 81.76dosya/s]"
     ]
    },
    {
     "name": "stdout",
     "output_type": "stream",
     "text": [
      "\n",
      "\n",
      "\n",
      "\n",
      "\n"
     ]
    },
    {
     "name": "stderr",
     "output_type": "stream",
     "text": [
      "İşleniyor:   5%|███▌                                                             | 493/9113 [00:09<01:45, 82.04dosya/s]"
     ]
    },
    {
     "name": "stdout",
     "output_type": "stream",
     "text": [
      "\n",
      "\n",
      "\n",
      "\n",
      "\n"
     ]
    },
    {
     "name": "stderr",
     "output_type": "stream",
     "text": [
      "İşleniyor:   6%|███▋                                                             | 523/9113 [00:10<01:54, 75.10dosya/s]"
     ]
    },
    {
     "name": "stdout",
     "output_type": "stream",
     "text": [
      "\n",
      "\n",
      "\n",
      "\n",
      "\n"
     ]
    },
    {
     "name": "stderr",
     "output_type": "stream",
     "text": [
      "İşleniyor:   6%|███▊                                                             | 541/9113 [00:10<01:50, 77.59dosya/s]"
     ]
    },
    {
     "name": "stdout",
     "output_type": "stream",
     "text": [
      "\n",
      "\n",
      "\n",
      "\n",
      "\n",
      "\n",
      "\n",
      "\n",
      "\n"
     ]
    },
    {
     "name": "stderr",
     "output_type": "stream",
     "text": [
      "İşleniyor:   6%|████▏                                                            | 589/9113 [00:11<02:33, 55.41dosya/s]"
     ]
    },
    {
     "name": "stdout",
     "output_type": "stream",
     "text": [
      "\n"
     ]
    },
    {
     "name": "stderr",
     "output_type": "stream",
     "text": [
      "\r",
      "İşleniyor:   7%|████▎                                                            | 601/9113 [00:11<02:05, 67.90dosya/s]"
     ]
    },
    {
     "name": "stdout",
     "output_type": "stream",
     "text": [
      "\n",
      "\n",
      "\n",
      "\n",
      "\n"
     ]
    },
    {
     "name": "stderr",
     "output_type": "stream",
     "text": [
      "İşleniyor:   7%|████▍                                                            | 627/9113 [00:11<01:58, 71.63dosya/s]"
     ]
    },
    {
     "name": "stdout",
     "output_type": "stream",
     "text": [
      "\n",
      "\n",
      "\n",
      "\n"
     ]
    },
    {
     "name": "stderr",
     "output_type": "stream",
     "text": [
      "İşleniyor:   7%|████▋                                                            | 650/9113 [00:12<02:05, 67.50dosya/s]"
     ]
    },
    {
     "name": "stdout",
     "output_type": "stream",
     "text": [
      "\n"
     ]
    },
    {
     "name": "stderr",
     "output_type": "stream",
     "text": [
      "İşleniyor:   7%|████▊                                                            | 676/9113 [00:12<01:58, 71.30dosya/s]"
     ]
    },
    {
     "name": "stdout",
     "output_type": "stream",
     "text": [
      "\n",
      "\n",
      "\n",
      "\n",
      "\n"
     ]
    },
    {
     "name": "stderr",
     "output_type": "stream",
     "text": [
      "İşleniyor:   8%|█████                                                            | 702/9113 [00:12<01:56, 72.34dosya/s]"
     ]
    },
    {
     "name": "stdout",
     "output_type": "stream",
     "text": [
      "\n",
      "\n",
      "\n",
      "\n",
      "\n"
     ]
    },
    {
     "name": "stderr",
     "output_type": "stream",
     "text": [
      "İşleniyor:   8%|█████▏                                                           | 722/9113 [00:13<01:41, 82.92dosya/s]"
     ]
    },
    {
     "name": "stdout",
     "output_type": "stream",
     "text": [
      "\n",
      "\n",
      "\n",
      "\n",
      "\n"
     ]
    },
    {
     "name": "stderr",
     "output_type": "stream",
     "text": [
      "İşleniyor:   8%|█████▎                                                           | 743/9113 [00:13<01:37, 85.79dosya/s]"
     ]
    },
    {
     "name": "stdout",
     "output_type": "stream",
     "text": [
      "\n",
      "\n",
      "\n",
      "\n",
      "\n"
     ]
    },
    {
     "name": "stderr",
     "output_type": "stream",
     "text": [
      "İşleniyor:   8%|█████▍                                                           | 770/9113 [00:13<01:51, 75.13dosya/s]"
     ]
    },
    {
     "name": "stdout",
     "output_type": "stream",
     "text": [
      "\n",
      "\n",
      "\n",
      "\n",
      "\n"
     ]
    },
    {
     "name": "stderr",
     "output_type": "stream",
     "text": [
      "İşleniyor:   9%|█████▋                                                           | 796/9113 [00:14<01:49, 75.86dosya/s]"
     ]
    },
    {
     "name": "stdout",
     "output_type": "stream",
     "text": [
      "\n",
      "\n",
      "\n",
      "\n",
      "\n"
     ]
    },
    {
     "name": "stderr",
     "output_type": "stream",
     "text": [
      "İşleniyor:   9%|█████▊                                                           | 822/9113 [00:14<01:58, 69.79dosya/s]"
     ]
    },
    {
     "name": "stdout",
     "output_type": "stream",
     "text": [
      "\n",
      "\n",
      "\n",
      "\n"
     ]
    },
    {
     "name": "stderr",
     "output_type": "stream",
     "text": [
      "İşleniyor:   9%|█████▉                                                           | 837/9113 [00:14<02:11, 62.92dosya/s]"
     ]
    },
    {
     "name": "stdout",
     "output_type": "stream",
     "text": [
      "\n"
     ]
    },
    {
     "name": "stderr",
     "output_type": "stream",
     "text": [
      "İşleniyor:   9%|██████▏                                                          | 861/9113 [00:15<02:02, 67.59dosya/s]"
     ]
    },
    {
     "name": "stdout",
     "output_type": "stream",
     "text": [
      "\n",
      "\n",
      "\n",
      "\n",
      "\n"
     ]
    },
    {
     "name": "stderr",
     "output_type": "stream",
     "text": [
      "İşleniyor:  10%|██████▎                                                          | 887/9113 [00:15<02:02, 66.98dosya/s]"
     ]
    },
    {
     "name": "stdout",
     "output_type": "stream",
     "text": [
      "\n",
      "\n",
      "\n",
      "\n",
      "\n"
     ]
    },
    {
     "name": "stderr",
     "output_type": "stream",
     "text": [
      "İşleniyor:  10%|██████▌                                                          | 913/9113 [00:16<01:56, 70.48dosya/s]"
     ]
    },
    {
     "name": "stdout",
     "output_type": "stream",
     "text": [
      "\n",
      "\n",
      "\n",
      "\n",
      "\n"
     ]
    },
    {
     "name": "stderr",
     "output_type": "stream",
     "text": [
      "İşleniyor:  10%|██████▋                                                          | 939/9113 [00:16<01:58, 69.04dosya/s]"
     ]
    },
    {
     "name": "stdout",
     "output_type": "stream",
     "text": [
      "\n",
      "\n",
      "\n",
      "\n"
     ]
    },
    {
     "name": "stderr",
     "output_type": "stream",
     "text": [
      "İşleniyor:  11%|███████                                                          | 997/9113 [00:17<01:40, 80.36dosya/s]"
     ]
    },
    {
     "name": "stdout",
     "output_type": "stream",
     "text": [
      "\n",
      "\n",
      "\n",
      "\n",
      "\n",
      "\n"
     ]
    },
    {
     "name": "stderr",
     "output_type": "stream",
     "text": [
      "İşleniyor:  11%|███████▏                                                        | 1023/9113 [00:17<02:06, 63.95dosya/s]"
     ]
    },
    {
     "name": "stdout",
     "output_type": "stream",
     "text": [
      "\n",
      "\n",
      "\n",
      "\n"
     ]
    },
    {
     "name": "stderr",
     "output_type": "stream",
     "text": [
      "İşleniyor:  12%|███████▍                                                        | 1056/9113 [00:18<01:58, 68.21dosya/s]"
     ]
    },
    {
     "name": "stdout",
     "output_type": "stream",
     "text": [
      "\n",
      "\n",
      "\n",
      "\n",
      "\n"
     ]
    },
    {
     "name": "stderr",
     "output_type": "stream",
     "text": [
      "\r",
      "İşleniyor:  12%|███████▍                                                        | 1064/9113 [00:18<01:59, 67.17dosya/s]"
     ]
    },
    {
     "name": "stdout",
     "output_type": "stream",
     "text": [
      "\n",
      "\n",
      "\n",
      "\n",
      "\n"
     ]
    },
    {
     "name": "stderr",
     "output_type": "stream",
     "text": [
      "İşleniyor:  12%|███████▋                                                        | 1096/9113 [00:18<02:00, 66.46dosya/s]"
     ]
    },
    {
     "name": "stdout",
     "output_type": "stream",
     "text": [
      "\n"
     ]
    },
    {
     "name": "stderr",
     "output_type": "stream",
     "text": [
      "İşleniyor:  12%|███████▊                                                        | 1115/9113 [00:19<01:54, 69.92dosya/s]"
     ]
    },
    {
     "name": "stdout",
     "output_type": "stream",
     "text": [
      "\n",
      "\n",
      "\n",
      "\n",
      "\n"
     ]
    },
    {
     "name": "stderr",
     "output_type": "stream",
     "text": [
      "İşleniyor:  12%|███████▉                                                        | 1136/9113 [00:19<01:48, 73.53dosya/s]"
     ]
    },
    {
     "name": "stdout",
     "output_type": "stream",
     "text": [
      "\n",
      "\n",
      "\n",
      "\n",
      "\n"
     ]
    },
    {
     "name": "stderr",
     "output_type": "stream",
     "text": [
      "İşleniyor:  13%|████████                                                        | 1156/9113 [00:19<01:39, 79.66dosya/s]"
     ]
    },
    {
     "name": "stdout",
     "output_type": "stream",
     "text": [
      "\n",
      "\n",
      "\n",
      "\n",
      "\n"
     ]
    },
    {
     "name": "stderr",
     "output_type": "stream",
     "text": [
      "İşleniyor:  13%|████████▎                                                       | 1182/9113 [00:20<02:02, 64.95dosya/s]"
     ]
    },
    {
     "name": "stdout",
     "output_type": "stream",
     "text": [
      "\n",
      "\n",
      "\n",
      "\n"
     ]
    },
    {
     "name": "stderr",
     "output_type": "stream",
     "text": [
      "İşleniyor:  13%|████████▍                                                       | 1205/9113 [00:20<02:19, 56.50dosya/s]"
     ]
    },
    {
     "name": "stdout",
     "output_type": "stream",
     "text": [
      "\n"
     ]
    },
    {
     "name": "stderr",
     "output_type": "stream",
     "text": [
      "İşleniyor:  14%|████████▋                                                       | 1232/9113 [00:20<01:56, 67.53dosya/s]"
     ]
    },
    {
     "name": "stdout",
     "output_type": "stream",
     "text": [
      "\n",
      "\n",
      "\n",
      "\n",
      "\n"
     ]
    },
    {
     "name": "stderr",
     "output_type": "stream",
     "text": [
      "İşleniyor:  14%|████████▊                                                       | 1251/9113 [00:21<01:42, 76.76dosya/s]"
     ]
    },
    {
     "name": "stdout",
     "output_type": "stream",
     "text": [
      "\n",
      "\n",
      "\n",
      "\n",
      "\n"
     ]
    },
    {
     "name": "stderr",
     "output_type": "stream",
     "text": [
      "İşleniyor:  14%|████████▉                                                       | 1278/9113 [00:21<01:42, 76.61dosya/s]"
     ]
    },
    {
     "name": "stdout",
     "output_type": "stream",
     "text": [
      "\n",
      "\n",
      "\n",
      "\n",
      "\n"
     ]
    },
    {
     "name": "stderr",
     "output_type": "stream",
     "text": [
      "İşleniyor:  14%|█████████▏                                                      | 1303/9113 [00:21<01:48, 71.71dosya/s]"
     ]
    },
    {
     "name": "stdout",
     "output_type": "stream",
     "text": [
      "\n",
      "\n",
      "\n",
      "\n",
      "\n"
     ]
    },
    {
     "name": "stderr",
     "output_type": "stream",
     "text": [
      "İşleniyor:  14%|█████████▎                                                      | 1319/9113 [00:22<01:48, 71.75dosya/s]"
     ]
    },
    {
     "name": "stdout",
     "output_type": "stream",
     "text": [
      "\n",
      "\n",
      "\n",
      "\n"
     ]
    },
    {
     "name": "stderr",
     "output_type": "stream",
     "text": [
      "İşleniyor:  15%|█████████▍                                                      | 1341/9113 [00:22<02:07, 61.14dosya/s]"
     ]
    },
    {
     "name": "stdout",
     "output_type": "stream",
     "text": [
      "\n"
     ]
    },
    {
     "name": "stderr",
     "output_type": "stream",
     "text": [
      "İşleniyor:  15%|█████████▌                                                      | 1361/9113 [00:22<02:23, 54.13dosya/s]"
     ]
    },
    {
     "name": "stdout",
     "output_type": "stream",
     "text": [
      "\n",
      "\n",
      "\n",
      "\n",
      "\n"
     ]
    },
    {
     "name": "stderr",
     "output_type": "stream",
     "text": [
      "İşleniyor:  15%|█████████▊                                                      | 1391/9113 [00:23<02:06, 61.07dosya/s]"
     ]
    },
    {
     "name": "stdout",
     "output_type": "stream",
     "text": [
      "\n",
      "\n",
      "\n",
      "\n",
      "\n"
     ]
    },
    {
     "name": "stderr",
     "output_type": "stream",
     "text": [
      "İşleniyor:  15%|█████████▉                                                      | 1410/9113 [00:23<01:48, 70.88dosya/s]"
     ]
    },
    {
     "name": "stdout",
     "output_type": "stream",
     "text": [
      "\n",
      "\n",
      "\n",
      "\n",
      "\n"
     ]
    },
    {
     "name": "stderr",
     "output_type": "stream",
     "text": [
      "İşleniyor:  16%|██████████                                                      | 1434/9113 [00:23<01:46, 71.96dosya/s]"
     ]
    },
    {
     "name": "stdout",
     "output_type": "stream",
     "text": [
      "\n",
      "\n",
      "\n",
      "\n",
      "\n"
     ]
    },
    {
     "name": "stderr",
     "output_type": "stream",
     "text": [
      "İşleniyor:  16%|██████████▏                                                     | 1452/9113 [00:24<01:46, 72.03dosya/s]"
     ]
    },
    {
     "name": "stdout",
     "output_type": "stream",
     "text": [
      "\n",
      "\n",
      "\n",
      "\n",
      "\n"
     ]
    },
    {
     "name": "stderr",
     "output_type": "stream",
     "text": [
      "İşleniyor:  16%|██████████▍                                                     | 1478/9113 [00:24<01:48, 70.13dosya/s]"
     ]
    },
    {
     "name": "stdout",
     "output_type": "stream",
     "text": [
      "\n",
      "\n",
      "\n",
      "\n"
     ]
    },
    {
     "name": "stderr",
     "output_type": "stream",
     "text": [
      "İşleniyor:  17%|██████████▊                                                     | 1544/9113 [00:25<01:56, 65.23dosya/s]"
     ]
    },
    {
     "name": "stdout",
     "output_type": "stream",
     "text": [
      "\n"
     ]
    },
    {
     "name": "stderr",
     "output_type": "stream",
     "text": [
      "İşleniyor:  17%|███████████                                                     | 1572/9113 [00:26<01:43, 72.92dosya/s]"
     ]
    },
    {
     "name": "stdout",
     "output_type": "stream",
     "text": [
      "\n",
      "\n",
      "\n",
      "\n",
      "\n"
     ]
    },
    {
     "name": "stderr",
     "output_type": "stream",
     "text": [
      "İşleniyor:  17%|███████████▏                                                    | 1588/9113 [00:26<01:51, 67.28dosya/s]"
     ]
    },
    {
     "name": "stdout",
     "output_type": "stream",
     "text": [
      "\n",
      "\n",
      "\n",
      "\n",
      "\n"
     ]
    },
    {
     "name": "stderr",
     "output_type": "stream",
     "text": [
      "İşleniyor:  18%|███████████▎                                                    | 1612/9113 [00:26<01:47, 69.61dosya/s]"
     ]
    },
    {
     "name": "stdout",
     "output_type": "stream",
     "text": [
      "\n",
      "\n",
      "\n",
      "\n",
      "\n"
     ]
    },
    {
     "name": "stderr",
     "output_type": "stream",
     "text": [
      "İşleniyor:  18%|███████████▌                                                    | 1638/9113 [00:26<01:47, 69.59dosya/s]"
     ]
    },
    {
     "name": "stdout",
     "output_type": "stream",
     "text": [
      "\n",
      "\n",
      "\n",
      "\n",
      "\n"
     ]
    },
    {
     "name": "stderr",
     "output_type": "stream",
     "text": [
      "İşleniyor:  18%|███████████▋                                                    | 1657/9113 [00:27<01:41, 73.18dosya/s]"
     ]
    },
    {
     "name": "stdout",
     "output_type": "stream",
     "text": [
      "\n",
      "\n",
      "\n",
      "\n"
     ]
    },
    {
     "name": "stderr",
     "output_type": "stream",
     "text": [
      "İşleniyor:  19%|███████████▉                                                    | 1693/9113 [00:27<02:02, 60.43dosya/s]"
     ]
    },
    {
     "name": "stdout",
     "output_type": "stream",
     "text": [
      "\n"
     ]
    },
    {
     "name": "stderr",
     "output_type": "stream",
     "text": [
      "İşleniyor:  19%|████████████                                                    | 1712/9113 [00:28<01:48, 68.09dosya/s]"
     ]
    },
    {
     "name": "stdout",
     "output_type": "stream",
     "text": [
      "\n",
      "\n",
      "\n",
      "\n",
      "\n"
     ]
    },
    {
     "name": "stderr",
     "output_type": "stream",
     "text": [
      "İşleniyor:  19%|████████████▏                                                   | 1737/9113 [00:28<01:36, 76.27dosya/s]"
     ]
    },
    {
     "name": "stdout",
     "output_type": "stream",
     "text": [
      "\n",
      "\n",
      "\n",
      "\n",
      "\n"
     ]
    },
    {
     "name": "stderr",
     "output_type": "stream",
     "text": [
      "İşleniyor:  19%|████████████▍                                                   | 1763/9113 [00:28<01:43, 70.83dosya/s]"
     ]
    },
    {
     "name": "stdout",
     "output_type": "stream",
     "text": [
      "\n",
      "\n",
      "\n",
      "\n"
     ]
    },
    {
     "name": "stderr",
     "output_type": "stream",
     "text": [
      "İşleniyor:  20%|████████████▌                                                   | 1781/9113 [00:29<01:35, 76.53dosya/s]"
     ]
    },
    {
     "name": "stdout",
     "output_type": "stream",
     "text": [
      "\n",
      "\n",
      "\n",
      "\n",
      "\n"
     ]
    },
    {
     "name": "stderr",
     "output_type": "stream",
     "text": [
      "İşleniyor:  20%|████████████▋                                                   | 1805/9113 [00:29<01:47, 67.94dosya/s]"
     ]
    },
    {
     "name": "stdout",
     "output_type": "stream",
     "text": [
      "\n"
     ]
    },
    {
     "name": "stderr",
     "output_type": "stream",
     "text": [
      "İşleniyor:  20%|████████████▊                                                   | 1823/9113 [00:29<01:35, 76.65dosya/s]"
     ]
    },
    {
     "name": "stdout",
     "output_type": "stream",
     "text": [
      "\n",
      "\n",
      "\n",
      "\n",
      "\n"
     ]
    },
    {
     "name": "stderr",
     "output_type": "stream",
     "text": [
      "İşleniyor:  20%|████████████▉                                                   | 1850/9113 [00:30<01:36, 75.45dosya/s]"
     ]
    },
    {
     "name": "stdout",
     "output_type": "stream",
     "text": [
      "\n",
      "\n",
      "\n",
      "\n",
      "\n"
     ]
    },
    {
     "name": "stderr",
     "output_type": "stream",
     "text": [
      "İşleniyor:  21%|█████████████▏                                                  | 1877/9113 [00:30<01:33, 77.37dosya/s]"
     ]
    },
    {
     "name": "stdout",
     "output_type": "stream",
     "text": [
      "\n",
      "\n",
      "\n",
      "\n",
      "\n"
     ]
    },
    {
     "name": "stderr",
     "output_type": "stream",
     "text": [
      "İşleniyor:  21%|█████████████▍                                                  | 1906/9113 [00:30<01:41, 71.26dosya/s]"
     ]
    },
    {
     "name": "stdout",
     "output_type": "stream",
     "text": [
      "\n",
      "\n",
      "\n",
      "\n"
     ]
    },
    {
     "name": "stderr",
     "output_type": "stream",
     "text": [
      "İşleniyor:  21%|█████████████▋                                                  | 1946/9113 [00:31<01:49, 65.41dosya/s]"
     ]
    },
    {
     "name": "stdout",
     "output_type": "stream",
     "text": [
      "\n"
     ]
    },
    {
     "name": "stderr",
     "output_type": "stream",
     "text": [
      "İşleniyor:  22%|█████████████▊                                                  | 1963/9113 [00:31<01:51, 64.35dosya/s]"
     ]
    },
    {
     "name": "stdout",
     "output_type": "stream",
     "text": [
      "\n",
      "\n",
      "\n",
      "\n"
     ]
    },
    {
     "name": "stderr",
     "output_type": "stream",
     "text": [
      "İşleniyor:  22%|█████████████▉                                                  | 1989/9113 [00:32<01:46, 66.79dosya/s]"
     ]
    },
    {
     "name": "stdout",
     "output_type": "stream",
     "text": [
      "\n",
      "\n",
      "\n",
      "\n",
      "\n",
      "\n"
     ]
    },
    {
     "name": "stderr",
     "output_type": "stream",
     "text": [
      "İşleniyor:  22%|██████████████▏                                                 | 2016/9113 [00:32<01:41, 69.80dosya/s]"
     ]
    },
    {
     "name": "stdout",
     "output_type": "stream",
     "text": [
      "\n",
      "\n",
      "\n",
      "\n",
      "\n"
     ]
    },
    {
     "name": "stderr",
     "output_type": "stream",
     "text": [
      "İşleniyor:  22%|██████████████▎                                                 | 2032/9113 [00:32<01:44, 67.62dosya/s]"
     ]
    },
    {
     "name": "stdout",
     "output_type": "stream",
     "text": [
      "\n",
      "\n",
      "\n",
      "\n",
      "\n"
     ]
    },
    {
     "name": "stderr",
     "output_type": "stream",
     "text": [
      "İşleniyor:  23%|██████████████▍                                                 | 2064/9113 [00:33<01:34, 74.67dosya/s]"
     ]
    },
    {
     "name": "stdout",
     "output_type": "stream",
     "text": [
      "\n",
      "\n",
      "\n",
      "\n",
      "\n",
      "\n",
      "\n",
      "\n",
      "\n"
     ]
    },
    {
     "name": "stderr",
     "output_type": "stream",
     "text": [
      "İşleniyor:  23%|██████████████▋                                                 | 2086/9113 [00:33<01:59, 58.72dosya/s]"
     ]
    },
    {
     "name": "stdout",
     "output_type": "stream",
     "text": [
      "\n"
     ]
    },
    {
     "name": "stderr",
     "output_type": "stream",
     "text": [
      "İşleniyor:  23%|██████████████▊                                                 | 2102/9113 [00:33<01:50, 63.34dosya/s]"
     ]
    },
    {
     "name": "stdout",
     "output_type": "stream",
     "text": [
      "\n",
      "\n",
      "\n",
      "\n"
     ]
    },
    {
     "name": "stderr",
     "output_type": "stream",
     "text": [
      "İşleniyor:  23%|██████████████▉                                                 | 2123/9113 [00:34<01:54, 60.97dosya/s]"
     ]
    },
    {
     "name": "stdout",
     "output_type": "stream",
     "text": [
      "\n"
     ]
    },
    {
     "name": "stderr",
     "output_type": "stream",
     "text": [
      "İşleniyor:  23%|███████████████                                                 | 2141/9113 [00:34<01:49, 63.83dosya/s]"
     ]
    },
    {
     "name": "stdout",
     "output_type": "stream",
     "text": [
      "\n",
      "\n",
      "\n",
      "\n"
     ]
    },
    {
     "name": "stderr",
     "output_type": "stream",
     "text": [
      "İşleniyor:  24%|███████████████▏                                                | 2163/9113 [00:34<01:45, 66.17dosya/s]"
     ]
    },
    {
     "name": "stdout",
     "output_type": "stream",
     "text": [
      "\n"
     ]
    },
    {
     "name": "stderr",
     "output_type": "stream",
     "text": [
      "İşleniyor:  24%|███████████████▎                                                | 2189/9113 [00:35<01:38, 70.03dosya/s]"
     ]
    },
    {
     "name": "stdout",
     "output_type": "stream",
     "text": [
      "\n",
      "\n",
      "\n",
      "\n",
      "\n"
     ]
    },
    {
     "name": "stderr",
     "output_type": "stream",
     "text": [
      "İşleniyor:  24%|███████████████▌                                                | 2216/9113 [00:35<01:35, 72.05dosya/s]"
     ]
    },
    {
     "name": "stdout",
     "output_type": "stream",
     "text": [
      "\n",
      "\n",
      "\n",
      "\n",
      "\n"
     ]
    },
    {
     "name": "stderr",
     "output_type": "stream",
     "text": [
      "İşleniyor:  25%|███████████████▋                                                | 2235/9113 [00:35<01:27, 78.85dosya/s]"
     ]
    },
    {
     "name": "stdout",
     "output_type": "stream",
     "text": [
      "\n",
      "\n",
      "\n",
      "\n",
      "\n"
     ]
    },
    {
     "name": "stderr",
     "output_type": "stream",
     "text": [
      "İşleniyor:  25%|███████████████▊                                                | 2256/9113 [00:36<01:20, 85.08dosya/s]"
     ]
    },
    {
     "name": "stdout",
     "output_type": "stream",
     "text": [
      "\n",
      "\n",
      "\n",
      "\n",
      "\n"
     ]
    },
    {
     "name": "stderr",
     "output_type": "stream",
     "text": [
      "İşleniyor:  25%|███████████████▉                                                | 2275/9113 [00:36<01:26, 78.72dosya/s]"
     ]
    },
    {
     "name": "stdout",
     "output_type": "stream",
     "text": [
      "\n",
      "\n",
      "\n",
      "\n"
     ]
    },
    {
     "name": "stderr",
     "output_type": "stream",
     "text": [
      "İşleniyor:  25%|████████████████                                                | 2292/9113 [00:36<01:34, 72.23dosya/s]"
     ]
    },
    {
     "name": "stdout",
     "output_type": "stream",
     "text": [
      "\n"
     ]
    },
    {
     "name": "stderr",
     "output_type": "stream",
     "text": [
      "İşleniyor:  25%|████████████████▏                                               | 2309/9113 [00:36<01:34, 72.13dosya/s]"
     ]
    },
    {
     "name": "stdout",
     "output_type": "stream",
     "text": [
      "\n",
      "\n",
      "\n",
      "\n",
      "\n"
     ]
    },
    {
     "name": "stderr",
     "output_type": "stream",
     "text": [
      "İşleniyor:  26%|████████████████▍                                               | 2338/9113 [00:37<01:52, 59.97dosya/s]"
     ]
    },
    {
     "name": "stdout",
     "output_type": "stream",
     "text": [
      "\n",
      "\n",
      "\n",
      "\n"
     ]
    },
    {
     "name": "stderr",
     "output_type": "stream",
     "text": [
      "İşleniyor:  26%|████████████████▊                                               | 2400/9113 [00:38<01:56, 57.42dosya/s]"
     ]
    },
    {
     "name": "stdout",
     "output_type": "stream",
     "text": [
      "\n"
     ]
    },
    {
     "name": "stderr",
     "output_type": "stream",
     "text": [
      "İşleniyor:  27%|████████████████▉                                               | 2419/9113 [00:38<01:38, 67.77dosya/s]"
     ]
    },
    {
     "name": "stdout",
     "output_type": "stream",
     "text": [
      "\n",
      "\n",
      "\n",
      "\n"
     ]
    },
    {
     "name": "stderr",
     "output_type": "stream",
     "text": [
      "İşleniyor:  27%|█████████████████▏                                              | 2445/9113 [00:39<01:31, 72.70dosya/s]"
     ]
    },
    {
     "name": "stdout",
     "output_type": "stream",
     "text": [
      "\n",
      "\n",
      "\n",
      "\n",
      "\n"
     ]
    },
    {
     "name": "stderr",
     "output_type": "stream",
     "text": [
      "İşleniyor:  27%|█████████████████▍                                              | 2483/9113 [00:39<01:39, 66.40dosya/s]"
     ]
    },
    {
     "name": "stdout",
     "output_type": "stream",
     "text": [
      "\n"
     ]
    },
    {
     "name": "stderr",
     "output_type": "stream",
     "text": [
      "İşleniyor:  28%|█████████████████▌                                              | 2508/9113 [00:40<01:40, 65.44dosya/s]"
     ]
    },
    {
     "name": "stdout",
     "output_type": "stream",
     "text": [
      "\n",
      "\n",
      "\n",
      "\n",
      "\n"
     ]
    },
    {
     "name": "stderr",
     "output_type": "stream",
     "text": [
      "İşleniyor:  28%|█████████████████▋                                              | 2525/9113 [00:40<01:36, 68.37dosya/s]"
     ]
    },
    {
     "name": "stdout",
     "output_type": "stream",
     "text": [
      "\n",
      "\n",
      "\n",
      "\n"
     ]
    },
    {
     "name": "stderr",
     "output_type": "stream",
     "text": [
      "İşleniyor:  28%|█████████████████▉                                              | 2557/9113 [00:40<01:43, 63.13dosya/s]"
     ]
    },
    {
     "name": "stdout",
     "output_type": "stream",
     "text": [
      "\n"
     ]
    },
    {
     "name": "stderr",
     "output_type": "stream",
     "text": [
      "\r",
      "İşleniyor:  28%|██████████████████                                              | 2567/9113 [00:41<01:32, 70.44dosya/s]"
     ]
    },
    {
     "name": "stdout",
     "output_type": "stream",
     "text": [
      "\n",
      "\n",
      "\n",
      "\n"
     ]
    },
    {
     "name": "stderr",
     "output_type": "stream",
     "text": [
      "İşleniyor:  28%|██████████████████▏                                             | 2582/9113 [00:41<02:02, 53.24dosya/s]"
     ]
    },
    {
     "name": "stdout",
     "output_type": "stream",
     "text": [
      "\n"
     ]
    },
    {
     "name": "stderr",
     "output_type": "stream",
     "text": [
      "İşleniyor:  29%|██████████████████▎                                             | 2600/9113 [00:41<01:36, 67.60dosya/s]"
     ]
    },
    {
     "name": "stdout",
     "output_type": "stream",
     "text": [
      "\n",
      "\n",
      "\n",
      "\n",
      "\n"
     ]
    },
    {
     "name": "stderr",
     "output_type": "stream",
     "text": [
      "İşleniyor:  29%|██████████████████▍                                             | 2626/9113 [00:42<01:32, 69.97dosya/s]"
     ]
    },
    {
     "name": "stdout",
     "output_type": "stream",
     "text": [
      "\n",
      "\n",
      "\n",
      "\n",
      "\n"
     ]
    },
    {
     "name": "stderr",
     "output_type": "stream",
     "text": [
      "İşleniyor:  29%|██████████████████▌                                             | 2652/9113 [00:42<01:42, 63.09dosya/s]"
     ]
    },
    {
     "name": "stdout",
     "output_type": "stream",
     "text": [
      "\n",
      "\n",
      "\n",
      "\n",
      "\n",
      "\n",
      "\n",
      "\n",
      "\n",
      "\n"
     ]
    },
    {
     "name": "stderr",
     "output_type": "stream",
     "text": [
      "İşleniyor:  30%|██████████████████▉                                             | 2694/9113 [00:43<01:30, 71.26dosya/s]"
     ]
    },
    {
     "name": "stdout",
     "output_type": "stream",
     "text": [
      "\n",
      "\n",
      "\n",
      "\n",
      "\n"
     ]
    },
    {
     "name": "stderr",
     "output_type": "stream",
     "text": [
      "İşleniyor:  30%|███████████████████                                             | 2716/9113 [00:43<01:37, 65.28dosya/s]"
     ]
    },
    {
     "name": "stdout",
     "output_type": "stream",
     "text": [
      "\n",
      "\n",
      "\n",
      "\n"
     ]
    },
    {
     "name": "stderr",
     "output_type": "stream",
     "text": [
      "İşleniyor:  30%|███████████████████▏                                            | 2740/9113 [00:43<01:32, 68.72dosya/s]"
     ]
    },
    {
     "name": "stdout",
     "output_type": "stream",
     "text": [
      "\n",
      "\n",
      "\n",
      "\n"
     ]
    },
    {
     "name": "stderr",
     "output_type": "stream",
     "text": [
      "İşleniyor:  30%|███████████████████▍                                            | 2761/9113 [00:44<01:42, 61.85dosya/s]"
     ]
    },
    {
     "name": "stdout",
     "output_type": "stream",
     "text": [
      "\n"
     ]
    },
    {
     "name": "stderr",
     "output_type": "stream",
     "text": [
      "İşleniyor:  31%|███████████████████▌                                            | 2786/9113 [00:44<01:23, 76.21dosya/s]"
     ]
    },
    {
     "name": "stdout",
     "output_type": "stream",
     "text": [
      "\n",
      "\n",
      "\n",
      "\n",
      "\n"
     ]
    },
    {
     "name": "stderr",
     "output_type": "stream",
     "text": [
      "İşleniyor:  31%|███████████████████▋                                            | 2812/9113 [00:44<01:22, 76.19dosya/s]"
     ]
    },
    {
     "name": "stdout",
     "output_type": "stream",
     "text": [
      "\n",
      "\n",
      "\n",
      "\n",
      "\n"
     ]
    },
    {
     "name": "stderr",
     "output_type": "stream",
     "text": [
      "İşleniyor:  31%|███████████████████▊                                            | 2830/9113 [00:44<01:16, 81.61dosya/s]"
     ]
    },
    {
     "name": "stdout",
     "output_type": "stream",
     "text": [
      "\n",
      "\n",
      "\n",
      "\n",
      "\n"
     ]
    },
    {
     "name": "stderr",
     "output_type": "stream",
     "text": [
      "İşleniyor:  31%|████████████████████                                            | 2857/9113 [00:45<01:24, 74.33dosya/s]"
     ]
    },
    {
     "name": "stdout",
     "output_type": "stream",
     "text": [
      "\n",
      "\n",
      "\n",
      "\n",
      "\n"
     ]
    },
    {
     "name": "stderr",
     "output_type": "stream",
     "text": [
      "İşleniyor:  32%|████████████████████▎                                           | 2884/9113 [00:45<01:33, 66.96dosya/s]"
     ]
    },
    {
     "name": "stdout",
     "output_type": "stream",
     "text": [
      "\n",
      "\n",
      "\n",
      "\n"
     ]
    },
    {
     "name": "stderr",
     "output_type": "stream",
     "text": [
      "İşleniyor:  32%|████████████████████▍                                           | 2902/9113 [00:46<01:33, 66.62dosya/s]"
     ]
    },
    {
     "name": "stdout",
     "output_type": "stream",
     "text": [
      "\n"
     ]
    },
    {
     "name": "stderr",
     "output_type": "stream",
     "text": [
      "İşleniyor:  32%|████████████████████▌                                           | 2922/9113 [00:46<01:18, 78.44dosya/s]"
     ]
    },
    {
     "name": "stdout",
     "output_type": "stream",
     "text": [
      "\n",
      "\n",
      "\n",
      "\n",
      "\n"
     ]
    },
    {
     "name": "stderr",
     "output_type": "stream",
     "text": [
      "İşleniyor:  32%|████████████████████▋                                           | 2950/9113 [00:46<01:26, 71.01dosya/s]"
     ]
    },
    {
     "name": "stdout",
     "output_type": "stream",
     "text": [
      "\n",
      "\n",
      "\n",
      "\n",
      "\n"
     ]
    },
    {
     "name": "stderr",
     "output_type": "stream",
     "text": [
      "İşleniyor:  33%|████████████████████▊                                           | 2969/9113 [00:46<01:16, 80.43dosya/s]"
     ]
    },
    {
     "name": "stdout",
     "output_type": "stream",
     "text": [
      "\n",
      "\n",
      "\n",
      "\n",
      "\n"
     ]
    },
    {
     "name": "stderr",
     "output_type": "stream",
     "text": [
      "İşleniyor:  33%|█████████████████████                                           | 2991/9113 [00:47<01:19, 76.80dosya/s]"
     ]
    },
    {
     "name": "stdout",
     "output_type": "stream",
     "text": [
      "\n",
      "\n",
      "\n",
      "\n",
      "\n"
     ]
    },
    {
     "name": "stderr",
     "output_type": "stream",
     "text": [
      "İşleniyor:  33%|█████████████████████▏                                          | 3011/9113 [00:47<01:18, 77.50dosya/s]"
     ]
    },
    {
     "name": "stdout",
     "output_type": "stream",
     "text": [
      "\n",
      "\n",
      "\n",
      "\n",
      "\n"
     ]
    },
    {
     "name": "stderr",
     "output_type": "stream",
     "text": [
      "İşleniyor:  33%|█████████████████████▎                                          | 3035/9113 [00:47<01:15, 80.50dosya/s]"
     ]
    },
    {
     "name": "stdout",
     "output_type": "stream",
     "text": [
      "\n",
      "\n",
      "\n",
      "\n",
      "\n",
      "\n",
      "\n",
      "\n",
      "\n"
     ]
    },
    {
     "name": "stderr",
     "output_type": "stream",
     "text": [
      "İşleniyor:  34%|█████████████████████▍                                          | 3053/9113 [00:48<01:23, 72.75dosya/s]"
     ]
    },
    {
     "name": "stdout",
     "output_type": "stream",
     "text": [
      "\n"
     ]
    },
    {
     "name": "stderr",
     "output_type": "stream",
     "text": [
      "İşleniyor:  34%|█████████████████████▌                                          | 3073/9113 [00:48<01:16, 78.57dosya/s]"
     ]
    },
    {
     "name": "stdout",
     "output_type": "stream",
     "text": [
      "\n",
      "\n",
      "\n",
      "\n",
      "\n"
     ]
    },
    {
     "name": "stderr",
     "output_type": "stream",
     "text": [
      "İşleniyor:  34%|█████████████████████▊                                          | 3099/9113 [00:48<01:20, 74.37dosya/s]"
     ]
    },
    {
     "name": "stdout",
     "output_type": "stream",
     "text": [
      "\n",
      "\n",
      "\n",
      "\n",
      "\n"
     ]
    },
    {
     "name": "stderr",
     "output_type": "stream",
     "text": [
      "İşleniyor:  34%|█████████████████████▉                                          | 3124/9113 [00:49<01:26, 69.52dosya/s]"
     ]
    },
    {
     "name": "stdout",
     "output_type": "stream",
     "text": [
      "\n",
      "\n",
      "\n",
      "\n",
      "\n"
     ]
    },
    {
     "name": "stderr",
     "output_type": "stream",
     "text": [
      "İşleniyor:  35%|██████████████████████                                          | 3149/9113 [00:49<01:24, 70.84dosya/s]"
     ]
    },
    {
     "name": "stdout",
     "output_type": "stream",
     "text": [
      "\n",
      "\n",
      "\n",
      "\n",
      "\n"
     ]
    },
    {
     "name": "stderr",
     "output_type": "stream",
     "text": [
      "İşleniyor:  35%|██████████████████████▎                                         | 3177/9113 [00:49<01:23, 70.84dosya/s]"
     ]
    },
    {
     "name": "stdout",
     "output_type": "stream",
     "text": [
      "\n",
      "\n",
      "\n",
      "\n",
      "\n"
     ]
    },
    {
     "name": "stderr",
     "output_type": "stream",
     "text": [
      "İşleniyor:  35%|██████████████████████▍                                         | 3203/9113 [00:50<01:29, 66.14dosya/s]"
     ]
    },
    {
     "name": "stdout",
     "output_type": "stream",
     "text": [
      "\n",
      "\n",
      "\n",
      "\n",
      "\n"
     ]
    },
    {
     "name": "stderr",
     "output_type": "stream",
     "text": [
      "İşleniyor:  35%|██████████████████████▋                                         | 3227/9113 [00:50<01:23, 70.24dosya/s]"
     ]
    },
    {
     "name": "stdout",
     "output_type": "stream",
     "text": [
      "\n",
      "\n",
      "\n",
      "\n",
      "\n"
     ]
    },
    {
     "name": "stderr",
     "output_type": "stream",
     "text": [
      "İşleniyor:  36%|██████████████████████▊                                         | 3253/9113 [00:51<01:19, 73.96dosya/s]"
     ]
    },
    {
     "name": "stdout",
     "output_type": "stream",
     "text": [
      "\n",
      "\n",
      "\n",
      "\n",
      "\n"
     ]
    },
    {
     "name": "stderr",
     "output_type": "stream",
     "text": [
      "İşleniyor:  36%|███████████████████████                                         | 3278/9113 [00:51<01:23, 70.24dosya/s]"
     ]
    },
    {
     "name": "stdout",
     "output_type": "stream",
     "text": [
      "\n",
      "\n",
      "\n",
      "\n",
      "\n"
     ]
    },
    {
     "name": "stderr",
     "output_type": "stream",
     "text": [
      "İşleniyor:  36%|███████████████████████▏                                        | 3296/9113 [00:51<01:23, 69.62dosya/s]"
     ]
    },
    {
     "name": "stdout",
     "output_type": "stream",
     "text": [
      "\n",
      "\n",
      "\n",
      "\n"
     ]
    },
    {
     "name": "stderr",
     "output_type": "stream",
     "text": [
      "İşleniyor:  36%|███████████████████████▎                                        | 3318/9113 [00:52<01:37, 59.25dosya/s]"
     ]
    },
    {
     "name": "stdout",
     "output_type": "stream",
     "text": [
      "\n"
     ]
    },
    {
     "name": "stderr",
     "output_type": "stream",
     "text": [
      "İşleniyor:  37%|███████████████████████▍                                        | 3342/9113 [00:52<01:30, 63.56dosya/s]"
     ]
    },
    {
     "name": "stdout",
     "output_type": "stream",
     "text": [
      "\n",
      "\n",
      "\n",
      "\n",
      "\n"
     ]
    },
    {
     "name": "stderr",
     "output_type": "stream",
     "text": [
      "İşleniyor:  37%|███████████████████████▋                                        | 3368/9113 [00:52<01:20, 71.52dosya/s]"
     ]
    },
    {
     "name": "stdout",
     "output_type": "stream",
     "text": [
      "\n",
      "\n",
      "\n",
      "\n",
      "\n"
     ]
    },
    {
     "name": "stderr",
     "output_type": "stream",
     "text": [
      "İşleniyor:  37%|███████████████████████▊                                        | 3389/9113 [00:53<01:12, 78.53dosya/s]"
     ]
    },
    {
     "name": "stdout",
     "output_type": "stream",
     "text": [
      "\n",
      "\n",
      "\n",
      "\n",
      "\n"
     ]
    },
    {
     "name": "stderr",
     "output_type": "stream",
     "text": [
      "İşleniyor:  38%|████████████████████████                                        | 3420/9113 [00:53<01:07, 84.90dosya/s]"
     ]
    },
    {
     "name": "stdout",
     "output_type": "stream",
     "text": [
      "\n",
      "\n",
      "\n",
      "\n",
      "\n",
      "\n",
      "\n",
      "\n",
      "\n"
     ]
    },
    {
     "name": "stderr",
     "output_type": "stream",
     "text": [
      "İşleniyor:  38%|████████████████████████▏                                       | 3444/9113 [00:54<01:42, 55.32dosya/s]"
     ]
    },
    {
     "name": "stdout",
     "output_type": "stream",
     "text": [
      "\n"
     ]
    },
    {
     "name": "stderr",
     "output_type": "stream",
     "text": [
      "İşleniyor:  38%|████████████████████████▎                                       | 3465/9113 [00:54<01:34, 59.62dosya/s]"
     ]
    },
    {
     "name": "stdout",
     "output_type": "stream",
     "text": [
      "\n",
      "\n",
      "\n",
      "\n",
      "\n"
     ]
    },
    {
     "name": "stderr",
     "output_type": "stream",
     "text": [
      "İşleniyor:  38%|████████████████████████▌                                       | 3490/9113 [00:54<01:17, 72.80dosya/s]"
     ]
    },
    {
     "name": "stdout",
     "output_type": "stream",
     "text": [
      "\n",
      "\n",
      "\n",
      "\n",
      "\n"
     ]
    },
    {
     "name": "stderr",
     "output_type": "stream",
     "text": [
      "İşleniyor:  39%|████████████████████████▋                                       | 3517/9113 [00:55<01:13, 75.91dosya/s]"
     ]
    },
    {
     "name": "stdout",
     "output_type": "stream",
     "text": [
      "\n",
      "\n",
      "\n",
      "\n",
      "\n"
     ]
    },
    {
     "name": "stderr",
     "output_type": "stream",
     "text": [
      "İşleniyor:  39%|████████████████████████▉                                       | 3543/9113 [00:55<01:10, 78.66dosya/s]"
     ]
    },
    {
     "name": "stdout",
     "output_type": "stream",
     "text": [
      "\n",
      "\n",
      "\n",
      "\n",
      "\n"
     ]
    },
    {
     "name": "stderr",
     "output_type": "stream",
     "text": [
      "İşleniyor:  39%|█████████████████████████                                       | 3563/9113 [00:55<01:11, 77.13dosya/s]"
     ]
    },
    {
     "name": "stdout",
     "output_type": "stream",
     "text": [
      "\n",
      "\n",
      "\n",
      "\n",
      "\n"
     ]
    },
    {
     "name": "stderr",
     "output_type": "stream",
     "text": [
      "İşleniyor:  39%|█████████████████████████▏                                      | 3588/9113 [00:56<01:24, 65.15dosya/s]"
     ]
    },
    {
     "name": "stdout",
     "output_type": "stream",
     "text": [
      "\n",
      "\n",
      "\n",
      "\n",
      "\n"
     ]
    },
    {
     "name": "stderr",
     "output_type": "stream",
     "text": [
      "İşleniyor:  40%|█████████████████████████▍                                      | 3618/9113 [00:56<01:26, 63.77dosya/s]"
     ]
    },
    {
     "name": "stdout",
     "output_type": "stream",
     "text": [
      "\n",
      "\n",
      "\n",
      "\n"
     ]
    },
    {
     "name": "stderr",
     "output_type": "stream",
     "text": [
      "İşleniyor:  40%|█████████████████████████▌                                      | 3639/9113 [00:57<01:27, 62.36dosya/s]"
     ]
    },
    {
     "name": "stdout",
     "output_type": "stream",
     "text": [
      "\n"
     ]
    },
    {
     "name": "stderr",
     "output_type": "stream",
     "text": [
      "İşleniyor:  40%|█████████████████████████▋                                      | 3664/9113 [00:57<01:19, 68.37dosya/s]"
     ]
    },
    {
     "name": "stdout",
     "output_type": "stream",
     "text": [
      "\n",
      "\n",
      "\n",
      "\n",
      "\n"
     ]
    },
    {
     "name": "stderr",
     "output_type": "stream",
     "text": [
      "İşleniyor:  40%|█████████████████████████▉                                      | 3690/9113 [00:57<01:17, 69.72dosya/s]"
     ]
    },
    {
     "name": "stdout",
     "output_type": "stream",
     "text": [
      "\n",
      "\n",
      "\n",
      "\n",
      "\n"
     ]
    },
    {
     "name": "stderr",
     "output_type": "stream",
     "text": [
      "İşleniyor:  41%|██████████████████████████                                      | 3710/9113 [00:58<01:11, 75.96dosya/s]"
     ]
    },
    {
     "name": "stdout",
     "output_type": "stream",
     "text": [
      "\n",
      "\n",
      "\n",
      "\n",
      "\n"
     ]
    },
    {
     "name": "stderr",
     "output_type": "stream",
     "text": [
      "İşleniyor:  41%|██████████████████████████▏                                     | 3735/9113 [00:58<01:18, 68.90dosya/s]"
     ]
    },
    {
     "name": "stdout",
     "output_type": "stream",
     "text": [
      "\n",
      "\n",
      "\n",
      "\n",
      "\n"
     ]
    },
    {
     "name": "stderr",
     "output_type": "stream",
     "text": [
      "İşleniyor:  41%|██████████████████████████▎                                     | 3751/9113 [00:58<01:22, 65.21dosya/s]"
     ]
    },
    {
     "name": "stdout",
     "output_type": "stream",
     "text": [
      "\n",
      "\n",
      "\n",
      "\n",
      "\n"
     ]
    },
    {
     "name": "stderr",
     "output_type": "stream",
     "text": [
      "İşleniyor:  41%|██████████████████████████▌                                     | 3778/9113 [00:59<01:11, 74.95dosya/s]"
     ]
    },
    {
     "name": "stdout",
     "output_type": "stream",
     "text": [
      "\n",
      "\n",
      "\n",
      "\n"
     ]
    },
    {
     "name": "stderr",
     "output_type": "stream",
     "text": [
      "İşleniyor:  42%|██████████████████████████▋                                     | 3803/9113 [00:59<01:19, 66.94dosya/s]"
     ]
    },
    {
     "name": "stdout",
     "output_type": "stream",
     "text": [
      "\n"
     ]
    },
    {
     "name": "stderr",
     "output_type": "stream",
     "text": [
      "İşleniyor:  42%|██████████████████████████▊                                     | 3820/9113 [00:59<01:18, 67.55dosya/s]"
     ]
    },
    {
     "name": "stdout",
     "output_type": "stream",
     "text": [
      "\n",
      "\n",
      "\n",
      "\n",
      "\n"
     ]
    },
    {
     "name": "stderr",
     "output_type": "stream",
     "text": [
      "İşleniyor:  42%|███████████████████████████                                     | 3845/9113 [01:00<01:20, 65.12dosya/s]"
     ]
    },
    {
     "name": "stdout",
     "output_type": "stream",
     "text": [
      "\n",
      "\n",
      "\n",
      "\n",
      "\n"
     ]
    },
    {
     "name": "stderr",
     "output_type": "stream",
     "text": [
      "İşleniyor:  42%|███████████████████████████▏                                    | 3863/9113 [01:00<01:14, 70.63dosya/s]"
     ]
    },
    {
     "name": "stdout",
     "output_type": "stream",
     "text": [
      "\n",
      "\n",
      "\n",
      "\n",
      "\n"
     ]
    },
    {
     "name": "stderr",
     "output_type": "stream",
     "text": [
      "İşleniyor:  43%|███████████████████████████▎                                    | 3889/9113 [01:00<01:10, 73.68dosya/s]"
     ]
    },
    {
     "name": "stdout",
     "output_type": "stream",
     "text": [
      "\n",
      "\n",
      "\n",
      "\n"
     ]
    },
    {
     "name": "stderr",
     "output_type": "stream",
     "text": [
      "İşleniyor:  43%|███████████████████████████▋                                    | 3935/9113 [01:01<01:47, 48.26dosya/s]"
     ]
    },
    {
     "name": "stdout",
     "output_type": "stream",
     "text": [
      "\n"
     ]
    },
    {
     "name": "stderr",
     "output_type": "stream",
     "text": [
      "İşleniyor:  43%|███████████████████████████▊                                    | 3959/9113 [01:02<01:24, 61.26dosya/s]"
     ]
    },
    {
     "name": "stdout",
     "output_type": "stream",
     "text": [
      "\n",
      "\n",
      "\n",
      "\n"
     ]
    },
    {
     "name": "stderr",
     "output_type": "stream",
     "text": [
      "İşleniyor:  44%|███████████████████████████▉                                    | 3981/9113 [01:02<01:20, 63.84dosya/s]"
     ]
    },
    {
     "name": "stdout",
     "output_type": "stream",
     "text": [
      "\n",
      "\n",
      "\n",
      "\n",
      "\n"
     ]
    },
    {
     "name": "stderr",
     "output_type": "stream",
     "text": [
      "İşleniyor:  44%|████████████████████████████                                    | 4001/9113 [01:02<01:39, 51.19dosya/s]"
     ]
    },
    {
     "name": "stdout",
     "output_type": "stream",
     "text": [
      "\n"
     ]
    },
    {
     "name": "stderr",
     "output_type": "stream",
     "text": [
      "İşleniyor:  44%|████████████████████████████▎                                   | 4032/9113 [01:03<01:30, 56.10dosya/s]"
     ]
    },
    {
     "name": "stdout",
     "output_type": "stream",
     "text": [
      "\n",
      "\n",
      "\n",
      "\n",
      "\n"
     ]
    },
    {
     "name": "stderr",
     "output_type": "stream",
     "text": [
      "İşleniyor:  45%|████████████████████████████▍                                   | 4057/9113 [01:03<01:21, 61.92dosya/s]"
     ]
    },
    {
     "name": "stdout",
     "output_type": "stream",
     "text": [
      "\n",
      "\n",
      "\n",
      "\n",
      "\n"
     ]
    },
    {
     "name": "stderr",
     "output_type": "stream",
     "text": [
      "İşleniyor:  45%|████████████████████████████▋                                   | 4077/9113 [01:04<01:13, 68.88dosya/s]"
     ]
    },
    {
     "name": "stdout",
     "output_type": "stream",
     "text": [
      "\n",
      "\n",
      "\n",
      "\n",
      "\n"
     ]
    },
    {
     "name": "stderr",
     "output_type": "stream",
     "text": [
      "İşleniyor:  45%|████████████████████████████▊                                   | 4094/9113 [01:04<01:12, 68.91dosya/s]"
     ]
    },
    {
     "name": "stdout",
     "output_type": "stream",
     "text": [
      "\n",
      "\n",
      "\n",
      "\n"
     ]
    },
    {
     "name": "stderr",
     "output_type": "stream",
     "text": [
      "İşleniyor:  45%|████████████████████████████▉                                   | 4116/9113 [01:04<01:30, 55.42dosya/s]"
     ]
    },
    {
     "name": "stdout",
     "output_type": "stream",
     "text": [
      "\n"
     ]
    },
    {
     "name": "stderr",
     "output_type": "stream",
     "text": [
      "İşleniyor:  45%|█████████████████████████████                                   | 4142/9113 [01:05<01:11, 69.57dosya/s]"
     ]
    },
    {
     "name": "stdout",
     "output_type": "stream",
     "text": [
      "\n",
      "\n",
      "\n",
      "\n",
      "\n"
     ]
    },
    {
     "name": "stderr",
     "output_type": "stream",
     "text": [
      "İşleniyor:  46%|█████████████████████████████▏                                  | 4162/9113 [01:05<01:15, 65.76dosya/s]"
     ]
    },
    {
     "name": "stdout",
     "output_type": "stream",
     "text": [
      "\n",
      "\n",
      "\n",
      "\n",
      "\n"
     ]
    },
    {
     "name": "stderr",
     "output_type": "stream",
     "text": [
      "İşleniyor:  46%|█████████████████████████████▌                                  | 4202/9113 [01:06<01:16, 64.39dosya/s]"
     ]
    },
    {
     "name": "stdout",
     "output_type": "stream",
     "text": [
      "\n",
      "\n",
      "\n",
      "\n",
      "\n"
     ]
    },
    {
     "name": "stderr",
     "output_type": "stream",
     "text": [
      "İşleniyor:  46%|█████████████████████████████▋                                  | 4228/9113 [01:06<01:11, 68.26dosya/s]"
     ]
    },
    {
     "name": "stdout",
     "output_type": "stream",
     "text": [
      "\n",
      "\n",
      "\n",
      "\n",
      "\n"
     ]
    },
    {
     "name": "stderr",
     "output_type": "stream",
     "text": [
      "İşleniyor:  47%|█████████████████████████████▊                                  | 4245/9113 [01:06<01:15, 64.49dosya/s]"
     ]
    },
    {
     "name": "stdout",
     "output_type": "stream",
     "text": [
      "\n",
      "\n",
      "\n",
      "\n",
      "\n"
     ]
    },
    {
     "name": "stderr",
     "output_type": "stream",
     "text": [
      "İşleniyor:  47%|█████████████████████████████▉                                  | 4268/9113 [01:07<01:12, 67.23dosya/s]"
     ]
    },
    {
     "name": "stdout",
     "output_type": "stream",
     "text": [
      "\n",
      "\n",
      "\n",
      "\n"
     ]
    },
    {
     "name": "stderr",
     "output_type": "stream",
     "text": [
      "İşleniyor:  47%|██████████████████████████████▏                                 | 4290/9113 [01:07<01:29, 53.73dosya/s]"
     ]
    },
    {
     "name": "stdout",
     "output_type": "stream",
     "text": [
      "\n"
     ]
    },
    {
     "name": "stderr",
     "output_type": "stream",
     "text": [
      "İşleniyor:  47%|██████████████████████████████▎                                 | 4312/9113 [01:08<01:14, 64.45dosya/s]"
     ]
    },
    {
     "name": "stdout",
     "output_type": "stream",
     "text": [
      "\n",
      "\n",
      "\n",
      "\n",
      "\n"
     ]
    },
    {
     "name": "stderr",
     "output_type": "stream",
     "text": [
      "İşleniyor:  48%|██████████████████████████████▍                                 | 4337/9113 [01:08<01:11, 66.78dosya/s]"
     ]
    },
    {
     "name": "stdout",
     "output_type": "stream",
     "text": [
      "\n",
      "\n",
      "\n",
      "\n",
      "\n"
     ]
    },
    {
     "name": "stderr",
     "output_type": "stream",
     "text": [
      "İşleniyor:  48%|██████████████████████████████▋                                 | 4361/9113 [01:08<01:16, 62.07dosya/s]"
     ]
    },
    {
     "name": "stdout",
     "output_type": "stream",
     "text": [
      "\n",
      "\n",
      "\n",
      "\n",
      "\n"
     ]
    },
    {
     "name": "stderr",
     "output_type": "stream",
     "text": [
      "İşleniyor:  48%|██████████████████████████████▊                                 | 4383/9113 [01:09<01:17, 61.33dosya/s]"
     ]
    },
    {
     "name": "stdout",
     "output_type": "stream",
     "text": [
      "\n",
      "\n",
      "\n",
      "\n",
      "\n"
     ]
    },
    {
     "name": "stderr",
     "output_type": "stream",
     "text": [
      "İşleniyor:  48%|██████████████████████████████▉                                 | 4409/9113 [01:09<01:06, 71.04dosya/s]"
     ]
    },
    {
     "name": "stdout",
     "output_type": "stream",
     "text": [
      "\n",
      "\n",
      "\n",
      "\n",
      "\n"
     ]
    },
    {
     "name": "stderr",
     "output_type": "stream",
     "text": [
      "İşleniyor:  49%|███████████████████████████████▏                                | 4434/9113 [01:10<01:10, 66.33dosya/s]"
     ]
    },
    {
     "name": "stdout",
     "output_type": "stream",
     "text": [
      "\n",
      "\n",
      "\n",
      "\n",
      "\n"
     ]
    },
    {
     "name": "stderr",
     "output_type": "stream",
     "text": [
      "İşleniyor:  49%|███████████████████████████████▎                                | 4460/9113 [01:10<01:06, 69.88dosya/s]"
     ]
    },
    {
     "name": "stdout",
     "output_type": "stream",
     "text": [
      "\n",
      "\n",
      "\n",
      "\n",
      "\n"
     ]
    },
    {
     "name": "stderr",
     "output_type": "stream",
     "text": [
      "İşleniyor:  49%|███████████████████████████████▌                                | 4487/9113 [01:10<01:02, 73.52dosya/s]"
     ]
    },
    {
     "name": "stdout",
     "output_type": "stream",
     "text": [
      "\n",
      "\n",
      "\n",
      "\n",
      "\n"
     ]
    },
    {
     "name": "stderr",
     "output_type": "stream",
     "text": [
      "İşleniyor:  49%|███████████████████████████████▋                                | 4504/9113 [01:11<01:02, 73.90dosya/s]"
     ]
    },
    {
     "name": "stdout",
     "output_type": "stream",
     "text": [
      "\n",
      "\n",
      "\n",
      "\n"
     ]
    },
    {
     "name": "stderr",
     "output_type": "stream",
     "text": [
      "İşleniyor:  50%|███████████████████████████████▊                                | 4531/9113 [01:11<01:39, 45.85dosya/s]"
     ]
    },
    {
     "name": "stdout",
     "output_type": "stream",
     "text": [
      "\n"
     ]
    },
    {
     "name": "stderr",
     "output_type": "stream",
     "text": [
      "İşleniyor:  50%|████████████████████████████████                                | 4560/9113 [01:12<01:26, 52.88dosya/s]"
     ]
    },
    {
     "name": "stdout",
     "output_type": "stream",
     "text": [
      "\n",
      "\n",
      "\n",
      "\n",
      "\n"
     ]
    },
    {
     "name": "stderr",
     "output_type": "stream",
     "text": [
      "\r",
      "İşleniyor:  50%|████████████████████████████████                                | 4571/9113 [01:12<01:12, 62.67dosya/s]"
     ]
    },
    {
     "name": "stdout",
     "output_type": "stream",
     "text": [
      "\n",
      "\n",
      "\n",
      "\n",
      "\n"
     ]
    },
    {
     "name": "stderr",
     "output_type": "stream",
     "text": [
      "İşleniyor:  50%|████████████████████████████████▏                               | 4588/9113 [01:12<01:12, 62.05dosya/s]"
     ]
    },
    {
     "name": "stdout",
     "output_type": "stream",
     "text": [
      "\n",
      "\n",
      "\n",
      "\n"
     ]
    },
    {
     "name": "stderr",
     "output_type": "stream",
     "text": [
      "İşleniyor:  51%|████████████████████████████████▍                               | 4618/9113 [01:13<01:16, 58.87dosya/s]"
     ]
    },
    {
     "name": "stdout",
     "output_type": "stream",
     "text": [
      "\n",
      "\n",
      "\n",
      "\n",
      "\n"
     ]
    },
    {
     "name": "stderr",
     "output_type": "stream",
     "text": [
      "İşleniyor:  51%|████████████████████████████████▌                               | 4632/9113 [01:13<01:18, 57.30dosya/s]"
     ]
    },
    {
     "name": "stdout",
     "output_type": "stream",
     "text": [
      "\n",
      "\n",
      "\n",
      "\n",
      "\n"
     ]
    },
    {
     "name": "stderr",
     "output_type": "stream",
     "text": [
      "İşleniyor:  51%|████████████████████████████████▋                               | 4661/9113 [01:14<01:20, 55.00dosya/s]"
     ]
    },
    {
     "name": "stdout",
     "output_type": "stream",
     "text": [
      "\n"
     ]
    },
    {
     "name": "stderr",
     "output_type": "stream",
     "text": [
      "İşleniyor:  51%|████████████████████████████████▊                               | 4677/9113 [01:14<01:12, 61.48dosya/s]"
     ]
    },
    {
     "name": "stdout",
     "output_type": "stream",
     "text": [
      "\n",
      "\n",
      "\n",
      "\n",
      "\n"
     ]
    },
    {
     "name": "stderr",
     "output_type": "stream",
     "text": [
      "İşleniyor:  52%|████████████████████████████████▉                               | 4698/9113 [01:14<01:18, 55.90dosya/s]"
     ]
    },
    {
     "name": "stdout",
     "output_type": "stream",
     "text": [
      "\n",
      "\n",
      "\n",
      "\n",
      "\n"
     ]
    },
    {
     "name": "stderr",
     "output_type": "stream",
     "text": [
      "İşleniyor:  52%|█████████████████████████████████▏                              | 4725/9113 [01:15<01:07, 65.35dosya/s]"
     ]
    },
    {
     "name": "stdout",
     "output_type": "stream",
     "text": [
      "\n",
      "\n",
      "\n",
      "\n",
      "\n",
      "\n",
      "\n",
      "\n",
      "\n"
     ]
    },
    {
     "name": "stderr",
     "output_type": "stream",
     "text": [
      "İşleniyor:  52%|█████████████████████████████████▎                              | 4740/9113 [01:15<01:21, 53.38dosya/s]"
     ]
    },
    {
     "name": "stdout",
     "output_type": "stream",
     "text": [
      "\n",
      "\n",
      "\n",
      "\n",
      "\n"
     ]
    },
    {
     "name": "stderr",
     "output_type": "stream",
     "text": [
      "İşleniyor:  52%|█████████████████████████████████▌                              | 4777/9113 [01:16<01:23, 51.70dosya/s]"
     ]
    },
    {
     "name": "stdout",
     "output_type": "stream",
     "text": [
      "\n"
     ]
    },
    {
     "name": "stderr",
     "output_type": "stream",
     "text": [
      "İşleniyor:  53%|█████████████████████████████████▋                              | 4800/9113 [01:16<01:06, 65.12dosya/s]"
     ]
    },
    {
     "name": "stdout",
     "output_type": "stream",
     "text": [
      "\n",
      "\n",
      "\n",
      "\n",
      "\n"
     ]
    },
    {
     "name": "stderr",
     "output_type": "stream",
     "text": [
      "İşleniyor:  53%|█████████████████████████████████▉                              | 4825/9113 [01:17<01:01, 69.30dosya/s]"
     ]
    },
    {
     "name": "stdout",
     "output_type": "stream",
     "text": [
      "\n",
      "\n",
      "\n",
      "\n",
      "\n"
     ]
    },
    {
     "name": "stderr",
     "output_type": "stream",
     "text": [
      "İşleniyor:  53%|██████████████████████████████████                              | 4850/9113 [01:17<01:08, 62.47dosya/s]"
     ]
    },
    {
     "name": "stdout",
     "output_type": "stream",
     "text": [
      "\n",
      "\n",
      "\n",
      "\n",
      "\n"
     ]
    },
    {
     "name": "stderr",
     "output_type": "stream",
     "text": [
      "İşleniyor:  54%|██████████████████████████████████▎                             | 4878/9113 [01:18<01:14, 56.86dosya/s]"
     ]
    },
    {
     "name": "stdout",
     "output_type": "stream",
     "text": [
      "\n",
      "\n",
      "\n",
      "\n",
      "\n"
     ]
    },
    {
     "name": "stderr",
     "output_type": "stream",
     "text": [
      "İşleniyor:  54%|██████████████████████████████████▍                             | 4900/9113 [01:18<01:10, 59.46dosya/s]"
     ]
    },
    {
     "name": "stdout",
     "output_type": "stream",
     "text": [
      "\n",
      "\n",
      "\n",
      "\n",
      "\n"
     ]
    },
    {
     "name": "stderr",
     "output_type": "stream",
     "text": [
      "İşleniyor:  54%|██████████████████████████████████▋                             | 4931/9113 [01:18<01:02, 66.89dosya/s]"
     ]
    },
    {
     "name": "stdout",
     "output_type": "stream",
     "text": [
      "\n",
      "\n",
      "\n",
      "\n",
      "\n"
     ]
    },
    {
     "name": "stderr",
     "output_type": "stream",
     "text": [
      "İşleniyor:  54%|██████████████████████████████████▊                             | 4950/9113 [01:19<00:54, 76.13dosya/s]"
     ]
    },
    {
     "name": "stdout",
     "output_type": "stream",
     "text": [
      "\n",
      "\n",
      "\n",
      "\n",
      "\n"
     ]
    },
    {
     "name": "stderr",
     "output_type": "stream",
     "text": [
      "İşleniyor:  55%|██████████████████████████████████▉                             | 4969/9113 [01:19<00:55, 74.96dosya/s]"
     ]
    },
    {
     "name": "stdout",
     "output_type": "stream",
     "text": [
      "\n",
      "\n",
      "\n",
      "\n"
     ]
    },
    {
     "name": "stderr",
     "output_type": "stream",
     "text": [
      "İşleniyor:  55%|███████████████████████████████████▍                            | 5050/9113 [01:21<01:21, 49.79dosya/s]"
     ]
    },
    {
     "name": "stdout",
     "output_type": "stream",
     "text": [
      "\n"
     ]
    },
    {
     "name": "stderr",
     "output_type": "stream",
     "text": [
      "İşleniyor:  56%|███████████████████████████████████▌                            | 5071/9113 [01:21<01:12, 55.41dosya/s]"
     ]
    },
    {
     "name": "stdout",
     "output_type": "stream",
     "text": [
      "\n",
      "\n",
      "\n",
      "\n",
      "\n"
     ]
    },
    {
     "name": "stderr",
     "output_type": "stream",
     "text": [
      "İşleniyor:  56%|███████████████████████████████████▊                            | 5093/9113 [01:21<01:04, 62.81dosya/s]"
     ]
    },
    {
     "name": "stdout",
     "output_type": "stream",
     "text": [
      "\n",
      "\n",
      "\n",
      "\n"
     ]
    },
    {
     "name": "stderr",
     "output_type": "stream",
     "text": [
      "İşleniyor:  56%|████████████████████████████████████                            | 5132/9113 [01:22<01:13, 54.42dosya/s]"
     ]
    },
    {
     "name": "stdout",
     "output_type": "stream",
     "text": [
      "\n"
     ]
    },
    {
     "name": "stderr",
     "output_type": "stream",
     "text": [
      "İşleniyor:  57%|████████████████████████████████████▏                           | 5160/9113 [01:22<00:48, 81.16dosya/s]"
     ]
    },
    {
     "name": "stdout",
     "output_type": "stream",
     "text": [
      "\n",
      "\n",
      "\n",
      "\n",
      "\n",
      "\n",
      "\n",
      "\n",
      "\n",
      "\n"
     ]
    },
    {
     "name": "stderr",
     "output_type": "stream",
     "text": [
      "İşleniyor:  57%|████████████████████████████████████▍                           | 5191/9113 [01:23<00:43, 89.30dosya/s]"
     ]
    },
    {
     "name": "stdout",
     "output_type": "stream",
     "text": [
      "\n",
      "\n",
      "\n",
      "\n",
      "\n",
      "\n",
      "\n",
      "\n",
      "\n",
      "\n"
     ]
    },
    {
     "name": "stderr",
     "output_type": "stream",
     "text": [
      "İşleniyor:  57%|████████████████████████████████████▋                           | 5219/9113 [01:23<00:55, 70.02dosya/s]"
     ]
    },
    {
     "name": "stdout",
     "output_type": "stream",
     "text": [
      "\n",
      "\n",
      "\n",
      "\n",
      "\n"
     ]
    },
    {
     "name": "stderr",
     "output_type": "stream",
     "text": [
      "İşleniyor:  57%|████████████████████████████████████▊                           | 5238/9113 [01:24<00:56, 68.00dosya/s]"
     ]
    },
    {
     "name": "stdout",
     "output_type": "stream",
     "text": [
      "\n",
      "\n",
      "\n",
      "\n"
     ]
    },
    {
     "name": "stderr",
     "output_type": "stream",
     "text": [
      "İşleniyor:  58%|████████████████████████████████████▉                           | 5260/9113 [01:24<01:04, 59.29dosya/s]"
     ]
    },
    {
     "name": "stdout",
     "output_type": "stream",
     "text": [
      "\n"
     ]
    },
    {
     "name": "stderr",
     "output_type": "stream",
     "text": [
      "İşleniyor:  58%|█████████████████████████████████████                           | 5274/9113 [01:24<01:07, 56.88dosya/s]"
     ]
    },
    {
     "name": "stdout",
     "output_type": "stream",
     "text": [
      "\n",
      "\n",
      "\n",
      "\n"
     ]
    },
    {
     "name": "stderr",
     "output_type": "stream",
     "text": [
      "İşleniyor:  58%|█████████████████████████████████████▏                          | 5287/9113 [01:25<01:10, 53.94dosya/s]"
     ]
    },
    {
     "name": "stdout",
     "output_type": "stream",
     "text": [
      "\n"
     ]
    },
    {
     "name": "stderr",
     "output_type": "stream",
     "text": [
      "İşleniyor:  58%|█████████████████████████████████████▎                          | 5308/9113 [01:25<01:08, 55.82dosya/s]"
     ]
    },
    {
     "name": "stdout",
     "output_type": "stream",
     "text": [
      "\n",
      "\n",
      "\n",
      "\n",
      "\n"
     ]
    },
    {
     "name": "stderr",
     "output_type": "stream",
     "text": [
      "İşleniyor:  58%|█████████████████████████████████████▍                          | 5322/9113 [01:25<01:05, 57.54dosya/s]"
     ]
    },
    {
     "name": "stdout",
     "output_type": "stream",
     "text": [
      "\n",
      "\n",
      "\n",
      "\n"
     ]
    },
    {
     "name": "stderr",
     "output_type": "stream",
     "text": [
      "İşleniyor:  59%|█████████████████████████████████████▌                          | 5341/9113 [01:26<01:13, 51.00dosya/s]"
     ]
    },
    {
     "name": "stdout",
     "output_type": "stream",
     "text": [
      "\n"
     ]
    },
    {
     "name": "stderr",
     "output_type": "stream",
     "text": [
      "İşleniyor:  59%|█████████████████████████████████████▌                          | 5357/9113 [01:26<01:04, 58.42dosya/s]"
     ]
    },
    {
     "name": "stdout",
     "output_type": "stream",
     "text": [
      "\n",
      "\n",
      "\n",
      "\n",
      "\n"
     ]
    },
    {
     "name": "stderr",
     "output_type": "stream",
     "text": [
      "İşleniyor:  59%|█████████████████████████████████████▊                          | 5379/9113 [01:26<00:57, 65.00dosya/s]"
     ]
    },
    {
     "name": "stdout",
     "output_type": "stream",
     "text": [
      "\n",
      "\n",
      "\n",
      "\n"
     ]
    },
    {
     "name": "stderr",
     "output_type": "stream",
     "text": [
      "İşleniyor:  59%|█████████████████████████████████████▉                          | 5401/9113 [01:27<01:00, 61.32dosya/s]"
     ]
    },
    {
     "name": "stdout",
     "output_type": "stream",
     "text": [
      "\n"
     ]
    },
    {
     "name": "stderr",
     "output_type": "stream",
     "text": [
      "İşleniyor:  60%|██████████████████████████████████████▏                         | 5431/9113 [01:27<00:58, 62.78dosya/s]"
     ]
    },
    {
     "name": "stdout",
     "output_type": "stream",
     "text": [
      "\n",
      "\n",
      "\n",
      "\n"
     ]
    },
    {
     "name": "stderr",
     "output_type": "stream",
     "text": [
      "İşleniyor:  60%|██████████████████████████████████████▎                         | 5450/9113 [01:28<01:20, 45.30dosya/s]"
     ]
    },
    {
     "name": "stdout",
     "output_type": "stream",
     "text": [
      "\n"
     ]
    },
    {
     "name": "stderr",
     "output_type": "stream",
     "text": [
      "İşleniyor:  60%|██████████████████████████████████████▍                         | 5473/9113 [01:28<00:59, 61.13dosya/s]"
     ]
    },
    {
     "name": "stdout",
     "output_type": "stream",
     "text": [
      "\n",
      "\n",
      "\n",
      "\n",
      "\n"
     ]
    },
    {
     "name": "stderr",
     "output_type": "stream",
     "text": [
      "İşleniyor:  60%|██████████████████████████████████████▌                         | 5496/9113 [01:28<00:54, 66.71dosya/s]"
     ]
    },
    {
     "name": "stdout",
     "output_type": "stream",
     "text": [
      "\n",
      "\n",
      "\n",
      "\n",
      "\n"
     ]
    },
    {
     "name": "stderr",
     "output_type": "stream",
     "text": [
      "İşleniyor:  61%|██████████████████████████████████████▊                         | 5521/9113 [01:29<00:52, 68.08dosya/s]"
     ]
    },
    {
     "name": "stdout",
     "output_type": "stream",
     "text": [
      "\n",
      "\n",
      "\n",
      "\n",
      "\n"
     ]
    },
    {
     "name": "stderr",
     "output_type": "stream",
     "text": [
      "İşleniyor:  61%|██████████████████████████████████████▉                         | 5548/9113 [01:29<00:53, 67.02dosya/s]"
     ]
    },
    {
     "name": "stdout",
     "output_type": "stream",
     "text": [
      "\n",
      "\n",
      "\n",
      "\n",
      "\n"
     ]
    },
    {
     "name": "stderr",
     "output_type": "stream",
     "text": [
      "İşleniyor:  61%|███████████████████████████████████████▏                        | 5574/9113 [01:29<00:51, 69.10dosya/s]"
     ]
    },
    {
     "name": "stdout",
     "output_type": "stream",
     "text": [
      "\n",
      "\n",
      "\n",
      "\n",
      "\n"
     ]
    },
    {
     "name": "stderr",
     "output_type": "stream",
     "text": [
      "İşleniyor:  61%|███████████████████████████████████████▎                        | 5599/9113 [01:30<00:49, 70.66dosya/s]"
     ]
    },
    {
     "name": "stdout",
     "output_type": "stream",
     "text": [
      "\n",
      "\n",
      "\n",
      "\n",
      "\n"
     ]
    },
    {
     "name": "stderr",
     "output_type": "stream",
     "text": [
      "İşleniyor:  62%|███████████████████████████████████████▍                        | 5624/9113 [01:30<00:54, 64.50dosya/s]"
     ]
    },
    {
     "name": "stdout",
     "output_type": "stream",
     "text": [
      "\n",
      "\n",
      "\n",
      "\n",
      "\n"
     ]
    },
    {
     "name": "stderr",
     "output_type": "stream",
     "text": [
      "İşleniyor:  62%|███████████████████████████████████████▌                        | 5641/9113 [01:30<00:51, 67.86dosya/s]"
     ]
    },
    {
     "name": "stdout",
     "output_type": "stream",
     "text": [
      "\n",
      "\n",
      "\n",
      "\n",
      "\n"
     ]
    },
    {
     "name": "stderr",
     "output_type": "stream",
     "text": [
      "İşleniyor:  62%|███████████████████████████████████████▊                        | 5663/9113 [01:31<00:56, 61.28dosya/s]"
     ]
    },
    {
     "name": "stdout",
     "output_type": "stream",
     "text": [
      "\n",
      "\n",
      "\n",
      "\n",
      "\n"
     ]
    },
    {
     "name": "stderr",
     "output_type": "stream",
     "text": [
      "İşleniyor:  62%|███████████████████████████████████████▉                        | 5691/9113 [01:31<00:57, 59.25dosya/s]"
     ]
    },
    {
     "name": "stdout",
     "output_type": "stream",
     "text": [
      "\n",
      "\n",
      "\n",
      "\n",
      "\n"
     ]
    },
    {
     "name": "stderr",
     "output_type": "stream",
     "text": [
      "İşleniyor:  63%|████████████████████████████████████████▏                       | 5714/9113 [01:32<00:53, 63.07dosya/s]"
     ]
    },
    {
     "name": "stdout",
     "output_type": "stream",
     "text": [
      "\n",
      "\n",
      "\n",
      "\n",
      "\n"
     ]
    },
    {
     "name": "stderr",
     "output_type": "stream",
     "text": [
      "İşleniyor:  63%|████████████████████████████████████████▎                       | 5744/9113 [01:32<00:58, 57.11dosya/s]"
     ]
    },
    {
     "name": "stdout",
     "output_type": "stream",
     "text": [
      "\n",
      "\n",
      "\n",
      "\n",
      "\n"
     ]
    },
    {
     "name": "stderr",
     "output_type": "stream",
     "text": [
      "İşleniyor:  63%|████████████████████████████████████████▍                       | 5765/9113 [01:33<00:53, 62.24dosya/s]"
     ]
    },
    {
     "name": "stdout",
     "output_type": "stream",
     "text": [
      "\n",
      "\n",
      "\n",
      "\n"
     ]
    },
    {
     "name": "stderr",
     "output_type": "stream",
     "text": [
      "İşleniyor:  64%|████████████████████████████████████████▋                       | 5790/9113 [01:33<01:03, 52.37dosya/s]"
     ]
    },
    {
     "name": "stdout",
     "output_type": "stream",
     "text": [
      "\n"
     ]
    },
    {
     "name": "stderr",
     "output_type": "stream",
     "text": [
      "İşleniyor:  64%|████████████████████████████████████████▊                       | 5811/9113 [01:33<00:54, 60.51dosya/s]"
     ]
    },
    {
     "name": "stdout",
     "output_type": "stream",
     "text": [
      "\n",
      "\n",
      "\n",
      "\n",
      "\n",
      "\n",
      "\n",
      "\n",
      "\n"
     ]
    },
    {
     "name": "stderr",
     "output_type": "stream",
     "text": [
      "İşleniyor:  64%|████████████████████████████████████████▉                       | 5836/9113 [01:34<01:00, 54.04dosya/s]"
     ]
    },
    {
     "name": "stdout",
     "output_type": "stream",
     "text": [
      "\n"
     ]
    },
    {
     "name": "stderr",
     "output_type": "stream",
     "text": [
      "İşleniyor:  64%|█████████████████████████████████████████                       | 5852/9113 [01:34<00:54, 59.58dosya/s]"
     ]
    },
    {
     "name": "stdout",
     "output_type": "stream",
     "text": [
      "\n",
      "\n",
      "\n",
      "\n",
      "\n"
     ]
    },
    {
     "name": "stderr",
     "output_type": "stream",
     "text": [
      "İşleniyor:  65%|█████████████████████████████████████████▎                      | 5885/9113 [01:35<00:46, 69.34dosya/s]"
     ]
    },
    {
     "name": "stdout",
     "output_type": "stream",
     "text": [
      "\n",
      "\n",
      "\n",
      "\n",
      "\n"
     ]
    },
    {
     "name": "stderr",
     "output_type": "stream",
     "text": [
      "İşleniyor:  65%|█████████████████████████████████████████▌                      | 5911/9113 [01:35<00:50, 63.39dosya/s]"
     ]
    },
    {
     "name": "stdout",
     "output_type": "stream",
     "text": [
      "\n",
      "\n",
      "\n",
      "\n",
      "\n"
     ]
    },
    {
     "name": "stderr",
     "output_type": "stream",
     "text": [
      "İşleniyor:  65%|█████████████████████████████████████████▋                      | 5934/9113 [01:36<00:53, 58.88dosya/s]"
     ]
    },
    {
     "name": "stdout",
     "output_type": "stream",
     "text": [
      "\n",
      "\n",
      "\n",
      "\n"
     ]
    },
    {
     "name": "stderr",
     "output_type": "stream",
     "text": [
      "İşleniyor:  67%|██████████████████████████████████████████▌                     | 6062/9113 [01:38<00:59, 51.02dosya/s]"
     ]
    },
    {
     "name": "stdout",
     "output_type": "stream",
     "text": [
      "\n"
     ]
    },
    {
     "name": "stderr",
     "output_type": "stream",
     "text": [
      "İşleniyor:  67%|██████████████████████████████████████████▋                     | 6081/9113 [01:38<00:55, 54.68dosya/s]"
     ]
    },
    {
     "name": "stdout",
     "output_type": "stream",
     "text": [
      "\n",
      "\n",
      "\n",
      "\n"
     ]
    },
    {
     "name": "stderr",
     "output_type": "stream",
     "text": [
      "İşleniyor:  67%|██████████████████████████████████████████▉                     | 6106/9113 [01:39<00:54, 55.11dosya/s]"
     ]
    },
    {
     "name": "stdout",
     "output_type": "stream",
     "text": [
      "\n",
      "\n"
     ]
    },
    {
     "name": "stderr",
     "output_type": "stream",
     "text": [
      "İşleniyor:  67%|███████████████████████████████████████████                     | 6128/9113 [01:39<00:46, 63.98dosya/s]"
     ]
    },
    {
     "name": "stdout",
     "output_type": "stream",
     "text": [
      "\n",
      "\n",
      "\n",
      "\n"
     ]
    },
    {
     "name": "stderr",
     "output_type": "stream",
     "text": [
      "İşleniyor:  68%|███████████████████████████████████████████▎                    | 6170/9113 [01:40<01:02, 47.43dosya/s]"
     ]
    },
    {
     "name": "stdout",
     "output_type": "stream",
     "text": [
      "\n"
     ]
    },
    {
     "name": "stderr",
     "output_type": "stream",
     "text": [
      "İşleniyor:  68%|███████████████████████████████████████████▍                    | 6190/9113 [01:40<00:56, 52.18dosya/s]"
     ]
    },
    {
     "name": "stdout",
     "output_type": "stream",
     "text": [
      "\n",
      "\n",
      "\n",
      "\n"
     ]
    },
    {
     "name": "stderr",
     "output_type": "stream",
     "text": [
      "İşleniyor:  68%|███████████████████████████████████████████▋                    | 6223/9113 [01:41<01:04, 44.50dosya/s]"
     ]
    },
    {
     "name": "stdout",
     "output_type": "stream",
     "text": [
      "\n"
     ]
    },
    {
     "name": "stderr",
     "output_type": "stream",
     "text": [
      "İşleniyor:  68%|███████████████████████████████████████████▊                    | 6237/9113 [01:41<00:52, 54.58dosya/s]"
     ]
    },
    {
     "name": "stdout",
     "output_type": "stream",
     "text": [
      "\n",
      "\n",
      "\n",
      "\n"
     ]
    },
    {
     "name": "stderr",
     "output_type": "stream",
     "text": [
      "İşleniyor:  69%|███████████████████████████████████████████▉                    | 6261/9113 [01:42<01:01, 46.43dosya/s]"
     ]
    },
    {
     "name": "stdout",
     "output_type": "stream",
     "text": [
      "\n"
     ]
    },
    {
     "name": "stderr",
     "output_type": "stream",
     "text": [
      "İşleniyor:  69%|████████████████████████████████████████████                    | 6281/9113 [01:42<00:51, 54.97dosya/s]"
     ]
    },
    {
     "name": "stdout",
     "output_type": "stream",
     "text": [
      "\n",
      "\n",
      "\n",
      "\n",
      "\n"
     ]
    },
    {
     "name": "stderr",
     "output_type": "stream",
     "text": [
      "İşleniyor:  69%|████████████████████████████████████████████▎                   | 6304/9113 [01:43<00:47, 58.93dosya/s]"
     ]
    },
    {
     "name": "stdout",
     "output_type": "stream",
     "text": [
      "\n",
      "\n",
      "\n",
      "\n",
      "\n"
     ]
    },
    {
     "name": "stderr",
     "output_type": "stream",
     "text": [
      "İşleniyor:  69%|████████████████████████████████████████████▍                   | 6326/9113 [01:43<00:49, 56.84dosya/s]"
     ]
    },
    {
     "name": "stdout",
     "output_type": "stream",
     "text": [
      "\n",
      "\n",
      "\n",
      "\n"
     ]
    },
    {
     "name": "stderr",
     "output_type": "stream",
     "text": [
      "İşleniyor:  70%|████████████████████████████████████████████▋                   | 6371/9113 [01:44<00:48, 56.17dosya/s]"
     ]
    },
    {
     "name": "stdout",
     "output_type": "stream",
     "text": [
      "\n"
     ]
    },
    {
     "name": "stderr",
     "output_type": "stream",
     "text": [
      "İşleniyor:  70%|████████████████████████████████████████████▉                   | 6392/9113 [01:44<00:41, 65.14dosya/s]"
     ]
    },
    {
     "name": "stdout",
     "output_type": "stream",
     "text": [
      "\n",
      "\n",
      "\n",
      "\n"
     ]
    },
    {
     "name": "stderr",
     "output_type": "stream",
     "text": [
      "İşleniyor:  71%|█████████████████████████████████████████████▏                  | 6430/9113 [01:45<00:53, 49.77dosya/s]"
     ]
    },
    {
     "name": "stdout",
     "output_type": "stream",
     "text": [
      "\n"
     ]
    },
    {
     "name": "stderr",
     "output_type": "stream",
     "text": [
      "İşleniyor:  71%|█████████████████████████████████████████████▎                  | 6447/9113 [01:45<00:44, 60.52dosya/s]"
     ]
    },
    {
     "name": "stdout",
     "output_type": "stream",
     "text": [
      "\n",
      "\n",
      "\n",
      "\n",
      "\n"
     ]
    },
    {
     "name": "stderr",
     "output_type": "stream",
     "text": [
      "İşleniyor:  71%|█████████████████████████████████████████████▍                  | 6476/9113 [01:46<00:44, 59.14dosya/s]"
     ]
    },
    {
     "name": "stdout",
     "output_type": "stream",
     "text": [
      "\n",
      "\n",
      "\n",
      "\n",
      "\n"
     ]
    },
    {
     "name": "stderr",
     "output_type": "stream",
     "text": [
      "İşleniyor:  71%|█████████████████████████████████████████████▋                  | 6502/9113 [01:46<00:36, 71.92dosya/s]"
     ]
    },
    {
     "name": "stdout",
     "output_type": "stream",
     "text": [
      "\n",
      "\n",
      "\n",
      "\n",
      "\n",
      "\n",
      "\n",
      "\n",
      "\n"
     ]
    },
    {
     "name": "stderr",
     "output_type": "stream",
     "text": [
      "İşleniyor:  72%|█████████████████████████████████████████████▊                  | 6526/9113 [01:47<00:38, 67.13dosya/s]"
     ]
    },
    {
     "name": "stdout",
     "output_type": "stream",
     "text": [
      "\n",
      "\n",
      "\n",
      "\n",
      "\n"
     ]
    },
    {
     "name": "stderr",
     "output_type": "stream",
     "text": [
      "İşleniyor:  72%|██████████████████████████████████████████████▏                 | 6583/9113 [01:48<00:49, 51.17dosya/s]"
     ]
    },
    {
     "name": "stdout",
     "output_type": "stream",
     "text": [
      "\n"
     ]
    },
    {
     "name": "stderr",
     "output_type": "stream",
     "text": [
      "İşleniyor:  72%|██████████████████████████████████████████████▎                 | 6603/9113 [01:48<00:48, 52.17dosya/s]"
     ]
    },
    {
     "name": "stdout",
     "output_type": "stream",
     "text": [
      "\n",
      "\n",
      "\n",
      "\n",
      "\n"
     ]
    },
    {
     "name": "stderr",
     "output_type": "stream",
     "text": [
      "İşleniyor:  73%|██████████████████████████████████████████████▌                 | 6624/9113 [01:49<00:40, 60.85dosya/s]"
     ]
    },
    {
     "name": "stdout",
     "output_type": "stream",
     "text": [
      "\n",
      "\n",
      "\n",
      "\n"
     ]
    },
    {
     "name": "stderr",
     "output_type": "stream",
     "text": [
      "İşleniyor:  73%|██████████████████████████████████████████████▋                 | 6649/9113 [01:49<00:47, 52.28dosya/s]"
     ]
    },
    {
     "name": "stdout",
     "output_type": "stream",
     "text": [
      "\n"
     ]
    },
    {
     "name": "stderr",
     "output_type": "stream",
     "text": [
      "İşleniyor:  73%|██████████████████████████████████████████████▊                 | 6668/9113 [01:50<00:43, 56.75dosya/s]"
     ]
    },
    {
     "name": "stdout",
     "output_type": "stream",
     "text": [
      "\n",
      "\n",
      "\n",
      "\n",
      "\n"
     ]
    },
    {
     "name": "stderr",
     "output_type": "stream",
     "text": [
      "İşleniyor:  73%|███████████████████████████████████████████████                 | 6698/9113 [01:50<00:39, 60.99dosya/s]"
     ]
    },
    {
     "name": "stdout",
     "output_type": "stream",
     "text": [
      "\n",
      "\n",
      "\n",
      "\n",
      "\n"
     ]
    },
    {
     "name": "stderr",
     "output_type": "stream",
     "text": [
      "İşleniyor:  74%|███████████████████████████████████████████████▏                | 6723/9113 [01:50<00:36, 64.74dosya/s]"
     ]
    },
    {
     "name": "stdout",
     "output_type": "stream",
     "text": [
      "\n",
      "\n",
      "\n",
      "\n",
      "\n"
     ]
    },
    {
     "name": "stderr",
     "output_type": "stream",
     "text": [
      "İşleniyor:  74%|███████████████████████████████████████████████▍                | 6746/9113 [01:51<00:35, 67.07dosya/s]"
     ]
    },
    {
     "name": "stdout",
     "output_type": "stream",
     "text": [
      "\n",
      "\n",
      "\n",
      "\n",
      "\n"
     ]
    },
    {
     "name": "stderr",
     "output_type": "stream",
     "text": [
      "İşleniyor:  74%|███████████████████████████████████████████████▌                | 6769/9113 [01:51<00:36, 64.49dosya/s]"
     ]
    },
    {
     "name": "stdout",
     "output_type": "stream",
     "text": [
      "\n",
      "\n",
      "\n",
      "\n",
      "\n"
     ]
    },
    {
     "name": "stderr",
     "output_type": "stream",
     "text": [
      "İşleniyor:  74%|███████████████████████████████████████████████▋                | 6786/9113 [01:51<00:36, 63.67dosya/s]"
     ]
    },
    {
     "name": "stdout",
     "output_type": "stream",
     "text": [
      "\n",
      "\n",
      "\n",
      "\n",
      "\n"
     ]
    },
    {
     "name": "stderr",
     "output_type": "stream",
     "text": [
      "İşleniyor:  75%|███████████████████████████████████████████████▊                | 6813/9113 [01:52<00:42, 53.94dosya/s]"
     ]
    },
    {
     "name": "stdout",
     "output_type": "stream",
     "text": [
      "\n",
      "\n",
      "\n",
      "\n",
      "\n"
     ]
    },
    {
     "name": "stderr",
     "output_type": "stream",
     "text": [
      "İşleniyor:  75%|███████████████████████████████████████████████▉                | 6832/9113 [01:52<00:41, 54.89dosya/s]"
     ]
    },
    {
     "name": "stdout",
     "output_type": "stream",
     "text": [
      "\n",
      "\n",
      "\n",
      "\n",
      "\n",
      "\n",
      "\n",
      "\n",
      "\n"
     ]
    },
    {
     "name": "stderr",
     "output_type": "stream",
     "text": [
      "İşleniyor:  76%|████████████████████████████████████████████████▎               | 6886/9113 [01:53<00:39, 56.15dosya/s]"
     ]
    },
    {
     "name": "stdout",
     "output_type": "stream",
     "text": [
      "\n"
     ]
    },
    {
     "name": "stderr",
     "output_type": "stream",
     "text": [
      "İşleniyor:  76%|████████████████████████████████████████████████▍               | 6903/9113 [01:54<00:33, 65.92dosya/s]"
     ]
    },
    {
     "name": "stdout",
     "output_type": "stream",
     "text": [
      "\n",
      "\n",
      "\n",
      "\n",
      "\n"
     ]
    },
    {
     "name": "stderr",
     "output_type": "stream",
     "text": [
      "İşleniyor:  76%|████████████████████████████████████████████████▋               | 6928/9113 [01:54<00:31, 69.89dosya/s]"
     ]
    },
    {
     "name": "stdout",
     "output_type": "stream",
     "text": [
      "\n",
      "\n",
      "\n",
      "\n",
      "\n"
     ]
    },
    {
     "name": "stderr",
     "output_type": "stream",
     "text": [
      "İşleniyor:  76%|████████████████████████████████████████████████▊               | 6953/9113 [01:54<00:32, 66.47dosya/s]"
     ]
    },
    {
     "name": "stdout",
     "output_type": "stream",
     "text": [
      "\n",
      "\n",
      "\n",
      "\n",
      "\n"
     ]
    },
    {
     "name": "stderr",
     "output_type": "stream",
     "text": [
      "İşleniyor:  77%|█████████████████████████████████████████████████               | 6978/9113 [01:55<00:36, 59.27dosya/s]"
     ]
    },
    {
     "name": "stdout",
     "output_type": "stream",
     "text": [
      "\n",
      "\n",
      "\n",
      "\n"
     ]
    },
    {
     "name": "stderr",
     "output_type": "stream",
     "text": [
      "İşleniyor:  77%|█████████████████████████████████████████████████▏              | 6998/9113 [01:55<00:37, 56.33dosya/s]"
     ]
    },
    {
     "name": "stdout",
     "output_type": "stream",
     "text": [
      "\n"
     ]
    },
    {
     "name": "stderr",
     "output_type": "stream",
     "text": [
      "İşleniyor:  77%|█████████████████████████████████████████████████▎              | 7021/9113 [01:56<00:33, 62.43dosya/s]"
     ]
    },
    {
     "name": "stdout",
     "output_type": "stream",
     "text": [
      "\n",
      "\n",
      "\n",
      "\n"
     ]
    },
    {
     "name": "stderr",
     "output_type": "stream",
     "text": [
      "İşleniyor:  78%|█████████████████████████████████████████████████▋              | 7071/9113 [01:57<00:38, 53.37dosya/s]"
     ]
    },
    {
     "name": "stdout",
     "output_type": "stream",
     "text": [
      "\n"
     ]
    },
    {
     "name": "stderr",
     "output_type": "stream",
     "text": [
      "İşleniyor:  78%|█████████████████████████████████████████████████▊              | 7094/9113 [01:57<00:32, 61.33dosya/s]"
     ]
    },
    {
     "name": "stdout",
     "output_type": "stream",
     "text": [
      "\n",
      "\n",
      "\n",
      "\n"
     ]
    },
    {
     "name": "stderr",
     "output_type": "stream",
     "text": [
      "İşleniyor:  78%|█████████████████████████████████████████████████▉              | 7113/9113 [01:57<00:27, 73.94dosya/s]"
     ]
    },
    {
     "name": "stdout",
     "output_type": "stream",
     "text": [
      "\n",
      "\n",
      "\n",
      "\n",
      "\n",
      "\n"
     ]
    },
    {
     "name": "stderr",
     "output_type": "stream",
     "text": [
      "İşleniyor:  78%|██████████████████████████████████████████████████▏             | 7138/9113 [01:58<00:28, 69.82dosya/s]"
     ]
    },
    {
     "name": "stdout",
     "output_type": "stream",
     "text": [
      "\n",
      "\n",
      "\n",
      "\n",
      "\n"
     ]
    },
    {
     "name": "stderr",
     "output_type": "stream",
     "text": [
      "İşleniyor:  79%|██████████████████████████████████████████████████▎             | 7156/9113 [01:58<00:28, 69.20dosya/s]"
     ]
    },
    {
     "name": "stdout",
     "output_type": "stream",
     "text": [
      "\n",
      "\n",
      "\n",
      "\n"
     ]
    },
    {
     "name": "stderr",
     "output_type": "stream",
     "text": [
      "İşleniyor:  79%|██████████████████████████████████████████████████▍             | 7178/9113 [01:58<00:31, 61.02dosya/s]"
     ]
    },
    {
     "name": "stdout",
     "output_type": "stream",
     "text": [
      "\n"
     ]
    },
    {
     "name": "stderr",
     "output_type": "stream",
     "text": [
      "İşleniyor:  79%|██████████████████████████████████████████████████▌             | 7201/9113 [01:59<00:30, 63.64dosya/s]"
     ]
    },
    {
     "name": "stdout",
     "output_type": "stream",
     "text": [
      "\n",
      "\n",
      "\n",
      "\n",
      "\n"
     ]
    },
    {
     "name": "stderr",
     "output_type": "stream",
     "text": [
      "İşleniyor:  79%|██████████████████████████████████████████████████▋             | 7226/9113 [01:59<00:27, 69.13dosya/s]"
     ]
    },
    {
     "name": "stdout",
     "output_type": "stream",
     "text": [
      "\n",
      "\n",
      "\n",
      "\n",
      "\n"
     ]
    },
    {
     "name": "stderr",
     "output_type": "stream",
     "text": [
      "İşleniyor:  80%|██████████████████████████████████████████████████▉             | 7248/9113 [01:59<00:31, 59.15dosya/s]"
     ]
    },
    {
     "name": "stdout",
     "output_type": "stream",
     "text": [
      "\n",
      "\n",
      "\n",
      "\n",
      "\n"
     ]
    },
    {
     "name": "stderr",
     "output_type": "stream",
     "text": [
      "İşleniyor:  80%|███████████████████████████████████████████████████             | 7279/9113 [02:00<00:29, 61.19dosya/s]"
     ]
    },
    {
     "name": "stdout",
     "output_type": "stream",
     "text": [
      "\n",
      "\n",
      "\n",
      "\n",
      "\n"
     ]
    },
    {
     "name": "stderr",
     "output_type": "stream",
     "text": [
      "İşleniyor:  80%|███████████████████████████████████████████████████▎            | 7302/9113 [02:00<00:31, 57.65dosya/s]"
     ]
    },
    {
     "name": "stdout",
     "output_type": "stream",
     "text": [
      "\n",
      "\n",
      "\n",
      "\n",
      "\n",
      "\n",
      "\n",
      "\n",
      "\n"
     ]
    },
    {
     "name": "stderr",
     "output_type": "stream",
     "text": [
      "İşleniyor:  80%|███████████████████████████████████████████████████▌            | 7334/9113 [02:01<00:30, 59.01dosya/s]"
     ]
    },
    {
     "name": "stdout",
     "output_type": "stream",
     "text": [
      "\n"
     ]
    },
    {
     "name": "stderr",
     "output_type": "stream",
     "text": [
      "İşleniyor:  81%|███████████████████████████████████████████████████▋            | 7357/9113 [02:01<00:30, 58.47dosya/s]"
     ]
    },
    {
     "name": "stdout",
     "output_type": "stream",
     "text": [
      "\n",
      "\n",
      "\n",
      "\n",
      "\n"
     ]
    },
    {
     "name": "stderr",
     "output_type": "stream",
     "text": [
      "İşleniyor:  81%|███████████████████████████████████████████████████▊            | 7386/9113 [02:02<00:29, 58.17dosya/s]"
     ]
    },
    {
     "name": "stdout",
     "output_type": "stream",
     "text": [
      "\n",
      "\n",
      "\n",
      "\n",
      "\n"
     ]
    },
    {
     "name": "stderr",
     "output_type": "stream",
     "text": [
      "İşleniyor:  81%|████████████████████████████████████████████████████            | 7409/9113 [02:02<00:26, 65.08dosya/s]"
     ]
    },
    {
     "name": "stdout",
     "output_type": "stream",
     "text": [
      "\n",
      "\n",
      "\n",
      "\n",
      "\n"
     ]
    },
    {
     "name": "stderr",
     "output_type": "stream",
     "text": [
      "İşleniyor:  82%|████████████████████████████████████████████████████▏           | 7435/9113 [02:02<00:23, 70.73dosya/s]"
     ]
    },
    {
     "name": "stdout",
     "output_type": "stream",
     "text": [
      "\n",
      "\n",
      "\n",
      "\n",
      "\n"
     ]
    },
    {
     "name": "stderr",
     "output_type": "stream",
     "text": [
      "İşleniyor:  82%|████████████████████████████████████████████████████▍           | 7458/9113 [02:03<00:26, 62.38dosya/s]"
     ]
    },
    {
     "name": "stdout",
     "output_type": "stream",
     "text": [
      "\n",
      "\n",
      "\n",
      "\n",
      "\n"
     ]
    },
    {
     "name": "stderr",
     "output_type": "stream",
     "text": [
      "İşleniyor:  82%|████████████████████████████████████████████████████▌           | 7482/9113 [02:03<00:25, 65.04dosya/s]"
     ]
    },
    {
     "name": "stdout",
     "output_type": "stream",
     "text": [
      "\n",
      "\n",
      "\n",
      "\n",
      "\n"
     ]
    },
    {
     "name": "stderr",
     "output_type": "stream",
     "text": [
      "İşleniyor:  82%|████████████████████████████████████████████████████▊           | 7513/9113 [02:04<00:26, 60.67dosya/s]"
     ]
    },
    {
     "name": "stdout",
     "output_type": "stream",
     "text": [
      "\n",
      "\n",
      "\n",
      "\n",
      "\n"
     ]
    },
    {
     "name": "stderr",
     "output_type": "stream",
     "text": [
      "İşleniyor:  83%|████████████████████████████████████████████████████▉           | 7530/9113 [02:04<00:23, 66.00dosya/s]"
     ]
    },
    {
     "name": "stdout",
     "output_type": "stream",
     "text": [
      "\n",
      "\n",
      "\n",
      "\n",
      "\n"
     ]
    },
    {
     "name": "stderr",
     "output_type": "stream",
     "text": [
      "İşleniyor:  83%|█████████████████████████████████████████████████████           | 7562/9113 [02:05<00:28, 53.85dosya/s]"
     ]
    },
    {
     "name": "stdout",
     "output_type": "stream",
     "text": [
      "\n",
      "\n",
      "\n",
      "\n",
      "\n"
     ]
    },
    {
     "name": "stderr",
     "output_type": "stream",
     "text": [
      "\r",
      "İşleniyor:  83%|█████████████████████████████████████████████████████▏          | 7570/9113 [02:05<00:27, 55.42dosya/s]"
     ]
    },
    {
     "name": "stdout",
     "output_type": "stream",
     "text": [
      "\n",
      "\n",
      "\n",
      "\n"
     ]
    },
    {
     "name": "stderr",
     "output_type": "stream",
     "text": [
      "İşleniyor:  83%|█████████████████████████████████████████████████████▏          | 7582/9113 [02:05<00:30, 51.00dosya/s]"
     ]
    },
    {
     "name": "stdout",
     "output_type": "stream",
     "text": [
      "\n"
     ]
    },
    {
     "name": "stderr",
     "output_type": "stream",
     "text": [
      "İşleniyor:  83%|█████████████████████████████████████████████████████▎          | 7598/9113 [02:05<00:25, 58.49dosya/s]"
     ]
    },
    {
     "name": "stdout",
     "output_type": "stream",
     "text": [
      "\n",
      "\n",
      "\n",
      "\n"
     ]
    },
    {
     "name": "stderr",
     "output_type": "stream",
     "text": [
      "İşleniyor:  84%|█████████████████████████████████████████████████████▋          | 7651/9113 [02:07<00:29, 50.07dosya/s]"
     ]
    },
    {
     "name": "stdout",
     "output_type": "stream",
     "text": [
      "\n"
     ]
    },
    {
     "name": "stderr",
     "output_type": "stream",
     "text": [
      "İşleniyor:  84%|█████████████████████████████████████████████████████▉          | 7679/9113 [02:07<00:24, 58.43dosya/s]"
     ]
    },
    {
     "name": "stdout",
     "output_type": "stream",
     "text": [
      "\n",
      "\n",
      "\n",
      "\n",
      "\n"
     ]
    },
    {
     "name": "stderr",
     "output_type": "stream",
     "text": [
      "İşleniyor:  85%|██████████████████████████████████████████████████████          | 7702/9113 [02:07<00:23, 60.00dosya/s]"
     ]
    },
    {
     "name": "stdout",
     "output_type": "stream",
     "text": [
      "\n",
      "\n",
      "\n",
      "\n",
      "\n"
     ]
    },
    {
     "name": "stderr",
     "output_type": "stream",
     "text": [
      "İşleniyor:  85%|██████████████████████████████████████████████████████▏         | 7724/9113 [02:08<00:22, 60.74dosya/s]"
     ]
    },
    {
     "name": "stdout",
     "output_type": "stream",
     "text": [
      "\n",
      "\n",
      "\n",
      "\n",
      "\n"
     ]
    },
    {
     "name": "stderr",
     "output_type": "stream",
     "text": [
      "İşleniyor:  85%|██████████████████████████████████████████████████████▍         | 7746/9113 [02:08<00:23, 58.84dosya/s]"
     ]
    },
    {
     "name": "stdout",
     "output_type": "stream",
     "text": [
      "\n",
      "\n",
      "\n",
      "\n"
     ]
    },
    {
     "name": "stderr",
     "output_type": "stream",
     "text": [
      "İşleniyor:  85%|██████████████████████████████████████████████████████▌         | 7766/9113 [02:09<00:24, 53.90dosya/s]"
     ]
    },
    {
     "name": "stdout",
     "output_type": "stream",
     "text": [
      "\n"
     ]
    },
    {
     "name": "stderr",
     "output_type": "stream",
     "text": [
      "İşleniyor:  85%|██████████████████████████████████████████████████████▋         | 7786/9113 [02:09<00:22, 58.77dosya/s]"
     ]
    },
    {
     "name": "stdout",
     "output_type": "stream",
     "text": [
      "\n",
      "\n",
      "\n",
      "\n"
     ]
    },
    {
     "name": "stderr",
     "output_type": "stream",
     "text": [
      "İşleniyor:  86%|██████████████████████████████████████████████████████▊         | 7810/9113 [02:09<00:25, 50.93dosya/s]"
     ]
    },
    {
     "name": "stdout",
     "output_type": "stream",
     "text": [
      "\n"
     ]
    },
    {
     "name": "stderr",
     "output_type": "stream",
     "text": [
      "İşleniyor:  86%|███████████████████████████████████████████████████████         | 7833/9113 [02:10<00:20, 62.29dosya/s]"
     ]
    },
    {
     "name": "stdout",
     "output_type": "stream",
     "text": [
      "\n",
      "\n",
      "\n",
      "\n",
      "\n"
     ]
    },
    {
     "name": "stderr",
     "output_type": "stream",
     "text": [
      "İşleniyor:  86%|███████████████████████████████████████████████████████▏        | 7857/9113 [02:10<00:18, 66.38dosya/s]"
     ]
    },
    {
     "name": "stdout",
     "output_type": "stream",
     "text": [
      "\n",
      "\n",
      "\n",
      "\n",
      "\n"
     ]
    },
    {
     "name": "stderr",
     "output_type": "stream",
     "text": [
      "İşleniyor:  86%|███████████████████████████████████████████████████████▎        | 7879/9113 [02:11<00:21, 56.56dosya/s]"
     ]
    },
    {
     "name": "stdout",
     "output_type": "stream",
     "text": [
      "\n",
      "\n",
      "\n",
      "\n",
      "\n"
     ]
    },
    {
     "name": "stderr",
     "output_type": "stream",
     "text": [
      "İşleniyor:  87%|███████████████████████████████████████████████████████▍        | 7900/9113 [02:11<00:21, 55.48dosya/s]"
     ]
    },
    {
     "name": "stdout",
     "output_type": "stream",
     "text": [
      "\n",
      "\n",
      "\n"
     ]
    },
    {
     "name": "stderr",
     "output_type": "stream",
     "text": [
      "İşleniyor:  87%|███████████████████████████████████████████████████████▊        | 7947/9113 [02:12<00:24, 47.98dosya/s]"
     ]
    },
    {
     "name": "stdout",
     "output_type": "stream",
     "text": [
      "\n"
     ]
    },
    {
     "name": "stderr",
     "output_type": "stream",
     "text": [
      "İşleniyor:  87%|███████████████████████████████████████████████████████▉        | 7961/9113 [02:12<00:21, 53.11dosya/s]"
     ]
    },
    {
     "name": "stdout",
     "output_type": "stream",
     "text": [
      "\n",
      "\n",
      "\n",
      "\n",
      "\n"
     ]
    },
    {
     "name": "stderr",
     "output_type": "stream",
     "text": [
      "İşleniyor:  88%|████████████████████████████████████████████████████████        | 7988/9113 [02:13<00:21, 51.69dosya/s]"
     ]
    },
    {
     "name": "stdout",
     "output_type": "stream",
     "text": [
      "\n",
      "\n",
      "\n",
      "\n"
     ]
    },
    {
     "name": "stderr",
     "output_type": "stream",
     "text": [
      "İşleniyor:  88%|████████████████████████████████████████████████████████▎       | 8010/9113 [02:13<00:24, 44.91dosya/s]"
     ]
    },
    {
     "name": "stdout",
     "output_type": "stream",
     "text": [
      "\n"
     ]
    },
    {
     "name": "stderr",
     "output_type": "stream",
     "text": [
      "İşleniyor:  88%|████████████████████████████████████████████████████████▍       | 8034/9113 [02:14<00:21, 50.02dosya/s]"
     ]
    },
    {
     "name": "stdout",
     "output_type": "stream",
     "text": [
      "\n",
      "\n",
      "\n",
      "\n"
     ]
    },
    {
     "name": "stderr",
     "output_type": "stream",
     "text": [
      "İşleniyor:  89%|████████████████████████████████████████████████████████▋       | 8074/9113 [02:15<00:17, 60.89dosya/s]"
     ]
    },
    {
     "name": "stdout",
     "output_type": "stream",
     "text": [
      "\n",
      "\n",
      "\n",
      "\n",
      "\n",
      "\n"
     ]
    },
    {
     "name": "stderr",
     "output_type": "stream",
     "text": [
      "İşleniyor:  89%|████████████████████████████████████████████████████████▉       | 8102/9113 [02:15<00:18, 56.14dosya/s]"
     ]
    },
    {
     "name": "stdout",
     "output_type": "stream",
     "text": [
      "\n",
      "\n",
      "\n",
      "\n"
     ]
    },
    {
     "name": "stderr",
     "output_type": "stream",
     "text": [
      "İşleniyor:  89%|█████████████████████████████████████████████████████████       | 8127/9113 [02:16<00:19, 51.40dosya/s]"
     ]
    },
    {
     "name": "stdout",
     "output_type": "stream",
     "text": [
      "\n"
     ]
    },
    {
     "name": "stderr",
     "output_type": "stream",
     "text": [
      "İşleniyor:  89%|█████████████████████████████████████████████████████████▏      | 8151/9113 [02:16<00:15, 61.16dosya/s]"
     ]
    },
    {
     "name": "stdout",
     "output_type": "stream",
     "text": [
      "\n",
      "\n",
      "\n",
      "\n",
      "\n"
     ]
    },
    {
     "name": "stderr",
     "output_type": "stream",
     "text": [
      "İşleniyor:  90%|█████████████████████████████████████████████████████████▍      | 8175/9113 [02:16<00:14, 63.58dosya/s]"
     ]
    },
    {
     "name": "stdout",
     "output_type": "stream",
     "text": [
      "\n",
      "\n",
      "\n",
      "\n",
      "\n"
     ]
    },
    {
     "name": "stderr",
     "output_type": "stream",
     "text": [
      "İşleniyor:  90%|█████████████████████████████████████████████████████████▌      | 8197/9113 [02:17<00:14, 63.68dosya/s]"
     ]
    },
    {
     "name": "stdout",
     "output_type": "stream",
     "text": [
      "\n",
      "\n",
      "\n",
      "\n",
      "\n"
     ]
    },
    {
     "name": "stderr",
     "output_type": "stream",
     "text": [
      "İşleniyor:  90%|█████████████████████████████████████████████████████████▊      | 8225/9113 [02:17<00:16, 55.36dosya/s]"
     ]
    },
    {
     "name": "stdout",
     "output_type": "stream",
     "text": [
      "\n",
      "\n",
      "\n",
      "\n",
      "\n"
     ]
    },
    {
     "name": "stderr",
     "output_type": "stream",
     "text": [
      "İşleniyor:  90%|█████████████████████████████████████████████████████████▉      | 8245/9113 [02:18<00:15, 56.04dosya/s]"
     ]
    },
    {
     "name": "stdout",
     "output_type": "stream",
     "text": [
      "\n",
      "\n",
      "\n",
      "\n",
      "\n"
     ]
    },
    {
     "name": "stderr",
     "output_type": "stream",
     "text": [
      "İşleniyor:  91%|██████████████████████████████████████████████████████████      | 8266/9113 [02:18<00:15, 54.40dosya/s]"
     ]
    },
    {
     "name": "stdout",
     "output_type": "stream",
     "text": [
      "\n",
      "\n",
      "\n",
      "\n",
      "\n"
     ]
    },
    {
     "name": "stderr",
     "output_type": "stream",
     "text": [
      "İşleniyor:  91%|██████████████████████████████████████████████████████████▏     | 8285/9113 [02:18<00:15, 53.10dosya/s]"
     ]
    },
    {
     "name": "stdout",
     "output_type": "stream",
     "text": [
      "\n",
      "\n",
      "\n",
      "\n",
      "\n"
     ]
    },
    {
     "name": "stderr",
     "output_type": "stream",
     "text": [
      "İşleniyor:  91%|██████████████████████████████████████████████████████████▎     | 8305/9113 [02:19<00:14, 55.57dosya/s]"
     ]
    },
    {
     "name": "stdout",
     "output_type": "stream",
     "text": [
      "\n",
      "\n",
      "\n",
      "\n",
      "\n"
     ]
    },
    {
     "name": "stderr",
     "output_type": "stream",
     "text": [
      "İşleniyor:  91%|██████████████████████████████████████████████████████████▍     | 8325/9113 [02:19<00:14, 56.18dosya/s]"
     ]
    },
    {
     "name": "stdout",
     "output_type": "stream",
     "text": [
      "\n",
      "\n",
      "\n",
      "\n",
      "\n"
     ]
    },
    {
     "name": "stderr",
     "output_type": "stream",
     "text": [
      "İşleniyor:  92%|██████████████████████████████████████████████████████████▋     | 8351/9113 [02:20<00:14, 54.12dosya/s]"
     ]
    },
    {
     "name": "stdout",
     "output_type": "stream",
     "text": [
      "\n",
      "\n",
      "\n",
      "\n",
      "\n"
     ]
    },
    {
     "name": "stderr",
     "output_type": "stream",
     "text": [
      "İşleniyor:  92%|██████████████████████████████████████████████████████████▊     | 8372/9113 [02:20<00:12, 59.14dosya/s]"
     ]
    },
    {
     "name": "stdout",
     "output_type": "stream",
     "text": [
      "\n",
      "\n",
      "\n",
      "\n"
     ]
    },
    {
     "name": "stderr",
     "output_type": "stream",
     "text": [
      "İşleniyor:  92%|███████████████████████████████████████████████████████████▏    | 8420/9113 [02:21<00:12, 53.76dosya/s]"
     ]
    },
    {
     "name": "stdout",
     "output_type": "stream",
     "text": [
      "\n",
      "\n",
      "\n",
      "\n",
      "\n",
      "\n"
     ]
    },
    {
     "name": "stderr",
     "output_type": "stream",
     "text": [
      "İşleniyor:  93%|███████████████████████████████████████████████████████████▎    | 8446/9113 [02:22<00:12, 55.48dosya/s]"
     ]
    },
    {
     "name": "stdout",
     "output_type": "stream",
     "text": [
      "\n",
      "\n",
      "\n",
      "\n"
     ]
    },
    {
     "name": "stderr",
     "output_type": "stream",
     "text": [
      "İşleniyor:  93%|███████████████████████████████████████████████████████████▍    | 8470/9113 [02:22<00:13, 48.65dosya/s]"
     ]
    },
    {
     "name": "stdout",
     "output_type": "stream",
     "text": [
      "\n"
     ]
    },
    {
     "name": "stderr",
     "output_type": "stream",
     "text": [
      "İşleniyor:  93%|███████████████████████████████████████████████████████████▌    | 8490/9113 [02:22<00:11, 54.80dosya/s]"
     ]
    },
    {
     "name": "stdout",
     "output_type": "stream",
     "text": [
      "\n",
      "\n",
      "\n",
      "\n",
      "\n"
     ]
    },
    {
     "name": "stderr",
     "output_type": "stream",
     "text": [
      "İşleniyor:  93%|███████████████████████████████████████████████████████████▊    | 8519/9113 [02:23<00:10, 59.18dosya/s]"
     ]
    },
    {
     "name": "stdout",
     "output_type": "stream",
     "text": [
      "\n",
      "\n",
      "\n",
      "\n",
      "\n"
     ]
    },
    {
     "name": "stderr",
     "output_type": "stream",
     "text": [
      "İşleniyor:  94%|███████████████████████████████████████████████████████████▉    | 8534/9113 [02:23<00:09, 64.27dosya/s]"
     ]
    },
    {
     "name": "stdout",
     "output_type": "stream",
     "text": [
      "\n",
      "\n",
      "\n",
      "\n",
      "\n",
      "\n"
     ]
    },
    {
     "name": "stderr",
     "output_type": "stream",
     "text": [
      "İşleniyor:  94%|████████████████████████████████████████████████████████████    | 8555/9113 [02:24<00:10, 54.13dosya/s]"
     ]
    },
    {
     "name": "stdout",
     "output_type": "stream",
     "text": [
      "\n",
      "\n",
      "\n"
     ]
    },
    {
     "name": "stderr",
     "output_type": "stream",
     "text": [
      "İşleniyor:  94%|████████████████████████████████████████████████████████████▏   | 8566/9113 [02:24<00:12, 44.60dosya/s]"
     ]
    },
    {
     "name": "stdout",
     "output_type": "stream",
     "text": [
      "\n"
     ]
    },
    {
     "name": "stderr",
     "output_type": "stream",
     "text": [
      "İşleniyor:  94%|████████████████████████████████████████████████████████████▎   | 8589/9113 [02:24<00:08, 62.45dosya/s]"
     ]
    },
    {
     "name": "stdout",
     "output_type": "stream",
     "text": [
      "\n",
      "\n",
      "\n",
      "\n",
      "\n",
      "\n",
      "\n",
      "\n",
      "\n"
     ]
    },
    {
     "name": "stderr",
     "output_type": "stream",
     "text": [
      "İşleniyor:  95%|████████████████████████████████████████████████████████████▌   | 8628/9113 [02:25<00:09, 52.16dosya/s]"
     ]
    },
    {
     "name": "stdout",
     "output_type": "stream",
     "text": [
      "\n",
      "\n"
     ]
    },
    {
     "name": "stderr",
     "output_type": "stream",
     "text": [
      "İşleniyor:  95%|████████████████████████████████████████████████████████████▊   | 8652/9113 [02:25<00:06, 66.96dosya/s]"
     ]
    },
    {
     "name": "stdout",
     "output_type": "stream",
     "text": [
      "\n",
      "\n",
      "\n",
      "\n",
      "\n",
      "\n",
      "\n",
      "\n"
     ]
    },
    {
     "name": "stderr",
     "output_type": "stream",
     "text": [
      "İşleniyor:  95%|████████████████████████████████████████████████████████████▊   | 8666/9113 [02:26<00:07, 57.31dosya/s]"
     ]
    },
    {
     "name": "stdout",
     "output_type": "stream",
     "text": [
      "\n",
      "\n",
      "\n",
      "\n",
      "\n"
     ]
    },
    {
     "name": "stderr",
     "output_type": "stream",
     "text": [
      "İşleniyor:  95%|█████████████████████████████████████████████████████████████   | 8686/9113 [02:26<00:06, 71.12dosya/s]"
     ]
    },
    {
     "name": "stdout",
     "output_type": "stream",
     "text": [
      "\n",
      "\n",
      "\n",
      "\n",
      "\n"
     ]
    },
    {
     "name": "stderr",
     "output_type": "stream",
     "text": [
      "İşleniyor:  96%|█████████████████████████████████████████████████████████████▏  | 8718/9113 [02:26<00:06, 61.31dosya/s]"
     ]
    },
    {
     "name": "stdout",
     "output_type": "stream",
     "text": [
      "\n",
      "\n",
      "\n",
      "\n",
      "\n"
     ]
    },
    {
     "name": "stderr",
     "output_type": "stream",
     "text": [
      "İşleniyor:  96%|█████████████████████████████████████████████████████████████▎  | 8737/9113 [02:27<00:07, 52.62dosya/s]"
     ]
    },
    {
     "name": "stdout",
     "output_type": "stream",
     "text": [
      "\n"
     ]
    },
    {
     "name": "stderr",
     "output_type": "stream",
     "text": [
      "İşleniyor:  96%|█████████████████████████████████████████████████████████████▍  | 8757/9113 [02:27<00:06, 56.46dosya/s]"
     ]
    },
    {
     "name": "stdout",
     "output_type": "stream",
     "text": [
      "\n",
      "\n",
      "\n",
      "\n"
     ]
    },
    {
     "name": "stderr",
     "output_type": "stream",
     "text": [
      "İşleniyor:  96%|█████████████████████████████████████████████████████████████▋  | 8784/9113 [02:28<00:05, 59.07dosya/s]"
     ]
    },
    {
     "name": "stdout",
     "output_type": "stream",
     "text": [
      "\n",
      "\n",
      "\n",
      "\n",
      "\n"
     ]
    },
    {
     "name": "stderr",
     "output_type": "stream",
     "text": [
      "İşleniyor:  97%|█████████████████████████████████████████████████████████████▉  | 8811/9113 [02:28<00:05, 55.91dosya/s]"
     ]
    },
    {
     "name": "stdout",
     "output_type": "stream",
     "text": [
      "\n",
      "\n",
      "\n",
      "\n",
      "\n"
     ]
    },
    {
     "name": "stderr",
     "output_type": "stream",
     "text": [
      "İşleniyor:  97%|██████████████████████████████████████████████████████████████  | 8835/9113 [02:29<00:05, 50.50dosya/s]"
     ]
    },
    {
     "name": "stdout",
     "output_type": "stream",
     "text": [
      "\n"
     ]
    },
    {
     "name": "stderr",
     "output_type": "stream",
     "text": [
      "İşleniyor:  97%|██████████████████████████████████████████████████████████████▏ | 8851/9113 [02:29<00:04, 58.61dosya/s]"
     ]
    },
    {
     "name": "stdout",
     "output_type": "stream",
     "text": [
      "\n",
      "\n",
      "\n",
      "\n",
      "\n"
     ]
    },
    {
     "name": "stderr",
     "output_type": "stream",
     "text": [
      "İşleniyor:  97%|██████████████████████████████████████████████████████████████▎ | 8876/9113 [02:30<00:04, 54.51dosya/s]"
     ]
    },
    {
     "name": "stdout",
     "output_type": "stream",
     "text": [
      "\n",
      "\n",
      "\n",
      "\n",
      "\n"
     ]
    },
    {
     "name": "stderr",
     "output_type": "stream",
     "text": [
      "İşleniyor:  98%|██████████████████████████████████████████████████████████████▍ | 8899/9113 [02:30<00:03, 64.79dosya/s]"
     ]
    },
    {
     "name": "stdout",
     "output_type": "stream",
     "text": [
      "\n",
      "\n",
      "\n",
      "\n",
      "\n",
      "\n",
      "\n"
     ]
    },
    {
     "name": "stderr",
     "output_type": "stream",
     "text": [
      "İşleniyor:  98%|██████████████████████████████████████████████████████████████▋ | 8929/9113 [02:30<00:02, 65.31dosya/s]"
     ]
    },
    {
     "name": "stdout",
     "output_type": "stream",
     "text": [
      "\n",
      "\n",
      "\n",
      "\n",
      "\n",
      "\n",
      "\n"
     ]
    },
    {
     "name": "stderr",
     "output_type": "stream",
     "text": [
      "İşleniyor:  98%|██████████████████████████████████████████████████████████████▉ | 8966/9113 [02:31<00:02, 56.15dosya/s]"
     ]
    },
    {
     "name": "stdout",
     "output_type": "stream",
     "text": [
      "\n",
      "\n",
      "\n",
      "\n",
      "\n"
     ]
    },
    {
     "name": "stderr",
     "output_type": "stream",
     "text": [
      "İşleniyor:  99%|███████████████████████████████████████████████████████████████▏| 9002/9113 [02:32<00:02, 49.83dosya/s]"
     ]
    },
    {
     "name": "stdout",
     "output_type": "stream",
     "text": [
      "\n"
     ]
    },
    {
     "name": "stderr",
     "output_type": "stream",
     "text": [
      "İşleniyor:  99%|███████████████████████████████████████████████████████████████▍| 9025/9113 [02:32<00:01, 62.16dosya/s]"
     ]
    },
    {
     "name": "stdout",
     "output_type": "stream",
     "text": [
      "\n",
      "\n",
      "\n",
      "\n",
      "\n",
      "\n",
      "\n",
      "\n"
     ]
    },
    {
     "name": "stderr",
     "output_type": "stream",
     "text": [
      "\r",
      "İşleniyor:  99%|███████████████████████████████████████████████████████████████▍| 9032/9113 [02:32<00:01, 56.73dosya/s]"
     ]
    },
    {
     "name": "stdout",
     "output_type": "stream",
     "text": [
      "\n"
     ]
    },
    {
     "name": "stderr",
     "output_type": "stream",
     "text": [
      "İşleniyor:  99%|███████████████████████████████████████████████████████████████▌| 9044/9113 [02:33<00:01, 49.21dosya/s]"
     ]
    },
    {
     "name": "stdout",
     "output_type": "stream",
     "text": [
      "\n"
     ]
    },
    {
     "name": "stderr",
     "output_type": "stream",
     "text": [
      "İşleniyor:  99%|███████████████████████████████████████████████████████████████▌| 9057/9113 [02:33<00:01, 49.42dosya/s]"
     ]
    },
    {
     "name": "stdout",
     "output_type": "stream",
     "text": [
      "\n",
      "\n",
      "\n",
      "\n"
     ]
    },
    {
     "name": "stderr",
     "output_type": "stream",
     "text": [
      "İşleniyor: 100%|███████████████████████████████████████████████████████████████▋| 9073/9113 [02:33<00:00, 60.61dosya/s]"
     ]
    },
    {
     "name": "stdout",
     "output_type": "stream",
     "text": [
      "\n",
      "\n",
      "\n",
      "\n",
      "\n"
     ]
    },
    {
     "name": "stderr",
     "output_type": "stream",
     "text": [
      "İşleniyor: 100%|███████████████████████████████████████████████████████████████▉| 9103/9113 [02:34<00:00, 44.30dosya/s]"
     ]
    },
    {
     "name": "stdout",
     "output_type": "stream",
     "text": [
      "\n"
     ]
    },
    {
     "name": "stderr",
     "output_type": "stream",
     "text": [
      "İşleniyor: 100%|████████████████████████████████████████████████████████████████| 9113/9113 [02:34<00:00, 58.99dosya/s]"
     ]
    },
    {
     "name": "stdout",
     "output_type": "stream",
     "text": [
      "\n",
      "\n",
      "\n",
      "\n"
     ]
    },
    {
     "name": "stderr",
     "output_type": "stream",
     "text": [
      "\n"
     ]
    }
   ],
   "source": [
    "polys = []\n",
    "chromas = []\n",
    "#tonnetzs = []\n",
    "labels = []\n",
    "mfcc_list = []\n",
    "for i, dosya in enumerate(tqdm(dosya_isimleri,  desc='İşleniyor', unit='dosya')):\n",
    "    try:\n",
    "        ses, ornekleme_orani = librosa.load(dosya)\n",
    "        ses_trimmed, ornekleme_orani2  = librosa.effects.trim(ses, top_db = 20)\n",
    "        ses_trimmed2 = sesi_doldur_kirp(ses_trimmed)\n",
    "        poly = librosa.feature.poly_features(y = ses_trimmed2, sr = ornekleme_orani)\n",
    "        chroma = librosa.feature.chroma_stft(y = ses_trimmed2, sr = ornekleme_orani)\n",
    "        mfcc = librosa.feature.mfcc(y = ses_trimmed2, sr = ornekleme_orani )\n",
    "        #ses_trimmed3 = np.resize(ses_trimmed2, (149,149))\n",
    "#         tonnet = librosa.feature.tonnetz(y = ses, sr = ornekleme_orani)\n",
    "        labels.append(etiketler[i])\n",
    "        polys.append(poly)\n",
    "        chromas.append(chroma)\n",
    "        mfcc_list.append(mfcc)\n",
    "\n",
    "    except Exception as e:\n",
    "        print(e)"
   ]
  },
  {
   "cell_type": "code",
   "execution_count": 8,
   "id": "77504752",
   "metadata": {},
   "outputs": [],
   "source": [
    "import pickle\n",
    "with open('bisaya_label_encoder_399.pkl', 'rb') as f:\n",
    "    le = pickle.load(f)"
   ]
  },
  {
   "cell_type": "markdown",
   "id": "ce2f5dd3",
   "metadata": {},
   "source": [
    "## CNN"
   ]
  },
  {
   "cell_type": "code",
   "execution_count": 101,
   "id": "9563ab87",
   "metadata": {},
   "outputs": [],
   "source": [
    "# le = LabelEncoder()\n",
    "# le.fit(labels)\n",
    "y=le.transform(labels)"
   ]
  },
  {
   "cell_type": "code",
   "execution_count": 102,
   "id": "5a7a2f56",
   "metadata": {},
   "outputs": [],
   "source": [
    "#tonnetz = np.array(tonnetz_list)\n",
    "chroma_stft = np.array(chromas)\n",
    "polyss = np.array(polys)\n",
    "# seslers = np.array(sesler)\n",
    "# flats = np.array(flat)\n",
    "# tonnetzss = np.array(tonnetzs)\n",
    "#zcr = np.array(zcr_list)\n",
    "mfccs = np.array(mfcc_list)"
   ]
  },
  {
   "cell_type": "code",
   "execution_count": 103,
   "id": "b092a781",
   "metadata": {},
   "outputs": [],
   "source": [
    "# df1 = pd.DataFrame(chroma_stft.tolist())\n",
    "# df2 = pd.DataFrame(polyss.tolist())\n",
    "#df3 = pd.DataFrame(seslers.tolist())\n",
    "# df4 = pd.DataFrame(flats.tolist())"
   ]
  },
  {
   "cell_type": "code",
   "execution_count": 104,
   "id": "f2adade8",
   "metadata": {},
   "outputs": [],
   "source": [
    "#df3['labels'] = labels"
   ]
  },
  {
   "cell_type": "code",
   "execution_count": 105,
   "id": "f0c33556",
   "metadata": {},
   "outputs": [],
   "source": [
    "#df3.head()"
   ]
  },
  {
   "cell_type": "code",
   "execution_count": 106,
   "id": "d5e0d312",
   "metadata": {},
   "outputs": [],
   "source": [
    "# df5= pd.DataFrame(labels)"
   ]
  },
  {
   "cell_type": "code",
   "execution_count": 107,
   "id": "a47c66f6",
   "metadata": {},
   "outputs": [],
   "source": [
    "# df1.to_csv('chroma_stft.csv')\n",
    "# df2.to_csv('plyss.csv')\n",
    "#df3.to_csv('seslers.csv')\n",
    "# df4.to_csv('flats.csv')"
   ]
  },
  {
   "cell_type": "code",
   "execution_count": 108,
   "id": "2be32d05",
   "metadata": {},
   "outputs": [],
   "source": [
    "# df5.to_csv('labels.csv')"
   ]
  },
  {
   "cell_type": "code",
   "execution_count": 109,
   "id": "08561886",
   "metadata": {},
   "outputs": [
    {
     "data": {
      "text/plain": [
       "((7565, 2, 44), (7565, 12, 44), (7565, 20, 44))"
      ]
     },
     "execution_count": 109,
     "metadata": {},
     "output_type": "execute_result"
    }
   ],
   "source": [
    "polyss.shape, chroma_stft.shape, mfccs.shape"
   ]
  },
  {
   "cell_type": "code",
   "execution_count": 110,
   "id": "d8c4ea05",
   "metadata": {},
   "outputs": [
    {
     "data": {
      "text/plain": [
       "(7565, 32, 44)"
      ]
     },
     "execution_count": 110,
     "metadata": {},
     "output_type": "execute_result"
    }
   ],
   "source": [
    "combined_features = np.concatenate((mfccs, chroma_stft), axis=1)\n",
    "combined_features.shape"
   ]
  },
  {
   "cell_type": "code",
   "execution_count": 111,
   "id": "d80158d6",
   "metadata": {},
   "outputs": [],
   "source": [
    "# import pickle\n",
    "# with open('label_encoder_399.pkl', 'wb') as f:\n",
    "#     pickle.dump(le, f)"
   ]
  },
  {
   "cell_type": "code",
   "execution_count": 112,
   "id": "efb97cb9",
   "metadata": {},
   "outputs": [],
   "source": [
    "# Etiketleri one-hot kodlamaya dönüştürme\n",
    "y = to_categorical(y)"
   ]
  },
  {
   "cell_type": "code",
   "execution_count": 113,
   "id": "ab6e1682",
   "metadata": {},
   "outputs": [],
   "source": [
    "X_train, X_test, y_train, y_test = train_test_split(combined_features, y, test_size = 0.2, random_state = 42)"
   ]
  },
  {
   "cell_type": "code",
   "execution_count": 114,
   "id": "1aee3c49",
   "metadata": {},
   "outputs": [],
   "source": [
    "X_train = np.array(X_train)\n",
    "X_test = np.array(X_test)"
   ]
  },
  {
   "cell_type": "code",
   "execution_count": 115,
   "id": "7f813dbf",
   "metadata": {},
   "outputs": [
    {
     "name": "stdout",
     "output_type": "stream",
     "text": [
      "(6052, 32, 44)\n",
      "(6052, 399)\n",
      "(1513, 32, 44)\n",
      "(1513, 399)\n"
     ]
    }
   ],
   "source": [
    "print(X_train.shape)\n",
    "print(y_train.shape)\n",
    "print(X_test.shape)\n",
    "print(y_test.shape)"
   ]
  },
  {
   "cell_type": "code",
   "execution_count": 116,
   "id": "0733b059",
   "metadata": {},
   "outputs": [],
   "source": [
    "batch_size = 32\n",
    "num_classes = 399  # Sınıf sayısı\n",
    "epochs = 100\n",
    "MODEL_PATH = 'ckpt/model_mcff_chroma.h5'# bu model iyi"
   ]
  },
  {
   "cell_type": "code",
   "execution_count": 117,
   "id": "368bd313",
   "metadata": {},
   "outputs": [],
   "source": [
    "cp = ModelCheckpoint(filepath = MODEL_PATH,\n",
    "                        monitor='val_accuracy',save_best_only=True)\n",
    "\n",
    "reduce_learning_rate = ReduceLROnPlateau(monitor='val_loss', factor=0.1,\n",
    "                                         patience=3, verbose=1)\n",
    "\n",
    "earl_stopping = EarlyStopping(monitor='val_accuracy',\n",
    "                                            verbose=1,\n",
    "                                            patience=10)\n",
    "\n",
    "callbacks = [cp, reduce_learning_rate, earl_stopping]"
   ]
  },
  {
   "cell_type": "code",
   "execution_count": 118,
   "id": "7aa9581e",
   "metadata": {},
   "outputs": [],
   "source": [
    "# Giriş şekli\n",
    "input_shape = (32, 44, 1)  # Chroma shift verinizin şekli\n",
    "\n",
    "model = Sequential()\n",
    "model.add(Conv2D(32, (3, 3), activation = \"relu\", input_shape=input_shape))\n",
    "model.add(MaxPooling2D(pool_size=(2, 2)))\n",
    "model.add(Conv2D(64, (3,3), activation = \"relu\"))\n",
    "model.add(MaxPooling2D(pool_size=(2, 2)))\n",
    "model.add(Conv2D(128, (3, 3), activation = \"relu\", input_shape=input_shape))\n",
    "model.add(MaxPooling2D(pool_size=(2, 2)))\n",
    "\n",
    "\n",
    "model.add(Flatten())\n",
    "model.add(Dense(512))\n",
    "model.add(Dropout(0.6))\n",
    "model.add(Dense(num_classes, activation='softmax'))\n",
    "\n",
    "# Modeli derleme\n",
    "model.compile(loss=losses.categorical_crossentropy,\n",
    "              optimizer=optimizers.Adam(),\n",
    "              metrics=['accuracy'])"
   ]
  },
  {
   "cell_type": "code",
   "execution_count": 119,
   "id": "88d4eeb4",
   "metadata": {},
   "outputs": [
    {
     "name": "stdout",
     "output_type": "stream",
     "text": [
      "Epoch 1/100\n",
      "190/190 [==============================] - 6s 23ms/step - loss: 6.1126 - accuracy: 0.0088 - val_loss: 5.3333 - val_accuracy: 0.0337 - lr: 0.0010\n",
      "Epoch 2/100\n",
      "  7/190 [>.............................] - ETA: 3s - loss: 5.3584 - accuracy: 0.0223"
     ]
    },
    {
     "name": "stderr",
     "output_type": "stream",
     "text": [
      "C:\\Users\\mstbl\\anaconda3\\Lib\\site-packages\\keras\\src\\engine\\training.py:3103: UserWarning: You are saving your model as an HDF5 file via `model.save()`. This file format is considered legacy. We recommend using instead the native Keras format, e.g. `model.save('my_model.keras')`.\n",
      "  saving_api.save_model(\n"
     ]
    },
    {
     "name": "stdout",
     "output_type": "stream",
     "text": [
      "190/190 [==============================] - 4s 21ms/step - loss: 4.4796 - accuracy: 0.1190 - val_loss: 3.0314 - val_accuracy: 0.3483 - lr: 0.0010\n",
      "Epoch 3/100\n",
      "190/190 [==============================] - 4s 20ms/step - loss: 2.4047 - accuracy: 0.4370 - val_loss: 1.3545 - val_accuracy: 0.6761 - lr: 0.0010\n",
      "Epoch 4/100\n",
      "190/190 [==============================] - 4s 21ms/step - loss: 1.2625 - accuracy: 0.6788 - val_loss: 0.8375 - val_accuracy: 0.7885 - lr: 0.0010\n",
      "Epoch 5/100\n",
      "190/190 [==============================] - 4s 22ms/step - loss: 0.7523 - accuracy: 0.7890 - val_loss: 0.5889 - val_accuracy: 0.8506 - lr: 0.0010\n",
      "Epoch 6/100\n",
      "190/190 [==============================] - 4s 21ms/step - loss: 0.5024 - accuracy: 0.8602 - val_loss: 0.4697 - val_accuracy: 0.8857 - lr: 0.0010\n",
      "Epoch 7/100\n",
      "190/190 [==============================] - 4s 20ms/step - loss: 0.3727 - accuracy: 0.8947 - val_loss: 0.4200 - val_accuracy: 0.9048 - lr: 0.0010\n",
      "Epoch 8/100\n",
      "190/190 [==============================] - 4s 21ms/step - loss: 0.3201 - accuracy: 0.9076 - val_loss: 0.4407 - val_accuracy: 0.8903 - lr: 0.0010\n",
      "Epoch 9/100\n",
      "190/190 [==============================] - 4s 21ms/step - loss: 0.2628 - accuracy: 0.9212 - val_loss: 0.4256 - val_accuracy: 0.8909 - lr: 0.0010\n",
      "Epoch 10/100\n",
      "189/190 [============================>.] - ETA: 0s - loss: 0.2406 - accuracy: 0.9284\n",
      "Epoch 10: ReduceLROnPlateau reducing learning rate to 0.00010000000474974513.\n",
      "190/190 [==============================] - 4s 22ms/step - loss: 0.2405 - accuracy: 0.9285 - val_loss: 0.4638 - val_accuracy: 0.8989 - lr: 0.0010\n",
      "Epoch 11/100\n",
      "190/190 [==============================] - 4s 21ms/step - loss: 0.1072 - accuracy: 0.9674 - val_loss: 0.3251 - val_accuracy: 0.9319 - lr: 1.0000e-04\n",
      "Epoch 12/100\n",
      "190/190 [==============================] - 4s 19ms/step - loss: 0.0716 - accuracy: 0.9784 - val_loss: 0.3184 - val_accuracy: 0.9352 - lr: 1.0000e-04\n",
      "Epoch 13/100\n",
      "190/190 [==============================] - 4s 22ms/step - loss: 0.0582 - accuracy: 0.9815 - val_loss: 0.3012 - val_accuracy: 0.9392 - lr: 1.0000e-04\n",
      "Epoch 14/100\n",
      "190/190 [==============================] - 4s 22ms/step - loss: 0.0406 - accuracy: 0.9874 - val_loss: 0.2944 - val_accuracy: 0.9372 - lr: 1.0000e-04\n",
      "Epoch 15/100\n",
      "190/190 [==============================] - 4s 21ms/step - loss: 0.0422 - accuracy: 0.9874 - val_loss: 0.2976 - val_accuracy: 0.9392 - lr: 1.0000e-04\n",
      "Epoch 16/100\n",
      "190/190 [==============================] - 4s 20ms/step - loss: 0.0365 - accuracy: 0.9888 - val_loss: 0.2932 - val_accuracy: 0.9445 - lr: 1.0000e-04\n",
      "Epoch 17/100\n",
      "190/190 [==============================] - 3s 17ms/step - loss: 0.0343 - accuracy: 0.9901 - val_loss: 0.2929 - val_accuracy: 0.9399 - lr: 1.0000e-04\n",
      "Epoch 18/100\n",
      "190/190 [==============================] - 4s 19ms/step - loss: 0.0286 - accuracy: 0.9921 - val_loss: 0.2922 - val_accuracy: 0.9412 - lr: 1.0000e-04\n",
      "Epoch 19/100\n",
      "190/190 [==============================] - 4s 21ms/step - loss: 0.0260 - accuracy: 0.9924 - val_loss: 0.2978 - val_accuracy: 0.9418 - lr: 1.0000e-04\n",
      "Epoch 20/100\n",
      "190/190 [==============================] - 4s 21ms/step - loss: 0.0286 - accuracy: 0.9906 - val_loss: 0.2924 - val_accuracy: 0.9438 - lr: 1.0000e-04\n",
      "Epoch 21/100\n",
      "190/190 [==============================] - 4s 21ms/step - loss: 0.0218 - accuracy: 0.9941 - val_loss: 0.2867 - val_accuracy: 0.9418 - lr: 1.0000e-04\n",
      "Epoch 22/100\n",
      "190/190 [==============================] - 4s 22ms/step - loss: 0.0247 - accuracy: 0.9921 - val_loss: 0.2868 - val_accuracy: 0.9491 - lr: 1.0000e-04\n",
      "Epoch 23/100\n",
      "190/190 [==============================] - 4s 21ms/step - loss: 0.0213 - accuracy: 0.9934 - val_loss: 0.2896 - val_accuracy: 0.9465 - lr: 1.0000e-04\n",
      "Epoch 24/100\n",
      "190/190 [==============================] - ETA: 0s - loss: 0.0198 - accuracy: 0.9945\n",
      "Epoch 24: ReduceLROnPlateau reducing learning rate to 1.0000000474974514e-05.\n",
      "190/190 [==============================] - 4s 21ms/step - loss: 0.0198 - accuracy: 0.9945 - val_loss: 0.2898 - val_accuracy: 0.9458 - lr: 1.0000e-04\n",
      "Epoch 25/100\n",
      "190/190 [==============================] - 3s 17ms/step - loss: 0.0177 - accuracy: 0.9945 - val_loss: 0.2852 - val_accuracy: 0.9451 - lr: 1.0000e-05\n",
      "Epoch 26/100\n",
      "190/190 [==============================] - 4s 19ms/step - loss: 0.0201 - accuracy: 0.9944 - val_loss: 0.2813 - val_accuracy: 0.9451 - lr: 1.0000e-05\n",
      "Epoch 27/100\n",
      "190/190 [==============================] - 3s 18ms/step - loss: 0.0204 - accuracy: 0.9934 - val_loss: 0.2801 - val_accuracy: 0.9491 - lr: 1.0000e-05\n",
      "Epoch 28/100\n",
      "190/190 [==============================] - 3s 17ms/step - loss: 0.0235 - accuracy: 0.9926 - val_loss: 0.2802 - val_accuracy: 0.9484 - lr: 1.0000e-05\n",
      "Epoch 29/100\n",
      "190/190 [==============================] - 4s 20ms/step - loss: 0.0183 - accuracy: 0.9955 - val_loss: 0.2812 - val_accuracy: 0.9471 - lr: 1.0000e-05\n",
      "Epoch 30/100\n",
      "189/190 [============================>.] - ETA: 0s - loss: 0.0152 - accuracy: 0.9949\n",
      "Epoch 30: ReduceLROnPlateau reducing learning rate to 1.0000000656873453e-06.\n",
      "190/190 [==============================] - 4s 20ms/step - loss: 0.0152 - accuracy: 0.9949 - val_loss: 0.2819 - val_accuracy: 0.9478 - lr: 1.0000e-05\n",
      "Epoch 31/100\n",
      "190/190 [==============================] - 4s 20ms/step - loss: 0.0134 - accuracy: 0.9964 - val_loss: 0.2818 - val_accuracy: 0.9465 - lr: 1.0000e-06\n",
      "Epoch 32/100\n",
      "190/190 [==============================] - 4s 19ms/step - loss: 0.0186 - accuracy: 0.9932 - val_loss: 0.2818 - val_accuracy: 0.9465 - lr: 1.0000e-06\n",
      "Epoch 32: early stopping\n"
     ]
    }
   ],
   "source": [
    "history = model.fit(X_train, y_train, \n",
    "         batch_size = batch_size,\n",
    "         validation_data = (X_test, y_test),\n",
    "         epochs = epochs,\n",
    "        callbacks = callbacks)"
   ]
  },
  {
   "cell_type": "code",
   "execution_count": 120,
   "id": "90929dfc",
   "metadata": {},
   "outputs": [],
   "source": [
    "model = load_model(MODEL_PATH)"
   ]
  },
  {
   "cell_type": "code",
   "execution_count": 121,
   "id": "c9018a7c",
   "metadata": {},
   "outputs": [
    {
     "data": {
      "image/png": "[encoded data removed]",
      "text/plain": [
       "<Figure size 640x480 with 1 Axes>"
      ]
     },
     "metadata": {},
     "output_type": "display_data"
    }
   ],
   "source": [
    "plt.plot(history.history[\"loss\"], label = \"Trian Loss\") # train hataları ve validation hatalarını her epoch için çizdiriyoruz\n",
    "plt.plot(history.history[\"val_loss\"], label = \"Validation Loss\")\n",
    "plt.legend()\n",
    "plt.show()"
   ]
  },
  {
   "cell_type": "code",
   "execution_count": 122,
   "id": "9038f79f",
   "metadata": {},
   "outputs": [
    {
     "data": {
      "image/png": "[encoded data removed]",
      "text/plain": [
       "<Figure size 640x480 with 1 Axes>"
      ]
     },
     "metadata": {},
     "output_type": "display_data"
    }
   ],
   "source": [
    "plt.figure()#train acurracy ve validation acurracy her epoch için çizdiriyoruz\n",
    "plt.plot(history.history[\"accuracy\"], label = \"Trian Accuracy\")\n",
    "plt.plot(history.history[\"val_accuracy\"], label = \"Validation Accuracy\")\n",
    "plt.legend()\n",
    "plt.show()"
   ]
  },
  {
   "cell_type": "code",
   "execution_count": 123,
   "id": "1910b8a0",
   "metadata": {},
   "outputs": [
    {
     "name": "stdout",
     "output_type": "stream",
     "text": [
      "48/48 [==============================] - 1s 8ms/step - loss: 0.2868 - accuracy: 0.9491\n"
     ]
    }
   ],
   "source": [
    "loss, accuracy = model.evaluate(X_test, y_test, batch_size = 32)"
   ]
  },
  {
   "cell_type": "code",
   "execution_count": 124,
   "id": "da3faed5",
   "metadata": {},
   "outputs": [
    {
     "name": "stdout",
     "output_type": "stream",
     "text": [
      "Test Loss :  0.28684118390083313\n",
      "Test Acurracy :  0.9491077065467834\n"
     ]
    }
   ],
   "source": [
    "print('Test Loss : ', loss )\n",
    "print('Test Acurracy : ', accuracy)"
   ]
  },
  {
   "cell_type": "code",
   "execution_count": 125,
   "id": "019d8abc",
   "metadata": {},
   "outputs": [
    {
     "name": "stdout",
     "output_type": "stream",
     "text": [
      "48/48 [==============================] - 1s 8ms/step\n"
     ]
    }
   ],
   "source": [
    "y_pred = np.argmax(model.predict(X_test), axis=1)\n",
    "y_test = np.argmax(y_test, axis = 1)"
   ]
  },
  {
   "cell_type": "code",
   "execution_count": 126,
   "id": "af8e9ad6",
   "metadata": {},
   "outputs": [
    {
     "name": "stdout",
     "output_type": "stream",
     "text": [
      "190/190 [==============================] - 2s 8ms/step\n"
     ]
    }
   ],
   "source": [
    "y_train_pred = np.argmax(model.predict(X_train), axis=1)\n",
    "y_train = np.argmax(y_train, axis = 1)"
   ]
  },
  {
   "cell_type": "code",
   "execution_count": null,
   "id": "e92c393c",
   "metadata": {},
   "outputs": [],
   "source": []
  },
  {
   "cell_type": "code",
   "execution_count": 127,
   "id": "98e104fa",
   "metadata": {},
   "outputs": [
    {
     "name": "stdout",
     "output_type": "stream",
     "text": [
      "                           precision    recall  f1-score   support\n",
      "\n",
      "                    Dalag       1.00      1.00      1.00        13\n",
      "                     Itom       1.00      1.00      1.00        14\n",
      "                    Kahil       1.00      1.00      1.00        17\n",
      "                    Lubog       1.00      1.00      1.00        15\n",
      "                   Lunhaw       1.00      1.00      1.00        18\n",
      "            Maayong adlaw       1.00      1.00      1.00        15\n",
      "            Maayong gabii       1.00      1.00      1.00        15\n",
      "                 Ngitngit       1.00      1.00      1.00        16\n",
      "                   Pastel       1.00      1.00      1.00        19\n",
      "                   Pug-aw       1.00      1.00      1.00        18\n",
      "                     Puti       1.00      1.00      1.00        16\n",
      "                     Puwa       1.00      1.00      1.00        16\n",
      "                  Tabonon       1.00      1.00      1.00        19\n",
      "                    Tapol       1.00      1.00      1.00        16\n",
      "                    abaga       1.00      1.00      1.00        12\n",
      "                   abante       1.00      1.00      1.00        12\n",
      "                 abilidad       1.00      1.00      1.00        12\n",
      "                    abril       1.00      1.00      1.00        16\n",
      "                    agila       1.00      1.00      1.00        14\n",
      "                   agosto       1.00      1.00      1.00        12\n",
      "                   agtang       1.00      1.00      1.00        13\n",
      "                    amang       1.00      1.00      1.00        12\n",
      "                     ambe       1.00      1.00      1.00        19\n",
      "                   amihan       1.00      1.00      1.00        14\n",
      "                      apa       1.00      1.00      1.00        15\n",
      "                     apan       1.00      1.00      1.00        16\n",
      "                     apil       1.00      1.00      1.00        10\n",
      "                    aping       1.00      1.00      1.00        13\n",
      "               apresasyon       1.00      1.00      1.00        15\n",
      "                   arkuba       1.00      1.00      1.00        19\n",
      "                    aslom       1.00      1.00      1.00        17\n",
      "                    atras       1.00      1.00      1.00         9\n",
      "                    atuli       1.00      1.00      1.00        12\n",
      "                     atup       1.00      1.00      1.00        15\n",
      "                     baba       1.00      1.00      1.00        17\n",
      "                    baboy       1.00      1.00      1.00        18\n",
      "             baboy-ihalas       1.00      1.00      1.00        16\n",
      "                   bagtak       1.00      1.00      1.00        15\n",
      "              bagul-bagol       1.00      1.00      1.00        12\n",
      "                    bagyo       1.00      1.00      1.00        14\n",
      "                    bahin       1.00      1.00      1.00        11\n",
      "           bahin sa libro       1.00      1.00      1.00        12\n",
      "                     baho       1.00      1.00      1.00        19\n",
      "                     baka       1.00      1.00      1.00        11\n",
      "                     baki       1.00      1.00      1.00        18\n",
      "                    bakol       1.00      1.00      1.00        11\n",
      "                    balak       1.00      1.00      1.00        17\n",
      "                 bangkero       1.00      1.00      1.00        15\n",
      "                      bao       1.00      1.00      1.00        19\n",
      "                 basurero       1.00      1.00      1.00        20\n",
      "                  bat-ang       1.00      1.00      1.00        12\n",
      "                   baynte       1.00      1.00      1.00        16\n",
      "                     bebi       1.00      1.00      1.00        17\n",
      "                    bilar       1.00      1.00      1.00         5\n",
      "                 binalaye       1.00      1.00      1.00        13\n",
      "                  bintana       1.00      1.00      1.00        13\n",
      "                   bitoun       1.00      1.00      1.00        18\n",
      "                 biyernes       1.00      1.00      1.00        17\n",
      "                 bongbong       1.00      1.00      1.00        13\n",
      "                    braso       1.00      1.00      1.00        15\n",
      "                brilyante       1.00      1.00      1.00        17\n",
      "                   bug at       1.00      1.00      1.00        12\n",
      "            buho sa ilong       1.00      1.00      1.00        17\n",
      "                    buhok       1.00      1.00      1.00        14\n",
      "                   bukton       1.00      1.00      1.00        13\n",
      "                  bumbero       1.00      1.00      1.00        18\n",
      "                     buna       1.00      1.00      1.00        17\n",
      "                   buntag       1.00      1.00      1.00        18\n",
      "                    buyog       1.00      1.00      1.00        15\n",
      "                 dentista       1.00      1.00      1.00        12\n",
      "                     dila       1.00      1.00      1.00        16\n",
      "       dili pagsinabtanay       1.00      1.00      1.00        11\n",
      "             dili parehas       1.00      1.00      1.00        15\n",
      "                     dios       1.00      1.00      1.00        13\n",
      "                direksyon       1.00      1.00      1.00        18\n",
      "                disenwebe       1.00      1.00      1.00        15\n",
      "                 diseotso       1.00      1.00      1.00        14\n",
      "                disesyete       1.00      1.00      1.00        11\n",
      "                 disisais       1.00      1.00      1.00        15\n",
      "                disyembre       1.00      1.00      1.00        16\n",
      "                   doctor       1.00      1.00      1.00        17\n",
      "                  domingo       1.00      1.00      1.00        18\n",
      "                     dose       1.00      1.00      1.00        17\n",
      "                  drayber       1.00      1.00      1.00        17\n",
      "                   dughan       1.00      1.00      1.00         9\n",
      "                     duha       1.00      1.00      1.00        18\n",
      "                 dulaanan       1.00      1.00      1.00        21\n",
      "             dungagag usa       1.00      1.00      1.00        16\n",
      "                     dupa       1.00      1.00      1.00        12\n",
      "                     duwa       1.00      1.00      1.00        13\n",
      "                 duwaanan       1.00      1.00      1.00        15\n",
      "                ehirsisyo       1.00      1.00      1.00        13\n",
      "                    enero       1.00      1.00      1.00        16\n",
      "                    gahum       1.00      1.00      1.00        16\n",
      "                 gakatawa       1.00      1.00      1.00        16\n",
      "             gamay sa usa       1.00      1.00      1.00        13\n",
      "                    gansa       1.00      1.00      1.00        11\n",
      "                 gibiyaan       1.00      1.00      1.00        18\n",
      "                 gidugang       1.00      1.00      1.00        16\n",
      "                gigikanan       1.00      1.00      1.00        15\n",
      "               gihulagway       1.00      1.00      1.00        16\n",
      "                  ginhawa       1.00      1.00      1.00        12\n",
      "                ginikanan       1.00      1.00      1.00        10\n",
      "                   gitara       1.00      1.00      1.00        20\n",
      "        gitugkan sa pilok       1.00      1.00      1.00        16\n",
      "                    gramo       1.00      1.00      1.00        11\n",
      "                    grupo       1.00      1.00      1.00        13\n",
      "                    gugma       1.00      1.00      1.00        11\n",
      "                  habagat       1.00      1.00      1.00        15\n",
      "                    habog       1.00      1.00      1.00        16\n",
      "                 hagdanan       1.00      1.00      1.00        18\n",
      "                    halas       1.00      1.00      1.00        17\n",
      "                    hawak       1.00      1.00      1.00        12\n",
      "                  hilanat       1.00      1.00      1.00        10\n",
      "                    hinay       1.00      1.00      1.00         8\n",
      "                    hubag       1.00      1.00      1.00        14\n",
      "                 hulmigas       1.00      1.00      1.00        12\n",
      "                    hulyo       1.00      1.00      1.00        17\n",
      "                    humot       1.00      1.00      1.00        16\n",
      "                    hunyo       1.00      1.00      1.00        17\n",
      "                    husto       1.00      1.00      1.00        14\n",
      "                  huwebes       1.00      1.00      1.00        17\n",
      "                  ig-agaw       1.00      1.00      1.00        18\n",
      "                     ihap       1.00      1.00      1.00        18\n",
      "                    ilong       1.00      1.00      1.00        18\n",
      "                    ingko       1.00      1.00      1.00        16\n",
      "            ingonkadaghan       1.00      1.00      1.00        14\n",
      "                     inse       1.00      1.00      1.00        16\n",
      "              instrumento       1.00      1.00      1.00        18\n",
      "                  ipakita       1.00      1.00      1.00        14\n",
      "                     ipha       1.00      1.00      1.00        18\n",
      "                    iring       1.00      1.00      1.00         8\n",
      "                      iro       1.00      1.00      1.00        15\n",
      "                   iskala       1.00      1.00      1.00        18\n",
      "                   isulti       1.00      1.00      1.00        14\n",
      "                   itandi       1.00      1.00      1.00        16\n",
      "                     jamo       1.00      1.00      1.00        15\n",
      "                    kaayu       1.00      1.00      1.00        10\n",
      "                    kabaw       1.00      1.00      1.00        17\n",
      "                   kabayo       1.00      1.00      1.00        18\n",
      "                 kadlawon       1.00      1.00      1.00        16\n",
      "                 kahuyang       1.00      1.00      1.00        12\n",
      "                 kalainan       1.00      1.00      1.00        17\n",
      "                kalibanga       1.00      1.00      1.00        11\n",
      "                 kalimpyo       1.00      1.00      1.00        13\n",
      "          kamahinungdanon       1.00      1.00      1.00        12\n",
      "               kamatuuran       1.00      1.00      1.00         9\n",
      "                  kamniro       1.00      1.00      1.00        14\n",
      "                    kamot       1.00      1.00      1.00        19\n",
      "                  kananan       1.00      1.00      1.00        16\n",
      "                  kanding       1.00      1.00      1.00        16\n",
      "                    kanta       1.00      1.00      1.00        16\n",
      "                  kantina       1.00      1.00      1.00        19\n",
      "                  kartero       1.00      1.00      1.00        16\n",
      "                 kasilyas       1.00      1.00      1.00        14\n",
      "                  katorse       1.00      1.00      1.00        17\n",
      "              katungdanan       1.00      1.00      1.00        15\n",
      "              kaugalingon       1.00      1.00      1.00        18\n",
      "                    kilay       1.00      1.00      1.00        18\n",
      "                     kilo       1.00      1.00      1.00        18\n",
      "                kilometro       1.00      1.00      1.00        18\n",
      "                  kinaiya       1.00      1.00      1.00        17\n",
      "             kinatibuk an       1.00      1.00      1.00        15\n",
      "                    kinse       1.00      1.00      1.00        18\n",
      "                   kinumo       1.00      1.00      1.00        17\n",
      "                  klasrom       1.00      1.00      1.00        16\n",
      "                  klinika       1.00      1.00      1.00        17\n",
      "                komunidad       1.00      1.00      1.00        17\n",
      "                  koridor       1.00      1.00      1.00        16\n",
      "                  kulamoy       1.00      1.00      1.00        17\n",
      "               kulang usa       1.00      1.00      1.00        14\n",
      "                kumadrona       1.00      1.00      1.00        16\n",
      "                  kumagko       1.00      1.00      1.00        13\n",
      "                   kuneho       1.00      1.00      1.00        15\n",
      "                   kusina       1.00      1.00      1.00        18\n",
      "                    kusog       1.00      1.00      1.00        13\n",
      "                     kuto       1.00      1.00      1.00        11\n",
      "                 kwadrado       1.00      1.00      1.00        15\n",
      "                   kwarto       1.00      1.00      1.00        13\n",
      "             labad sa ulo       1.00      1.00      1.00        12\n",
      "          labaw sa pipila       1.00      1.00      1.00        17\n",
      "             labaw sa usa       1.00      1.00      1.00        16\n",
      "              labing dako       1.00      1.00      1.00        17\n",
      "             labing gamay       1.00      1.00      1.00        18\n",
      "                    lagos       1.00      1.00      1.00        16\n",
      "                    lakip       1.00      1.00      1.00        19\n",
      "     laktawan ang pagihap       1.00      1.00      1.00        16\n",
      "                    lamok       1.00      1.00      1.00        14\n",
      "                   langaw       1.00      1.00      1.00        16\n",
      "                  langgam       1.00      1.00      1.00        11\n",
      "                    lanog       1.00      1.00      1.00        19\n",
      "                    lawas       1.00      1.00      1.00        11\n",
      "                 laybrari       1.00      1.00      1.00        14\n",
      "                    leyon       1.00      1.00      1.00        16\n",
      "                    lihok       1.00      1.00      1.00        31\n",
      "                    likod       1.00      1.00      1.00        13\n",
      "                     lima       1.00      1.00      1.00        16\n",
      "                   limpyo       1.00      1.00      1.00        14\n",
      "                   lingin       1.00      1.00      1.00        15\n",
      "                    linya       1.00      1.00      1.00        15\n",
      "                     liog       1.00      1.00      1.00        19\n",
      "            lisod matulog       1.00      1.00      1.00        13\n",
      "                    litro       1.00      1.00      1.00        16\n",
      "                    lobot       1.00      1.00      1.00        15\n",
      "                     lola       1.00      1.00      1.00        17\n",
      "                     lolo       1.00      1.00      1.00        17\n",
      "                    lugar       1.00      1.00      1.00        16\n",
      "                    lunes       1.00      1.00      1.00        19\n",
      "           maayong buntag       1.00      1.00      1.00        16\n",
      "             maayong udto       1.00      1.00      1.00        14\n",
      "        maayung panglawas       1.00      1.00      1.00        14\n",
      "                  magmina       1.00      1.00      1.00        14\n",
      "               magtutudlo       1.00      1.00      1.00        14\n",
      "                  maguuma       1.00      1.00      1.00        16\n",
      "                 mahangin       1.00      1.00      1.00        15\n",
      "              mahigugmaon       1.00      1.00      1.00        13\n",
      "                malipayon       1.00      1.00      1.00        14\n",
      "                mananagat       1.00      1.00      1.00        15\n",
      "                 mananahi       1.00      1.00      1.00        16\n",
      "                   manang       1.00      1.00      1.00        16\n",
      "            manggihatagon       1.00      1.00      1.00        15\n",
      "                   manong       1.00      1.00      1.00        14\n",
      "            mapinasakopon       1.00      1.00      1.00        13\n",
      "                    marso       1.00      1.00      1.00        16\n",
      "                   martes       1.00      1.00      1.00        18\n",
      "            martsa abante       1.00      1.00      1.00        15\n",
      "          mas gamay kaysa       1.00      1.00      1.00        15\n",
      "               masulub-on       1.00      1.00      1.00        16\n",
      "                     mata       1.00      1.00      1.00        16\n",
      "               materyales       1.00      1.00      1.00        12\n",
      "                     mayo       1.00      1.00      1.00        14\n",
      "                   membro       1.00      1.00      1.00        18\n",
      "                mensahero       1.00      1.00      1.00        17\n",
      "                  merkado       1.00      1.00      1.00        12\n",
      "                    milya       1.00      1.00      1.00        13\n",
      "               miyerkules       1.00      1.00      1.00        13\n",
      "           mulabays sa ko       1.00      1.00      1.00        16\n",
      "                munisipyo       1.00      1.00      1.00        16\n",
      "                nag ingon       1.00      1.00      1.00        13\n",
      "                naghandum       1.00      1.00      1.00        15\n",
      "                 naglagut       1.00      1.00      1.00        19\n",
      "                  nagsubo       1.00      1.00      1.00        17\n",
      "                 nahadlok       1.00      1.00      1.00        17\n",
      "             nahinumduman       1.00      1.00      1.00        15\n",
      "                   naikag       1.00      1.00      1.00        15\n",
      "                   nalaay       1.00      1.00      1.00        16\n",
      "                  nalipay       1.00      1.00      1.00        18\n",
      "                    nanay       1.00      1.00      1.00        16\n",
      "                   napulo       1.00      1.00      1.00        16\n",
      "                     nars       1.00      1.00      1.00        18\n",
      "                   nasuko       1.00      1.00      1.00        17\n",
      "                   nawong       1.00      1.00      1.00        15\n",
      "          ngan sa mananap       1.00      1.00      1.00        17\n",
      "           ngan ug butang       1.00      1.00      1.00        14\n",
      "             ngan ug tawo       1.00      1.00      1.00        19\n",
      "                   ngipon       1.00      1.00      1.00        15\n",
      "                nobyembre       1.00      1.00      1.00        16\n",
      "                   numero       1.00      1.00      1.00        16\n",
      "                  o pwede       1.00      1.00      1.00        19\n",
      "               okey ra na       1.00      1.00      1.00        16\n",
      "                     onse       1.00      1.00      1.00        16\n",
      "                  ospital       1.00      1.00      1.00        17\n",
      "                      pad       1.00      1.00      1.00        11\n",
      "                  pag ila       1.00      1.00      1.00        19\n",
      "                pagbalhin       1.00      1.00      1.00        13\n",
      "                 pagbuhat       1.00      1.00      1.00        13\n",
      "                 pagdawat       1.00      1.00      1.00        18\n",
      "                pagdugang       1.00      1.00      1.00        14\n",
      "               pagginhawa       1.00      1.00      1.00        15\n",
      "                 paghiusa       1.00      1.00      1.00        14\n",
      "        pagkamatinud anon       1.00      1.00      1.00        13\n",
      "                 pagkanta       1.00      1.00      1.00        14\n",
      "                  pagkuha       0.93      0.82      0.88        17\n",
      "               pagkuha sa       0.83      0.94      0.88        16\n",
      "                pagkunhod       1.00      1.00      1.00        18\n",
      "                  paglaum       1.00      1.00      1.00        12\n",
      "                 paglukso       1.00      1.00      1.00        11\n",
      "                pagmartsa       1.00      1.00      1.00        11\n",
      "          pagmasinugtanon       1.00      1.00      1.00        14\n",
      "                pagmodelo       1.00      1.00      1.00        17\n",
      "                 pagpaila       1.00      1.00      1.00        17\n",
      "pagpakabana sa kinaiyahan       1.00      1.00      1.00        11\n",
      "                 pagsalig       1.00      1.00      1.00        16\n",
      "                 pagsawop       1.00      1.00      1.00        16\n",
      "                pagsubang       1.00      1.00      1.00        14\n",
      "                 pagsugod       1.00      1.00      1.00        16\n",
      "                 pagsulat       1.00      1.00      1.00        18\n",
      "                pagsundog       1.00      1.00      1.00        12\n",
      "                 pagtahud       1.00      1.00      1.00        10\n",
      "            pagtinabangay       1.00      1.00      1.00        15\n",
      "                   pagtuo       1.00      1.00      1.00        12\n",
      "      pagumangkong babaye       1.00      1.00      1.00        18\n",
      "      pagumangkong lalaki       1.00      1.00      1.00        17\n",
      "                     pait       1.00      1.00      1.00        16\n",
      "                   pakpak       1.00      1.00      1.00         9\n",
      "                    palad       1.00      1.00      1.00        14\n",
      "                  palibot       1.00      1.00      1.00        12\n",
      "                    palis       1.00      1.00      1.00        17\n",
      "                  pamilya       1.00      1.00      1.00        18\n",
      "                 panadero       1.00      1.00      1.00        16\n",
      "               panaghiusa       1.00      1.00      1.00        17\n",
      "                   panday       1.00      1.00      1.00        15\n",
      "                   pangan       1.00      1.00      1.00        18\n",
      "               panghitabo       1.00      1.00      1.00        11\n",
      "           panginahanglan       1.00      1.00      1.00        12\n",
      "                panglawas       1.00      1.00      1.00         9\n",
      "        panit bagul-bagol       1.00      1.00      1.00        16\n",
      "                    parat       1.00      1.00      1.00        16\n",
      "                  parehas       1.00      1.00      1.00        15\n",
      "                     pari       1.00      1.00      1.00        18\n",
      "                    parke       1.00      1.00      1.00        17\n",
      "                 pasayloa       1.00      1.00      1.00        14\n",
      "                   paspas       1.00      1.00      1.00        13\n",
      "               pasundayag       1.00      1.00      1.00        12\n",
      "                    patuo       1.00      1.00      1.00        14\n",
      "                   pawala       1.00      1.00      1.00        14\n",
      "                   pawnga       1.00      1.00      1.00        17\n",
      "                  pebrero       1.00      1.00      1.00        17\n",
      "         petsang natawhan       1.00      1.00      1.00        16\n",
      "                    pilok       1.00      1.00      1.00        12\n",
      "        pinapel na kwarta       1.00      1.00      1.00        13\n",
      "                   pintor       1.00      1.00      1.00        15\n",
      "                     piso       1.00      1.00      1.00        16\n",
      "                     pito       1.00      1.00      1.00        16\n",
      "                   piyano       1.00      1.00      1.00        18\n",
      "                    plasa       1.00      1.00      1.00        14\n",
      "                    porma       1.00      1.00      1.00         6\n",
      "                     pugo       1.00      1.00      1.00        16\n",
      "                  pulgada       1.00      1.00      1.00        16\n",
      "                    pulis       1.00      1.00      1.00        17\n",
      "                    pulso       1.00      1.00      1.00        16\n",
      "                 pultahan       1.00      1.00      1.00        16\n",
      "                   pus-on       1.00      1.00      1.00        14\n",
      "                    pusod       1.00      1.00      1.00        13\n",
      "      pwede ba ko mugawas       1.00      1.00      1.00        17\n",
      "  pwede ba kong makahulam       1.00      1.00      1.00        15\n",
      "               rektangulo       1.00      1.00      1.00        17\n",
      "                   sabado       1.00      1.00      1.00        15\n",
      "                     sala       1.00      1.00      1.00        14\n",
      "                  salamat       1.00      1.00      1.00        15\n",
      "                salampati       1.00      1.00      1.00        16\n",
      "                    sawog       1.00      1.00      1.00        17\n",
      "                    sayaw       1.00      1.00      1.00        13\n",
      "                    selos       1.00      1.00      1.00        14\n",
      "                setyembre       1.00      1.00      1.00        18\n",
      "                     sige       1.00      1.00      1.00        16\n",
      "                     siko       1.00      1.00      1.00         8\n",
      "                   silaba       1.00      1.00      1.00        18\n",
      "                  simbolo       1.00      1.00      1.00        18\n",
      "                 sinsilyo       1.00      1.00      1.00        20\n",
      "                sinug-ang       1.00      1.00      1.00        17\n",
      "                   sip-on       1.00      1.00      1.00        14\n",
      "                    siyam       1.00      1.00      1.00        17\n",
      "                    subli       1.00      1.00      1.00        14\n",
      "                    sunoy       1.00      1.00      1.00        17\n",
      "                  tab-ang       1.00      1.00      1.00        16\n",
      "                  talabon       1.00      1.00      1.00        14\n",
      "                   tam-is       1.00      1.00      1.00        13\n",
      "                    tatay       1.00      1.00      1.00        16\n",
      "                   terasa       1.00      1.00      1.00        19\n",
      "                   tibuok       1.00      1.00      1.00        16\n",
      "                    tigre       1.00      1.00      1.00        19\n",
      "                 tigulang       1.00      1.00      1.00        13\n",
      "                     tiil       1.00      1.00      1.00         9\n",
      "                     tiki       1.00      1.00      1.00        10\n",
      "                    tikod       1.00      1.00      1.00        15\n",
      "                timailhan       1.00      1.00      1.00        19\n",
      "                  tindera       1.00      1.00      1.00        17\n",
      "                 tinginit       1.00      1.00      1.00        19\n",
      "                   tingog       1.00      1.00      1.00        16\n",
      "                   tinood       1.00      1.00      1.00        12\n",
      "                   tiuwan       1.00      1.00      1.00        16\n",
      "                    tiyan       1.00      1.00      1.00        17\n",
      "                   tonada       1.00      1.00      1.00        17\n",
      "                trangkaso       1.00      1.00      1.00        13\n",
      "                    trese       1.00      1.00      1.00        14\n",
      "                    tudlo       1.00      1.00      1.00        15\n",
      "                   tugtug       1.00      1.00      1.00        13\n",
      "                    tuhod       1.00      1.00      1.00        28\n",
      "                     tulo       1.00      1.00      1.00        17\n",
      "                    tunga       1.00      1.00      1.00         3\n",
      "             tunganggabii       1.00      1.00      1.00        19\n",
      "                     ubos       1.00      1.00      1.00        16\n",
      "           ubos sa pipila       1.00      1.00      1.00        17\n",
      "                     udto       1.00      1.00      1.00        15\n",
      "          ugangang babaye       1.00      1.00      1.00        17\n",
      "          ugangang lalaki       1.00      1.00      1.00        17\n",
      "                      ulo       1.00      1.00      1.00        13\n",
      "                   umagad       1.00      1.00      1.00        11\n",
      "                   unggoy       1.00      1.00      1.00        15\n",
      "                     unom       1.00      1.00      1.00        17\n",
      "                     upat       1.00      1.00      1.00        15\n",
      "                      usa       1.00      1.00      1.00        14\n",
      "                   uwanon       1.00      1.00      1.00        18\n",
      "                     wait       1.00      1.00      1.00        14\n",
      "                     wala       1.00      1.00      1.00        18\n",
      "            walay sapayan       1.00      1.00      1.00        14\n",
      "                     walo       1.00      1.00      1.00        16\n",
      "                     wati       1.00      1.00      1.00        14\n",
      "\n",
      "                 accuracy                           1.00      6052\n",
      "                macro avg       1.00      1.00      1.00      6052\n",
      "             weighted avg       1.00      1.00      1.00      6052\n",
      "\n"
     ]
    }
   ],
   "source": [
    "print(classification_report(y_train, y_train_pred, target_names = le.classes_))"
   ]
  },
  {
   "cell_type": "code",
   "execution_count": 128,
   "id": "73f253d6",
   "metadata": {},
   "outputs": [
    {
     "name": "stdout",
     "output_type": "stream",
     "text": [
      "              precision    recall  f1-score   support\n",
      "\n",
      "           0       1.00      1.00      1.00         7\n",
      "           1       0.80      0.67      0.73         6\n",
      "           2       1.00      1.00      1.00         3\n",
      "           3       1.00      1.00      1.00         5\n",
      "           4       1.00      1.00      1.00         4\n",
      "           5       1.00      1.00      1.00         5\n",
      "           6       0.80      0.80      0.80         5\n",
      "           7       1.00      0.75      0.86         4\n",
      "           8       1.00      1.00      1.00         1\n",
      "           9       1.00      1.00      1.00         2\n",
      "          10       1.00      1.00      1.00         4\n",
      "          11       1.00      1.00      1.00         4\n",
      "          12       0.50      1.00      0.67         1\n",
      "          13       1.00      1.00      1.00         4\n",
      "          14       1.00      1.00      1.00         3\n",
      "          15       1.00      1.00      1.00         3\n",
      "          16       1.00      1.00      1.00         3\n",
      "          17       0.80      1.00      0.89         4\n",
      "          18       1.00      1.00      1.00         6\n",
      "          19       1.00      1.00      1.00         8\n",
      "          20       1.00      1.00      1.00         2\n",
      "          21       1.00      1.00      1.00         3\n",
      "          22       1.00      1.00      1.00         1\n",
      "          23       1.00      1.00      1.00         6\n",
      "          24       0.83      1.00      0.91         5\n",
      "          25       1.00      0.75      0.86         4\n",
      "          26       1.00      1.00      1.00         5\n",
      "          27       1.00      0.86      0.92         7\n",
      "          28       1.00      0.80      0.89         5\n",
      "          29       0.50      1.00      0.67         1\n",
      "          30       1.00      0.67      0.80         3\n",
      "          31       1.00      1.00      1.00         6\n",
      "          32       1.00      1.00      1.00         4\n",
      "          33       1.00      0.80      0.89         5\n",
      "          34       1.00      1.00      1.00         3\n",
      "          35       1.00      1.00      1.00         3\n",
      "          36       1.00      1.00      1.00         4\n",
      "          37       1.00      1.00      1.00         5\n",
      "          38       1.00      1.00      1.00         3\n",
      "          39       1.00      1.00      1.00         7\n",
      "          40       1.00      1.00      1.00         4\n",
      "          41       1.00      1.00      1.00         8\n",
      "          42       0.50      1.00      0.67         1\n",
      "          43       1.00      0.56      0.71         9\n",
      "          44       0.67      1.00      0.80         2\n",
      "          45       1.00      1.00      1.00         4\n",
      "          46       1.00      0.67      0.80         3\n",
      "          47       1.00      1.00      1.00         5\n",
      "          48       0.50      1.00      0.67         1\n",
      "          50       1.00      1.00      1.00         3\n",
      "          51       1.00      1.00      1.00         4\n",
      "          52       1.00      0.33      0.50         3\n",
      "          54       1.00      1.00      1.00         7\n",
      "          55       1.00      1.00      1.00         7\n",
      "          56       1.00      1.00      1.00         2\n",
      "          57       1.00      1.00      1.00         3\n",
      "          58       1.00      1.00      1.00         2\n",
      "          59       1.00      1.00      1.00         5\n",
      "          60       1.00      1.00      1.00         3\n",
      "          61       1.00      1.00      1.00         3\n",
      "          62       1.00      1.00      1.00         3\n",
      "          63       1.00      1.00      1.00         2\n",
      "          64       1.00      1.00      1.00         2\n",
      "          65       1.00      1.00      1.00         2\n",
      "          66       1.00      1.00      1.00         3\n",
      "          67       1.00      1.00      1.00         2\n",
      "          68       0.83      1.00      0.91         5\n",
      "          69       1.00      1.00      1.00         8\n",
      "          70       1.00      1.00      1.00         4\n",
      "          71       0.80      1.00      0.89         4\n",
      "          72       1.00      0.80      0.89         5\n",
      "          73       1.00      1.00      1.00         2\n",
      "          74       0.67      1.00      0.80         2\n",
      "          75       1.00      0.80      0.89         5\n",
      "          76       1.00      1.00      1.00         6\n",
      "          77       1.00      1.00      1.00         4\n",
      "          78       1.00      1.00      1.00         5\n",
      "          79       1.00      1.00      1.00         4\n",
      "          80       0.75      1.00      0.86         3\n",
      "          81       1.00      1.00      1.00         2\n",
      "          82       0.75      1.00      0.86         3\n",
      "          83       1.00      0.67      0.80         3\n",
      "          84       1.00      1.00      1.00         6\n",
      "          85       1.00      1.00      1.00         2\n",
      "          86       1.00      1.00      1.00         5\n",
      "          87       1.00      1.00      1.00         4\n",
      "          88       0.88      0.88      0.88         8\n",
      "          89       1.00      1.00      1.00         7\n",
      "          90       1.00      1.00      1.00         5\n",
      "          91       1.00      1.00      1.00         2\n",
      "          92       1.00      1.00      1.00         4\n",
      "          93       1.00      1.00      1.00         4\n",
      "          94       1.00      0.75      0.86         4\n",
      "          95       1.00      1.00      1.00         7\n",
      "          96       0.88      0.78      0.82         9\n",
      "          97       0.50      1.00      0.67         2\n",
      "          98       1.00      1.00      1.00         4\n",
      "          99       1.00      1.00      1.00         5\n",
      "         100       1.00      1.00      1.00         4\n",
      "         101       1.00      1.00      1.00         3\n",
      "         102       1.00      1.00      1.00         5\n",
      "         104       1.00      1.00      1.00         4\n",
      "         105       1.00      1.00      1.00         9\n",
      "         106       1.00      1.00      1.00         2\n",
      "         107       1.00      1.00      1.00         4\n",
      "         108       1.00      0.80      0.89         5\n",
      "         109       1.00      1.00      1.00         4\n",
      "         110       1.00      1.00      1.00         2\n",
      "         111       0.75      1.00      0.86         3\n",
      "         112       1.00      1.00      1.00         3\n",
      "         113       0.62      1.00      0.77         5\n",
      "         114       1.00      1.00      1.00         7\n",
      "         115       1.00      1.00      1.00         1\n",
      "         116       1.00      1.00      1.00         8\n",
      "         117       1.00      1.00      1.00         3\n",
      "         118       1.00      0.75      0.86         4\n",
      "         119       0.75      1.00      0.86         3\n",
      "         120       1.00      1.00      1.00         1\n",
      "         121       0.60      1.00      0.75         3\n",
      "         122       1.00      1.00      1.00         2\n",
      "         123       1.00      1.00      1.00         2\n",
      "         124       0.67      1.00      0.80         2\n",
      "         125       1.00      1.00      1.00         4\n",
      "         126       1.00      1.00      1.00         6\n",
      "         127       1.00      1.00      1.00         4\n",
      "         128       1.00      1.00      1.00         2\n",
      "         129       1.00      1.00      1.00         6\n",
      "         130       1.00      1.00      1.00         2\n",
      "         131       1.00      1.00      1.00         2\n",
      "         132       1.00      0.60      0.75         5\n",
      "         133       0.67      1.00      0.80         2\n",
      "         134       1.00      1.00      1.00         6\n",
      "         135       1.00      1.00      1.00         4\n",
      "         136       0.83      1.00      0.91         5\n",
      "         137       1.00      1.00      1.00         5\n",
      "         138       0.60      1.00      0.75         3\n",
      "         139       1.00      0.50      0.67         2\n",
      "         140       1.00      1.00      1.00         4\n",
      "         141       1.00      1.00      1.00         3\n",
      "         142       1.00      1.00      1.00         3\n",
      "         143       1.00      1.00      1.00         4\n",
      "         144       1.00      1.00      1.00         2\n",
      "         145       1.00      1.00      1.00         3\n",
      "         146       1.00      1.00      1.00         6\n",
      "         147       1.00      1.00      1.00         6\n",
      "         148       0.50      1.00      0.67         1\n",
      "         149       1.00      1.00      1.00         4\n",
      "         150       1.00      1.00      1.00         4\n",
      "         151       1.00      1.00      1.00         5\n",
      "         152       1.00      1.00      1.00         1\n",
      "         153       1.00      1.00      1.00         4\n",
      "         154       1.00      1.00      1.00         6\n",
      "         155       1.00      0.67      0.80         3\n",
      "         157       1.00      1.00      1.00         2\n",
      "         158       1.00      1.00      1.00         2\n",
      "         159       1.00      1.00      1.00         2\n",
      "         160       1.00      1.00      1.00         2\n",
      "         161       1.00      1.00      1.00         3\n",
      "         162       1.00      0.80      0.89         5\n",
      "         163       1.00      1.00      1.00         2\n",
      "         164       1.00      1.00      1.00         3\n",
      "         165       0.75      0.75      0.75         4\n",
      "         166       0.75      1.00      0.86         3\n",
      "         167       1.00      1.00      1.00         3\n",
      "         168       1.00      1.00      1.00         4\n",
      "         169       1.00      0.67      0.80         3\n",
      "         170       1.00      1.00      1.00         6\n",
      "         171       0.80      1.00      0.89         4\n",
      "         172       1.00      1.00      1.00         7\n",
      "         173       1.00      0.80      0.89         5\n",
      "         174       1.00      1.00      1.00         2\n",
      "         175       1.00      1.00      1.00         2\n",
      "         176       1.00      1.00      1.00         4\n",
      "         177       1.00      1.00      1.00         5\n",
      "         178       1.00      1.00      1.00         7\n",
      "         179       1.00      1.00      1.00         3\n",
      "         180       1.00      0.67      0.80         3\n",
      "         181       1.00      1.00      1.00         5\n",
      "         182       1.00      1.00      1.00         3\n",
      "         183       0.50      1.00      0.67         2\n",
      "         184       1.00      1.00      1.00         4\n",
      "         185       1.00      1.00      1.00         1\n",
      "         186       1.00      1.00      1.00         4\n",
      "         187       1.00      1.00      1.00         6\n",
      "         188       0.50      0.75      0.60         4\n",
      "         189       1.00      0.75      0.86         4\n",
      "         190       1.00      1.00      1.00         1\n",
      "         191       1.00      1.00      1.00         4\n",
      "         192       1.00      0.50      0.67         6\n",
      "         193       1.00      1.00      1.00         4\n",
      "         194       0.80      1.00      0.89         4\n",
      "         195       1.00      1.00      1.00         2\n",
      "         196       1.00      1.00      1.00         4\n",
      "         197       0.67      1.00      0.80         2\n",
      "         198       0.83      1.00      0.91         5\n",
      "         199       1.00      1.00      1.00         5\n",
      "         200       1.00      1.00      1.00         1\n",
      "         201       1.00      1.00      1.00         3\n",
      "         202       1.00      1.00      1.00         4\n",
      "         203       1.00      0.80      0.89         5\n",
      "         204       1.00      1.00      1.00         3\n",
      "         205       1.00      1.00      1.00         3\n",
      "         206       1.00      1.00      1.00         4\n",
      "         207       1.00      1.00      1.00         1\n",
      "         208       0.67      1.00      0.80         4\n",
      "         209       1.00      0.50      0.67         6\n",
      "         210       1.00      1.00      1.00         1\n",
      "         211       1.00      1.00      1.00         6\n",
      "         212       0.83      0.83      0.83         6\n",
      "         213       1.00      0.75      0.86         4\n",
      "         214       1.00      1.00      1.00         5\n",
      "         215       1.00      0.43      0.60         7\n",
      "         216       1.00      0.83      0.91         6\n",
      "         217       1.00      1.00      1.00         5\n",
      "         218       1.00      1.00      1.00         4\n",
      "         219       0.75      0.75      0.75         4\n",
      "         220       1.00      1.00      1.00         5\n",
      "         221       1.00      0.83      0.91         6\n",
      "         222       1.00      1.00      1.00         2\n",
      "         223       1.00      1.00      1.00         4\n",
      "         224       1.00      1.00      1.00         2\n",
      "         226       1.00      1.00      1.00         5\n",
      "         227       1.00      1.00      1.00         4\n",
      "         228       0.75      0.75      0.75         4\n",
      "         229       1.00      1.00      1.00         3\n",
      "         230       1.00      0.83      0.91         6\n",
      "         231       1.00      1.00      1.00         2\n",
      "         232       1.00      1.00      1.00         3\n",
      "         233       0.89      1.00      0.94         8\n",
      "         234       1.00      1.00      1.00         7\n",
      "         235       1.00      1.00      1.00         7\n",
      "         236       1.00      1.00      1.00         4\n",
      "         237       1.00      1.00      1.00         4\n",
      "         238       1.00      1.00      1.00         2\n",
      "         239       1.00      1.00      1.00         5\n",
      "         240       1.00      1.00      1.00         1\n",
      "         241       1.00      0.67      0.80         3\n",
      "         242       1.00      1.00      1.00         4\n",
      "         243       0.83      1.00      0.91         5\n",
      "         244       1.00      1.00      1.00         5\n",
      "         245       1.00      1.00      1.00         4\n",
      "         246       1.00      1.00      1.00         2\n",
      "         247       1.00      1.00      1.00         4\n",
      "         248       1.00      1.00      1.00         4\n",
      "         249       1.00      1.00      1.00         2\n",
      "         250       1.00      1.00      1.00         3\n",
      "         251       1.00      1.00      1.00         1\n",
      "         252       1.00      1.00      1.00         3\n",
      "         253       0.86      1.00      0.92         6\n",
      "         254       1.00      1.00      1.00         1\n",
      "         255       1.00      0.80      0.89         5\n",
      "         256       1.00      1.00      1.00         4\n",
      "         257       1.00      0.50      0.67         4\n",
      "         258       1.00      1.00      1.00         1\n",
      "         259       1.00      1.00      1.00         4\n",
      "         260       1.00      0.75      0.86         4\n",
      "         261       1.00      1.00      1.00         3\n",
      "         262       1.00      1.00      1.00         4\n",
      "         263       1.00      1.00      1.00         1\n",
      "         264       1.00      1.00      1.00         2\n",
      "         265       1.00      1.00      1.00         2\n",
      "         266       1.00      1.00      1.00         2\n",
      "         267       0.86      1.00      0.92         6\n",
      "         268       1.00      1.00      1.00         5\n",
      "         269       1.00      0.83      0.91         6\n",
      "         270       1.00      1.00      1.00         2\n",
      "         271       1.00      1.00      1.00         6\n",
      "         272       0.50      0.67      0.57         3\n",
      "         273       0.67      0.50      0.57         4\n",
      "         274       1.00      1.00      1.00         2\n",
      "         275       1.00      1.00      1.00         3\n",
      "         276       1.00      1.00      1.00         4\n",
      "         277       1.00      1.00      1.00         4\n",
      "         278       0.50      1.00      0.67         1\n",
      "         279       1.00      1.00      1.00         3\n",
      "         280       1.00      1.00      1.00         3\n",
      "         281       1.00      1.00      1.00         4\n",
      "         282       1.00      1.00      1.00         4\n",
      "         283       0.80      1.00      0.89         4\n",
      "         284       1.00      1.00      1.00         7\n",
      "         285       1.00      1.00      1.00         4\n",
      "         286       1.00      1.00      1.00         2\n",
      "         287       1.00      1.00      1.00         3\n",
      "         288       1.00      1.00      1.00         5\n",
      "         289       1.00      1.00      1.00         5\n",
      "         290       1.00      1.00      1.00         3\n",
      "         291       1.00      1.00      1.00         2\n",
      "         292       1.00      1.00      1.00         3\n",
      "         293       1.00      1.00      1.00         4\n",
      "         294       1.00      1.00      1.00         6\n",
      "         295       0.86      1.00      0.92         6\n",
      "         296       1.00      1.00      1.00         3\n",
      "         297       1.00      1.00      1.00         3\n",
      "         298       1.00      1.00      1.00         2\n",
      "         299       1.00      1.00      1.00         4\n",
      "         300       0.75      1.00      0.86         3\n",
      "         301       1.00      1.00      1.00         5\n",
      "         302       1.00      1.00      1.00         2\n",
      "         303       1.00      1.00      1.00         4\n",
      "         304       1.00      1.00      1.00         8\n",
      "         305       1.00      1.00      1.00         6\n",
      "         306       1.00      1.00      1.00         4\n",
      "         307       0.80      1.00      0.89         4\n",
      "         308       1.00      0.80      0.89         5\n",
      "         309       1.00      1.00      1.00         2\n",
      "         310       1.00      1.00      1.00         3\n",
      "         311       1.00      0.83      0.91         6\n",
      "         312       1.00      1.00      1.00         2\n",
      "         313       0.75      1.00      0.86         3\n",
      "         314       1.00      1.00      1.00         1\n",
      "         315       1.00      1.00      1.00         1\n",
      "         316       0.60      1.00      0.75         3\n",
      "         317       1.00      1.00      1.00         3\n",
      "         318       1.00      1.00      1.00         4\n",
      "         319       1.00      1.00      1.00         3\n",
      "         320       1.00      1.00      1.00         2\n",
      "         321       1.00      1.00      1.00         5\n",
      "         322       1.00      1.00      1.00         4\n",
      "         323       1.00      1.00      1.00         4\n",
      "         324       1.00      1.00      1.00         2\n",
      "         325       1.00      1.00      1.00         6\n",
      "         326       1.00      1.00      1.00         4\n",
      "         327       1.00      1.00      1.00         4\n",
      "         328       1.00      1.00      1.00         4\n",
      "         329       1.00      1.00      1.00         3\n",
      "         330       1.00      1.00      1.00         4\n",
      "         331       1.00      1.00      1.00         4\n",
      "         332       1.00      1.00      1.00         6\n",
      "         333       1.00      1.00      1.00         7\n",
      "         334       1.00      1.00      1.00         3\n",
      "         335       1.00      0.80      0.89         5\n",
      "         336       1.00      1.00      1.00         3\n",
      "         337       1.00      1.00      1.00         5\n",
      "         338       1.00      0.83      0.91         6\n",
      "         339       1.00      1.00      1.00         4\n",
      "         340       1.00      0.50      0.67         4\n",
      "         341       1.00      0.67      0.80         3\n",
      "         342       1.00      1.00      1.00         2\n",
      "         343       1.00      0.83      0.91         6\n",
      "         344       1.00      1.00      1.00         2\n",
      "         345       1.00      1.00      1.00         4\n",
      "         346       1.00      1.00      1.00         7\n",
      "         347       1.00      1.00      1.00         2\n",
      "         348       0.67      1.00      0.80         2\n",
      "         349       0.00      0.00      0.00         0\n",
      "         350       0.60      1.00      0.75         3\n",
      "         351       1.00      1.00      1.00         1\n",
      "         352       1.00      1.00      1.00         3\n",
      "         353       1.00      1.00      1.00         6\n",
      "         354       1.00      1.00      1.00         3\n",
      "         355       0.80      1.00      0.89         4\n",
      "         356       0.86      1.00      0.92         6\n",
      "         357       1.00      1.00      1.00         7\n",
      "         358       1.00      1.00      1.00         4\n",
      "         359       0.33      1.00      0.50         1\n",
      "         360       1.00      1.00      1.00         4\n",
      "         361       1.00      1.00      1.00         1\n",
      "         362       1.00      1.00      1.00         2\n",
      "         363       1.00      1.00      1.00         6\n",
      "         364       1.00      1.00      1.00         5\n",
      "         365       1.00      1.00      1.00         1\n",
      "         366       1.00      1.00      1.00         1\n",
      "         367       1.00      1.00      1.00         3\n",
      "         368       1.00      1.00      1.00         1\n",
      "         369       1.00      1.00      1.00         4\n",
      "         370       1.00      0.67      0.80         3\n",
      "         371       1.00      1.00      1.00         5\n",
      "         372       1.00      1.00      1.00         3\n",
      "         373       1.00      1.00      1.00         3\n",
      "         374       1.00      1.00      1.00         2\n",
      "         375       1.00      1.00      1.00         6\n",
      "         376       0.83      1.00      0.91         5\n",
      "         377       1.00      1.00      1.00         7\n",
      "         378       0.88      1.00      0.93         7\n",
      "         379       0.60      1.00      0.75         3\n",
      "         380       1.00      1.00      1.00         2\n",
      "         381       1.00      1.00      1.00         1\n",
      "         382       1.00      1.00      1.00         4\n",
      "         383       0.75      1.00      0.86         3\n",
      "         384       1.00      1.00      1.00         5\n",
      "         385       1.00      1.00      1.00         3\n",
      "         386       1.00      1.00      1.00         3\n",
      "         387       1.00      1.00      1.00         2\n",
      "         388       1.00      1.00      1.00         9\n",
      "         389       1.00      0.60      0.75         5\n",
      "         390       0.50      0.67      0.57         3\n",
      "         391       1.00      1.00      1.00         5\n",
      "         392       1.00      1.00      1.00         6\n",
      "         393       1.00      1.00      1.00         2\n",
      "         394       1.00      1.00      1.00         6\n",
      "         395       1.00      1.00      1.00         2\n",
      "         396       1.00      1.00      1.00         6\n",
      "         397       1.00      0.75      0.86         4\n",
      "         398       1.00      0.83      0.91         6\n",
      "\n",
      "    accuracy                           0.95      1513\n",
      "   macro avg       0.95      0.95      0.95      1513\n",
      "weighted avg       0.96      0.95      0.95      1513\n",
      "\n"
     ]
    },
    {
     "name": "stderr",
     "output_type": "stream",
     "text": [
      "C:\\Users\\mstbl\\anaconda3\\Lib\\site-packages\\sklearn\\metrics\\_classification.py:1497: UndefinedMetricWarning: Recall is ill-defined and being set to 0.0 in labels with no true samples. Use `zero_division` parameter to control this behavior.\n",
      "  _warn_prf(average, modifier, f\"{metric.capitalize()} is\", len(result))\n",
      "C:\\Users\\mstbl\\anaconda3\\Lib\\site-packages\\sklearn\\metrics\\_classification.py:1497: UndefinedMetricWarning: Recall is ill-defined and being set to 0.0 in labels with no true samples. Use `zero_division` parameter to control this behavior.\n",
      "  _warn_prf(average, modifier, f\"{metric.capitalize()} is\", len(result))\n",
      "C:\\Users\\mstbl\\anaconda3\\Lib\\site-packages\\sklearn\\metrics\\_classification.py:1497: UndefinedMetricWarning: Recall is ill-defined and being set to 0.0 in labels with no true samples. Use `zero_division` parameter to control this behavior.\n",
      "  _warn_prf(average, modifier, f\"{metric.capitalize()} is\", len(result))\n"
     ]
    }
   ],
   "source": [
    "print(classification_report(y_test, y_pred))#, target_names = le.classes_))"
   ]
  },
  {
   "cell_type": "code",
   "execution_count": null,
   "id": "a7c1ca08",
   "metadata": {},
   "outputs": [],
   "source": []
  }
 ],
 "metadata": {
  "kernelspec": {
   "display_name": "Python 3 (ipykernel)",
   "language": "python",
   "name": "python3"
  },
  "language_info": {
   "codemirror_mode": {
    "name": "ipython",
    "version": 3
   },
   "file_extension": ".py",
   "mimetype": "text/x-python",
   "name": "python",
   "nbconvert_exporter": "python",
   "pygments_lexer": "ipython3",
   "version": "3.10.9"
  }
 },
 "nbformat": 4,
 "nbformat_minor": 5
}
